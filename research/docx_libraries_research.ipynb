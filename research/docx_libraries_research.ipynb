{
 "cells": [
  {
   "cell_type": "code",
   "execution_count": 7,
   "metadata": {},
   "outputs": [],
   "source": [
    "example_file = \"../examples/example_for_libraries.docx\""
   ]
  },
  {
   "cell_type": "markdown",
   "metadata": {},
   "source": [
    "## docx2txt\n",
    "\n",
    "[Ссылка](https://github.com/ankushshah89/python-docx2txt)\n",
    "* Нет метаданных\n",
    "* Нет списков"
   ]
  },
  {
   "cell_type": "code",
   "execution_count": 8,
   "metadata": {},
   "outputs": [],
   "source": [
    "import docx2txt\n",
    "\n",
    "result = docx2txt.process(example_file)"
   ]
  },
  {
   "cell_type": "code",
   "execution_count": 9,
   "metadata": {},
   "outputs": [
    {
     "name": "stdout",
     "output_type": "stream",
     "text": [
      "Example document\n",
      "\n",
      "Chapter 1\n",
      "\n",
      "Here we check simple text\n",
      "\n",
      "Chapter 1.1\n",
      "\n",
      "Here\n",
      "\n",
      "We\n",
      "\n",
      "Check\n",
      "\n",
      "Numeration\n",
      "\n",
      "Chapter 1.1.1\n",
      "\n",
      "HERE WE CHECK CAPS LETTERS\n",
      "\n",
      "Chapter 2\n",
      "\n",
      "Here we check custom styles\n",
      "\n",
      "Here we check custom \n",
      "\n",
      "style with numbering\n",
      "\n",
      "Chapter 2.1\n",
      "\n",
      "Here we check bold, italic, underlined, large font and small font.\n",
      "\n",
      "Center justification\n",
      "\n",
      "Both justification\n",
      "\n",
      "Right justification\n",
      "\n",
      "Chapter 2.1.1\n",
      "\n",
      "Here\n",
      "\n",
      "We\n",
      "\n",
      "Test\n",
      "\n",
      "Very\n",
      "\n",
      "Strange\n",
      "\n",
      "List\n"
     ]
    }
   ],
   "source": [
    "print(result)"
   ]
  },
  {
   "cell_type": "markdown",
   "metadata": {},
   "source": [
    "## python-docx\n",
    "\n",
    "[Ссылка](https://python-docx.readthedocs.io/en/latest/)\n",
    "\n",
    "* Нет списков\n",
    "\n",
    "* Нет некоторых метаданных: информация о жирности, курсиве, подчеркивании и размере шрифта (например, если в строке есть жирный и нежирный шрифт)\n",
    "\n",
    "* Есть информация об отступе и выравнивании\n",
    "\n",
    "* Извлекается жирность/курсив/подчеркивание/размер из стилей"
   ]
  },
  {
   "cell_type": "code",
   "execution_count": 52,
   "metadata": {},
   "outputs": [
    {
     "name": "stdout",
     "output_type": "stream",
     "text": [
      "Example document\n",
      "Chapter 1\n",
      "Here we check simple text\n",
      "Chapter 1.1\n",
      "Here\n",
      "We\n",
      "Check\n",
      "Numeration\n",
      "Chapter 1.1.1\n",
      "HERE WE CHECK CAPS LETTERS\n",
      "Chapter 2\n",
      "Here we check custom styles\n",
      "Here we check custom \n",
      "style with numbering\n",
      "Chapter 2.1\n",
      "Here we check bold, italic, underlined, large font and small font.\n",
      "Center justification\n",
      "Both justification\n",
      "Right justification\n",
      "Chapter 2.1.1\n",
      "Here\n",
      "We\n",
      "Test\n",
      "Very\n",
      "Strange\n",
      "List\n"
     ]
    }
   ],
   "source": [
    "import docx\n",
    " \n",
    "# open connection to Word Document\n",
    "doc = docx.Document(example_file)\n",
    "\n",
    "for p in doc.paragraphs:\n",
    "    print(p.text)"
   ]
  },
  {
   "cell_type": "code",
   "execution_count": 53,
   "metadata": {},
   "outputs": [
    {
     "name": "stdout",
     "output_type": "stream",
     "text": [
      "Here we check bold, italic, underlined, large font and small font.\n"
     ]
    }
   ],
   "source": [
    "paragraph = doc.paragraphs[15]\n",
    "print(paragraph.text)"
   ]
  },
  {
   "cell_type": "code",
   "execution_count": 54,
   "metadata": {},
   "outputs": [],
   "source": [
    "run = paragraph.runs[0]\n",
    "run.bold"
   ]
  },
  {
   "cell_type": "code",
   "execution_count": 55,
   "metadata": {},
   "outputs": [],
   "source": [
    "paragraph.style.font.bold"
   ]
  },
  {
   "cell_type": "code",
   "execution_count": 57,
   "metadata": {},
   "outputs": [
    {
     "name": "stdout",
     "output_type": "stream",
     "text": [
      "Example document\n"
     ]
    },
    {
     "data": {
      "text/plain": [
       "True"
      ]
     },
     "execution_count": 57,
     "metadata": {},
     "output_type": "execute_result"
    }
   ],
   "source": [
    "paragraph = doc.paragraphs[0]\n",
    "print(paragraph.text)\n",
    "paragraph.style.font.bold"
   ]
  },
  {
   "cell_type": "code",
   "execution_count": 60,
   "metadata": {},
   "outputs": [
    {
     "name": "stdout",
     "output_type": "stream",
     "text": [
      "Both justification\n"
     ]
    },
    {
     "data": {
      "text/plain": [
       "3"
      ]
     },
     "execution_count": 60,
     "metadata": {},
     "output_type": "execute_result"
    }
   ],
   "source": [
    "paragraph = doc.paragraphs[17]\n",
    "print(paragraph.text)\n",
    "paragraph.alignment"
   ]
  },
  {
   "cell_type": "code",
   "execution_count": 62,
   "metadata": {},
   "outputs": [],
   "source": [
    "paragraph.paragraph_format.left_indent"
   ]
  },
  {
   "cell_type": "markdown",
   "metadata": {},
   "source": [
    "## docx2python\n",
    "\n",
    "[Ссылка](https://pypi.org/project/docx2python/)\n",
    "\n",
    "* Нумерация извлекается, однако текст нумерации неправильный\n",
    "\n",
    "* Извлекается информация о жирности, курсиве, подчеркивании, размере шрифта, измененная явно в документе. Из стилей метаданные не извлекаются\n",
    "\n",
    "* Нет информации о выравнивании, отступах"
   ]
  },
  {
   "cell_type": "code",
   "execution_count": 70,
   "metadata": {},
   "outputs": [],
   "source": [
    "from docx2python import docx2python\n",
    "\n",
    "result = docx2python(example_file)"
   ]
  },
  {
   "cell_type": "code",
   "execution_count": 72,
   "metadata": {},
   "outputs": [
    {
     "name": "stdout",
     "output_type": "stream",
     "text": [
      "Example document\n",
      "\n",
      "Chapter 1\n",
      "\n",
      "Here we check simple text\n",
      "\n",
      "Chapter 1.1\n",
      "\n",
      "1)\tHere\n",
      "\n",
      "2)\tWe\n",
      "\n",
      "3)\tCheck\n",
      "\n",
      "4)\tNumeration\n",
      "\n",
      "Chapter 1.1.1\n",
      "\n",
      "HERE WE CHECK CAPS LETTERS\n",
      "\n",
      "Chapter 2\n",
      "\n",
      "Here we check custom styles\n",
      "\n",
      "--\tHere we check custom \n",
      "\n",
      "--\tstyle with numbering\n",
      "\n",
      "Chapter 2.1\n",
      "\n",
      "Here we check bold, italic, underlined, large font and small font.\n",
      "\n",
      "Center justification\n",
      "\n",
      "Both justification\n",
      "\n",
      "Right justification\n",
      "\n",
      "Chapter 2.1.1\n",
      "\n",
      "--\tHere\n",
      "\n",
      "--\tWe\n",
      "\n",
      "--\tTest\n",
      "\n",
      "--\tVery\n",
      "\n",
      "--\tStrange\n",
      "\n",
      "--\tList\n"
     ]
    }
   ],
   "source": [
    "print(result.text)"
   ]
  },
  {
   "cell_type": "code",
   "execution_count": 78,
   "metadata": {},
   "outputs": [
    {
     "data": {
      "text/plain": [
       "[[[['Example document',\n",
       "    'Chapter 1',\n",
       "    'Here we check simple text',\n",
       "    'Chapter 1.1',\n",
       "    '1)\\tHere',\n",
       "    '2)\\tWe',\n",
       "    '3)\\tCheck',\n",
       "    '4)\\tNumeration',\n",
       "    'Chapter 1.1.1',\n",
       "    'HERE WE CHECK CAPS LETTERS',\n",
       "    'Chapter 2',\n",
       "    'Here we check custom styles',\n",
       "    '--\\tHere we check custom ',\n",
       "    '--\\tstyle with numbering',\n",
       "    'Chapter 2.1',\n",
       "    'Here we check <b>bold</b>, <i>italic</i>, <u>underlined</u>, <font size=\"36\">large font</font> and <font size=\"16\">small font</font>.',\n",
       "    'Center justification',\n",
       "    'Both justification',\n",
       "    'Right justification',\n",
       "    'Chapter 2.1.1',\n",
       "    '--\\tHere',\n",
       "    '--\\tWe',\n",
       "    '--\\tTest',\n",
       "    '--\\tVery',\n",
       "    '--\\tStrange',\n",
       "    '--\\tList']]]]"
      ]
     },
     "execution_count": 78,
     "metadata": {},
     "output_type": "execute_result"
    }
   ],
   "source": [
    "result = docx2python(example_file, html=True)\n",
    "result.document"
   ]
  },
  {
   "cell_type": "markdown",
   "metadata": {},
   "source": [
    "## pydocx\n",
    "\n",
    "[Ссылка](https://github.com/CenterForOpenScience/pydocx)\n",
    "\n",
    "* Нет отступов, размера шрифта\n",
    "\n",
    "* Недостаточная информация о списках\n",
    "\n",
    "* Есть жирность, курсив, подчеркивание, выравнивание"
   ]
  },
  {
   "cell_type": "code",
   "execution_count": 80,
   "metadata": {},
   "outputs": [],
   "source": [
    "from pydocx import PyDocX\n",
    "\n",
    "html = PyDocX.to_html(example_file)"
   ]
  },
  {
   "cell_type": "code",
   "execution_count": 83,
   "metadata": {},
   "outputs": [
    {
     "name": "stdout",
     "output_type": "stream",
     "text": [
      "<html>\n",
      " <head>\n",
      "  <meta charset=\"utf-8\"/>\n",
      "  <style>\n",
      "   .pydocx-caps {text-transform:uppercase}.pydocx-center {text-align:center}.pydocx-comment {color:blue}.pydocx-delete {color:red;text-decoration:line-through}.pydocx-hidden {visibility:hidden}.pydocx-insert {color:green}.pydocx-left {text-align:left}.pydocx-list-style-type-cardinalText {list-style-type:decimal}.pydocx-list-style-type-decimal {list-style-type:decimal}.pydocx-list-style-type-decimalEnclosedCircle {list-style-type:decimal}.pydocx-list-style-type-decimalEnclosedFullstop {list-style-type:decimal}.pydocx-list-style-type-decimalEnclosedParen {list-style-type:decimal}.pydocx-list-style-type-decimalZero {list-style-type:decimal-leading-zero}.pydocx-list-style-type-lowerLetter {list-style-type:lower-alpha}.pydocx-list-style-type-lowerRoman {list-style-type:lower-roman}.pydocx-list-style-type-none {list-style-type:none}.pydocx-list-style-type-ordinalText {list-style-type:decimal}.pydocx-list-style-type-upperLetter {list-style-type:upper-alpha}.pydocx-list-style-type-upperRoman {list-style-type:upper-roman}.pydocx-right {text-align:right}.pydocx-small-caps {font-variant:small-caps}.pydocx-strike {text-decoration:line-through}.pydocx-tab {display:inline-block;width:4em}.pydocx-underline {text-decoration:underline}body {margin:0px auto;width:49.61em}\n",
      "  </style>\n",
      " </head>\n",
      " <body>\n",
      "  <h6>\n",
      "   Example document\n",
      "  </h6>\n",
      "  <h1>\n",
      "   Chapter 1\n",
      "  </h1>\n",
      "  <p>\n",
      "   Here we check simple text\n",
      "  </p>\n",
      "  <h2>\n",
      "   Chapter 1.1\n",
      "  </h2>\n",
      "  <ol class=\"pydocx-list-style-type-decimal\">\n",
      "   <li>\n",
      "    Here\n",
      "   </li>\n",
      "   <li>\n",
      "    We\n",
      "   </li>\n",
      "   <li>\n",
      "    Check\n",
      "   </li>\n",
      "   <li>\n",
      "    Numeration\n",
      "   </li>\n",
      "  </ol>\n",
      "  <h3>\n",
      "   Chapter 1.1.1\n",
      "  </h3>\n",
      "  <p>\n",
      "   HERE WE CHECK CAPS LETTERS\n",
      "  </p>\n",
      "  <h1>\n",
      "   Chapter 2\n",
      "  </h1>\n",
      "  <p>\n",
      "   <span class=\"pydocx-center\">\n",
      "    <em>\n",
      "     Here we check custom styles\n",
      "    </em>\n",
      "   </span>\n",
      "  </p>\n",
      "  <ul>\n",
      "   <li>\n",
      "    <em>\n",
      "     Here we check custom\n",
      "    </em>\n",
      "   </li>\n",
      "   <li>\n",
      "    <em>\n",
      "     style with numbering\n",
      "    </em>\n",
      "   </li>\n",
      "  </ul>\n",
      "  <h2>\n",
      "   Chapter 2.1\n",
      "  </h2>\n",
      "  <p>\n",
      "   Here we check\n",
      "   <strong>\n",
      "    bold\n",
      "   </strong>\n",
      "   ,\n",
      "   <em>\n",
      "    italic\n",
      "   </em>\n",
      "   ,\n",
      "   <span class=\"pydocx-underline\">\n",
      "    underlined\n",
      "   </span>\n",
      "   , large font and small font.\n",
      "  </p>\n",
      "  <p>\n",
      "   <span class=\"pydocx-center\">\n",
      "    Center justification\n",
      "   </span>\n",
      "  </p>\n",
      "  <p>\n",
      "   Both justification\n",
      "  </p>\n",
      "  <p>\n",
      "   Right justification\n",
      "  </p>\n",
      "  <h3>\n",
      "   Chapter 2.1.1\n",
      "  </h3>\n",
      "  <ul>\n",
      "   <li>\n",
      "    Here\n",
      "   </li>\n",
      "   <li>\n",
      "    We\n",
      "   </li>\n",
      "   <li>\n",
      "    Test\n",
      "   </li>\n",
      "   <li>\n",
      "    Very\n",
      "   </li>\n",
      "   <li>\n",
      "    Strange\n",
      "   </li>\n",
      "   <li>\n",
      "    List\n",
      "   </li>\n",
      "  </ul>\n",
      " </body>\n",
      "</html>\n"
     ]
    }
   ],
   "source": [
    "from bs4 import BeautifulSoup\n",
    "\n",
    "print(BeautifulSoup(html).prettify())"
   ]
  },
  {
   "cell_type": "markdown",
   "metadata": {},
   "source": [
    "## DOCXParser"
   ]
  },
  {
   "cell_type": "code",
   "execution_count": 84,
   "metadata": {},
   "outputs": [],
   "source": [
    "from docx_parser.document_parser import DOCXParser\n",
    "\n",
    "parser = DOCXParser()\n",
    "parser.parse(example_file)"
   ]
  },
  {
   "cell_type": "code",
   "execution_count": 85,
   "metadata": {},
   "outputs": [
    {
     "data": {
      "text/plain": [
       "[{'text': 'Example document',\n",
       "  'level': None,\n",
       "  'uid': '8a94c950bb271928c3d3ceec3a5350da',\n",
       "  'type': 'raw_text',\n",
       "  'annotations': [('indentation', 0, 16, '0'),\n",
       "   ('alignment', 0, 16, 'center'),\n",
       "   ('bold', 0, 16, 'True'),\n",
       "   ('size', 0, 16, '28.0'),\n",
       "   ('style', 0, 16, 'title')]},\n",
       " {'text': 'Chapter 1',\n",
       "  'level': (2, 1),\n",
       "  'uid': '9369ca548667f67a6840eb413c74b349',\n",
       "  'type': 'style_header',\n",
       "  'annotations': [('indentation', 0, 9, '0'),\n",
       "   ('alignment', 0, 9, 'right'),\n",
       "   ('bold', 0, 9, 'True'),\n",
       "   ('size', 0, 9, '18.0'),\n",
       "   ('style', 0, 9, 'heading 1')]},\n",
       " {'text': 'Here we check simple text',\n",
       "  'level': None,\n",
       "  'uid': '067d7972573ddad954ca2a7eadcb41f9',\n",
       "  'type': 'raw_text',\n",
       "  'annotations': [('indentation', 0, 25, '0'),\n",
       "   ('alignment', 0, 25, 'right'),\n",
       "   ('size', 0, 25, '12.0'),\n",
       "   ('style', 0, 25, 'body text')]},\n",
       " {'text': 'Chapter 1.1',\n",
       "  'level': (2, 1),\n",
       "  'uid': 'd67dddd3821a1392db447aa4fd59a975',\n",
       "  'type': 'style_header',\n",
       "  'annotations': [('indentation', 0, 11, '0'),\n",
       "   ('alignment', 0, 11, 'right'),\n",
       "   ('bold', 0, 11, 'True'),\n",
       "   ('size', 0, 11, '16.0'),\n",
       "   ('style', 0, 11, 'heading 2')]},\n",
       " {'text': '1.\\tHere',\n",
       "  'level': (2, 2),\n",
       "  'uid': '1c1ce6b3f598d0e3f65dc6d8197ff02f',\n",
       "  'type': 'list_item',\n",
       "  'annotations': [('indentation', 0, 7, '0'),\n",
       "   ('alignment', 0, 7, 'right'),\n",
       "   ('size', 0, 7, '12.0'),\n",
       "   ('style', 0, 7, 'body text')]},\n",
       " {'text': '2.\\tWe',\n",
       "  'level': (2, 2),\n",
       "  'uid': 'c8d41d4f928f6bd1d1f8d0f5041bcf92',\n",
       "  'type': 'list_item',\n",
       "  'annotations': [('indentation', 0, 5, '0'),\n",
       "   ('alignment', 0, 5, 'right'),\n",
       "   ('size', 0, 5, '12.0'),\n",
       "   ('style', 0, 5, 'body text')]},\n",
       " {'text': '3.\\tCheck',\n",
       "  'level': (2, 2),\n",
       "  'uid': 'ca1828326ed5a01c5454762144a4508e',\n",
       "  'type': 'list_item',\n",
       "  'annotations': [('indentation', 0, 8, '0'),\n",
       "   ('alignment', 0, 8, 'right'),\n",
       "   ('size', 0, 8, '12.0'),\n",
       "   ('style', 0, 8, 'body text')]},\n",
       " {'text': '4.\\tNumeration',\n",
       "  'level': (2, 2),\n",
       "  'uid': '6bbe2f862aa3452135472dbf0e854549',\n",
       "  'type': 'list_item',\n",
       "  'annotations': [('indentation', 0, 13, '0'),\n",
       "   ('alignment', 0, 13, 'right'),\n",
       "   ('size', 0, 13, '12.0'),\n",
       "   ('style', 0, 13, 'body text')]},\n",
       " {'text': 'Chapter 1.1.1',\n",
       "  'level': (2, 1),\n",
       "  'uid': '955922defd268d09f5b810710fde96fa',\n",
       "  'type': 'style_header',\n",
       "  'annotations': [('indentation', 0, 13, '0'),\n",
       "   ('alignment', 0, 13, 'right'),\n",
       "   ('bold', 0, 13, 'True'),\n",
       "   ('size', 0, 13, '14.0'),\n",
       "   ('style', 0, 13, 'heading 3')]},\n",
       " {'text': 'HERE WE CHECK CAPS LETTERS',\n",
       "  'level': None,\n",
       "  'uid': '7b2b0405f4cebf4211521fffe22ab368',\n",
       "  'type': 'raw_text',\n",
       "  'annotations': [('indentation', 0, 26, '0'),\n",
       "   ('alignment', 0, 26, 'right'),\n",
       "   ('size', 0, 26, '12.0'),\n",
       "   ('style', 0, 26, 'body text')]},\n",
       " {'text': 'Chapter 2',\n",
       "  'level': (2, 1),\n",
       "  'uid': '8546db1399ae756f22def811d4aba123',\n",
       "  'type': 'style_header',\n",
       "  'annotations': [('indentation', 0, 9, '0'),\n",
       "   ('alignment', 0, 9, 'right'),\n",
       "   ('bold', 0, 9, 'True'),\n",
       "   ('size', 0, 9, '18.0'),\n",
       "   ('style', 0, 9, 'heading 1')]},\n",
       " {'text': 'Here we check custom styles',\n",
       "  'level': None,\n",
       "  'uid': '3f40b8e6365641707a9185ad2ec56a31',\n",
       "  'type': 'raw_text',\n",
       "  'annotations': [('indentation', 0, 27, '0'),\n",
       "   ('alignment', 0, 27, 'center'),\n",
       "   ('italic', 0, 27, 'True'),\n",
       "   ('size', 0, 27, '13.0'),\n",
       "   ('style', 0, 27, 'custom style')]},\n",
       " {'text': '−\\tHere we check custom ',\n",
       "  'level': (2, 1),\n",
       "  'uid': 'de7dc7968d28014c1ce9ca666b33e5af',\n",
       "  'type': 'list_item',\n",
       "  'annotations': [('indentation', 0, 23, '0'),\n",
       "   ('alignment', 0, 23, 'center'),\n",
       "   ('italic', 0, 23, 'True'),\n",
       "   ('size', 0, 23, '13.0'),\n",
       "   ('style', 0, 23, 'custom style with numbering')]},\n",
       " {'text': '−\\tstyle with numbering',\n",
       "  'level': (2, 1),\n",
       "  'uid': 'b24480dc85df0b682f9349a0f1aefed8',\n",
       "  'type': 'list_item',\n",
       "  'annotations': [('indentation', 0, 22, '0'),\n",
       "   ('alignment', 0, 22, 'center'),\n",
       "   ('italic', 0, 22, 'True'),\n",
       "   ('size', 0, 22, '13.0'),\n",
       "   ('style', 0, 22, 'custom style with numbering')]},\n",
       " {'text': 'Chapter 2.1',\n",
       "  'level': (2, 1),\n",
       "  'uid': '589786bb0556c362ff9f7dea3e1e1d00',\n",
       "  'type': 'style_header',\n",
       "  'annotations': [('indentation', 0, 11, '0'),\n",
       "   ('alignment', 0, 11, 'right'),\n",
       "   ('bold', 0, 11, 'True'),\n",
       "   ('size', 0, 11, '16.0'),\n",
       "   ('style', 0, 11, 'heading 2')]},\n",
       " {'text': 'Here we check bold, italic, underlined, large font and small font.',\n",
       "  'level': None,\n",
       "  'uid': 'ded032c4ce049f6914df555bc5a3a814',\n",
       "  'type': 'raw_text',\n",
       "  'annotations': [('indentation', 0, 66, '0'),\n",
       "   ('alignment', 0, 66, 'right'),\n",
       "   ('bold', 14, 18, 'True'),\n",
       "   ('italic', 20, 26, 'True'),\n",
       "   ('underlined', 28, 38, 'True'),\n",
       "   ('size', 0, 40, '12.0'),\n",
       "   ('size', 40, 50, '18.0'),\n",
       "   ('size', 50, 55, '12.0'),\n",
       "   ('size', 55, 65, '8.0'),\n",
       "   ('size', 65, 66, '12.0'),\n",
       "   ('style', 0, 66, 'body text')]},\n",
       " {'text': 'Center justification',\n",
       "  'level': None,\n",
       "  'uid': '09eae0abc6ab488cd109eb7ff26adf8b',\n",
       "  'type': 'raw_text',\n",
       "  'annotations': [('indentation', 0, 20, '0'),\n",
       "   ('alignment', 0, 20, 'center'),\n",
       "   ('size', 0, 20, '12.0'),\n",
       "   ('style', 0, 20, 'body text')]},\n",
       " {'text': 'Both justification',\n",
       "  'level': None,\n",
       "  'uid': '11903bdae0021294933d713ae9f00272',\n",
       "  'type': 'raw_text',\n",
       "  'annotations': [('indentation', 0, 18, '0'),\n",
       "   ('alignment', 0, 18, 'both'),\n",
       "   ('size', 0, 18, '12.0'),\n",
       "   ('style', 0, 18, 'body text')]},\n",
       " {'text': 'Right justification',\n",
       "  'level': None,\n",
       "  'uid': 'e6c37cb996ce5b9e735f3ba8d6931d5f',\n",
       "  'type': 'raw_text',\n",
       "  'annotations': [('indentation', 0, 19, '0'),\n",
       "   ('alignment', 0, 19, 'left'),\n",
       "   ('size', 0, 19, '12.0'),\n",
       "   ('style', 0, 19, 'body text')]},\n",
       " {'text': 'Chapter 2.1.1',\n",
       "  'level': (2, 1),\n",
       "  'uid': '7e13a5e91614a115dcbfa4a253c1b341',\n",
       "  'type': 'style_header',\n",
       "  'annotations': [('indentation', 0, 13, '0'),\n",
       "   ('alignment', 0, 13, 'right'),\n",
       "   ('bold', 0, 13, 'True'),\n",
       "   ('size', 0, 13, '14.0'),\n",
       "   ('style', 0, 13, 'heading 3')]},\n",
       " {'text': '⎝\\tHere',\n",
       "  'level': (2, 1),\n",
       "  'uid': '098d92aa618f7c566f3b0f397d5de8e0',\n",
       "  'type': 'list_item',\n",
       "  'annotations': [('indentation', 0, 6, '0'),\n",
       "   ('alignment', 0, 6, 'right'),\n",
       "   ('size', 0, 6, '12.0'),\n",
       "   ('style', 0, 6, 'body text')]},\n",
       " {'text': '⎝\\tWe',\n",
       "  'level': (2, 1),\n",
       "  'uid': 'e6e3e6cd0b89a39df2ef4edaf58de2c7',\n",
       "  'type': 'list_item',\n",
       "  'annotations': [('indentation', 0, 4, '0'),\n",
       "   ('alignment', 0, 4, 'right'),\n",
       "   ('size', 0, 4, '12.0'),\n",
       "   ('style', 0, 4, 'body text')]},\n",
       " {'text': '⎝\\tTest',\n",
       "  'level': (2, 1),\n",
       "  'uid': 'a324d639188b566e252dbd92fe820f25',\n",
       "  'type': 'list_item',\n",
       "  'annotations': [('indentation', 0, 6, '0'),\n",
       "   ('alignment', 0, 6, 'right'),\n",
       "   ('size', 0, 6, '12.0'),\n",
       "   ('style', 0, 6, 'body text')]},\n",
       " {'text': '⎝\\tVery',\n",
       "  'level': (2, 1),\n",
       "  'uid': 'b74f52d543694a0fde3d02a3e0cc2e90',\n",
       "  'type': 'list_item',\n",
       "  'annotations': [('indentation', 0, 6, '0'),\n",
       "   ('alignment', 0, 6, 'right'),\n",
       "   ('size', 0, 6, '12.0'),\n",
       "   ('style', 0, 6, 'body text')]},\n",
       " {'text': '⎝\\tStrange',\n",
       "  'level': (2, 1),\n",
       "  'uid': '5340391f50af460319e82f4224f5ffdd',\n",
       "  'type': 'list_item',\n",
       "  'annotations': [('indentation', 0, 9, '0'),\n",
       "   ('alignment', 0, 9, 'right'),\n",
       "   ('size', 0, 9, '12.0'),\n",
       "   ('style', 0, 9, 'body text')]},\n",
       " {'text': '⎝\\tList',\n",
       "  'level': (2, 1),\n",
       "  'uid': '61807cbaf7ab420816bf70b79b0787c6',\n",
       "  'type': 'list_item',\n",
       "  'annotations': [('indentation', 0, 6, '0'),\n",
       "   ('alignment', 0, 6, 'right'),\n",
       "   ('size', 0, 6, '12.0'),\n",
       "   ('style', 0, 6, 'body text')]}]"
      ]
     },
     "execution_count": 85,
     "metadata": {},
     "output_type": "execute_result"
    }
   ],
   "source": [
    "parser.get_lines_with_meta()"
   ]
  },
  {
   "cell_type": "code",
   "execution_count": null,
   "metadata": {},
   "outputs": [],
   "source": []
  }
 ],
 "metadata": {
  "kernelspec": {
   "display_name": "Python 3",
   "language": "python",
   "name": "python3"
  },
  "language_info": {
   "codemirror_mode": {
    "name": "ipython",
    "version": 3
   },
   "file_extension": ".py",
   "mimetype": "text/x-python",
   "name": "python",
   "nbconvert_exporter": "python",
   "pygments_lexer": "ipython3",
   "version": "3.8.5"
  }
 },
 "nbformat": 4,
 "nbformat_minor": 4
}