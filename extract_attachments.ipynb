{
 "cells": [
  {
   "cell_type": "code",
   "execution_count": 1,
   "metadata": {},
   "outputs": [],
   "source": [
    "import zipfile\n",
    "import olefile"
   ]
  },
  {
   "cell_type": "code",
   "execution_count": 2,
   "metadata": {},
   "outputs": [],
   "source": [
    "file = 'examples/with_attachments_3.docx'"
   ]
  },
  {
   "cell_type": "code",
   "execution_count": 3,
   "metadata": {},
   "outputs": [],
   "source": [
    "document = zipfile.ZipFile(file)"
   ]
  },
  {
   "cell_type": "code",
   "execution_count": 4,
   "metadata": {},
   "outputs": [
    {
     "data": {
      "text/plain": [
       "['[Content_Types].xml',\n",
       " '_rels/.rels',\n",
       " 'word/_rels/document.xml.rels',\n",
       " 'word/document.xml',\n",
       " 'word/media/image1.emf',\n",
       " 'word/embeddings/_____Microsoft_Excel______________________.xlsm',\n",
       " 'word/media/image16.emf',\n",
       " 'word/media/image15.gif',\n",
       " 'word/embeddings/oleObject2.bin',\n",
       " 'word/media/image17.emf',\n",
       " 'word/embeddings/_____Microsoft_Excel.xlsx',\n",
       " 'word/media/image18.emf',\n",
       " 'word/theme/theme1.xml',\n",
       " 'word/embeddings/_________Microsoft_Visio.vsdx',\n",
       " 'word/media/image19.emf',\n",
       " 'word/embeddings/_________Microsoft_Word1.docx',\n",
       " 'word/media/image13.emf',\n",
       " 'word/media/image14.png',\n",
       " 'word/media/image12.emf',\n",
       " 'word/media/image5.jpeg',\n",
       " 'word/embeddings/oleObject1.bin',\n",
       " 'word/media/image3.jpeg',\n",
       " 'word/media/image2.jpeg',\n",
       " 'word/embeddings/_________Microsoft_Word.docx',\n",
       " 'word/media/image6.jpeg',\n",
       " 'word/media/image4.jpeg',\n",
       " 'word/media/image8.jpeg',\n",
       " 'word/media/image7.jpeg',\n",
       " 'word/media/image11.jpeg',\n",
       " 'word/media/image9.jpeg',\n",
       " 'word/media/image10.jpeg',\n",
       " 'word/settings.xml',\n",
       " 'word/styles.xml',\n",
       " 'word/webSettings.xml',\n",
       " 'docProps/core.xml',\n",
       " 'word/fontTable.xml',\n",
       " 'docProps/app.xml']"
      ]
     },
     "execution_count": 4,
     "metadata": {},
     "output_type": "execute_result"
    }
   ],
   "source": [
    "document.namelist()"
   ]
  },
  {
   "cell_type": "code",
   "execution_count": 5,
   "metadata": {},
   "outputs": [
    {
     "data": {
      "text/plain": [
       "[['\\x01CompObj'], ['\\x01Ole10Native'], ['\\x03EPRINT'], ['\\x03ObjInfo']]"
      ]
     },
     "execution_count": 5,
     "metadata": {},
     "output_type": "execute_result"
    }
   ],
   "source": [
    "f = document.open('word/embeddings/oleObject1.bin')\n",
    "ole = olefile.OleFileIO(f)\n",
    "ole.listdir()"
   ]
  },
  {
   "cell_type": "code",
   "execution_count": 7,
   "metadata": {},
   "outputs": [
    {
     "data": {
      "text/plain": [
       "b'\\xb4\\x1d\\x00\\x00\\x02\\x00eiler.json\\x00C:\\\\Users\\\\dronp\\\\Desktop\\\\Programforyou\\\\mironov\\\\eiler.json\\x00\\x00\\x00\\x03\\x00-\\x00\\x00\\x00C:\\\\Users\\\\dronp\\\\AppData\\\\Local\\\\Temp\\\\eiler.json\\x00P\\x1c\\x00\\x00{\"blocks\":[{\"x\":960,\"y\":10,\"text\":\"dy(x)\",\"width\":100,\"height\":40,\"typ'"
      ]
     },
     "execution_count": 7,
     "metadata": {},
     "output_type": "execute_result"
    }
   ],
   "source": [
    "ole.openstream('\\x01Ole10Native').read()[:200]"
   ]
  },
  {
   "cell_type": "markdown",
   "metadata": {},
   "source": [
    "### Extract contents from olefile"
   ]
  },
  {
   "cell_type": "markdown",
   "metadata": {},
   "source": [
    "https://stackoverflow.com/questions/43154439/python-access-embedded-ole-from-office-excel-document-without-clipboard/43409617"
   ]
  },
  {
   "cell_type": "code",
   "execution_count": 8,
   "metadata": {},
   "outputs": [],
   "source": [
    "stream = ole.openstream('\\x01Ole10Native').read()\n",
    "# original filename in ANSI starts at byte 7 and is null terminated\n",
    "stream = stream[6:]\n",
    "filename = \"\"\n",
    "for ord_chr in stream:\n",
    "    if ord_chr == 0:\n",
    "        break\n",
    "    filename += chr(ord_chr)\n",
    "stream = stream[len(filename) + 1:]\n",
    "filepath = \"\"\n",
    "# original filepath in ANSI is next and is null terminated\n",
    "for ord_chr in stream:\n",
    "    if ord_chr == 0:\n",
    "        break\n",
    "    filepath += chr(ord_chr)\n",
    "# next 4 bytes is unused\n",
    "stream = stream[len(filepath) + 1 + 4:]"
   ]
  },
  {
   "cell_type": "code",
   "execution_count": 9,
   "metadata": {},
   "outputs": [
    {
     "data": {
      "text/plain": [
       "('eiler.json', 'C:\\\\Users\\\\dronp\\\\Desktop\\\\Programforyou\\\\mironov\\\\eiler.json')"
      ]
     },
     "execution_count": 9,
     "metadata": {},
     "output_type": "execute_result"
    }
   ],
   "source": [
    "filename, filepath"
   ]
  },
  {
   "cell_type": "code",
   "execution_count": 10,
   "metadata": {},
   "outputs": [
    {
     "data": {
      "text/plain": [
       "45"
      ]
     },
     "execution_count": 10,
     "metadata": {},
     "output_type": "execute_result"
    }
   ],
   "source": [
    "# size of the temporary file path in ANSI in little endian\n",
    "temporary_filepath_size = 0\n",
    "temporary_filepath_size |= stream[0] << 0\n",
    "temporary_filepath_size |= stream[1] << 8\n",
    "temporary_filepath_size |= stream[2] << 16\n",
    "temporary_filepath_size |= stream[3] << 24\n",
    "temporary_filepath_size"
   ]
  },
  {
   "cell_type": "code",
   "execution_count": 11,
   "metadata": {},
   "outputs": [
    {
     "data": {
      "text/plain": [
       "'C:\\\\Users\\\\dronp\\\\AppData\\\\Local\\\\Temp\\\\eiler.json'"
      ]
     },
     "execution_count": 11,
     "metadata": {},
     "output_type": "execute_result"
    }
   ],
   "source": [
    "stream = stream[4:]\n",
    "temporary_filepath = \"\"\n",
    "for i in range(temporary_filepath_size - 1):\n",
    "    temporary_filepath += chr(stream[i])\n",
    "stream = stream[temporary_filepath_size:]\n",
    "temporary_filepath"
   ]
  },
  {
   "cell_type": "code",
   "execution_count": 12,
   "metadata": {},
   "outputs": [
    {
     "data": {
      "text/plain": [
       "b'{\"blocks\":[{\"x\":960,\"y\":10,\"text\":\"dy(x)\",\"width\":100,\"height\":40,\"type\":\"\\xd0\\x9f\\xd0\\xbe\\xd0\\xb4\\xd0\\xbf\\xd1\\x80\\xd0\\xbe\\xd0\\xb3\\xd1\\x80\\xd0\\xb0\\xd0\\xbc\\xd0\\xbc\\xd0\\xb0\",\"isMenuBlock\":false,\"fontSize\":14,\"textHeight\":14,\"isBold\":false,\"isItalic\":false},{\"x\":960,\"y\":70,\"text\":\"\\xd0\\xb2\\xd0\\xb5\\xd1\\x80\\xd0\\xbd\\xd1\\x83\\xd1\\x82\\xd1\\x8c x\",\"width\":100,\"height\":30,\"type\":\"\\xd0\\x9d\\xd0\\xb0\\xd1\\x87\\xd0\\xb0\\xd0\\xbb\\xd0\\xbe / \\xd0\\xba\\xd0\\xbe\\xd0\\xbd\\xd0\\xb5\\xd1\\x86\",\"isMenuBlock\":false,\"fontSize\":14,\"textHeight\":14,\"isBold\":false,\"isItalic\":false},{\"x\":960,\"y\":170,\"text\":\"dx(y, x, t, a1, a2, a3, a4, a5)\",\"width\":190,\"height\":40,\"type\":\"\\xd0\\x9f\\xd0\\xbe\\xd0\\xb4\\xd0\\xbf\\xd1\\x80\\xd0\\xbe\\xd0\\xb3\\xd1\\x80\\xd0\\xb0\\xd0\\xbc\\xd0\\xbc\\xd0\\xb0\",\"isMenuBlock\":false,\"fontSize\":14,\"textHeight\":14,\"isBold\":false,\"isItalic\":false},{\"x\":960,\"y\":230,\"text\":\"\\xd0\\xb2\\xd0\\xb5\\xd1\\x80\\xd0\\xbd\\xd1\\x83\\xd1\\x82\\xd1\\x8c (a4 + a5 * t - a3 * y - a2 * x) / a1\",\"width\":260,\"height\":30,\"type\":\"\\xd0\\x9d\\xd0\\xb0\\xd1\\x87\\xd0\\xb0\\xd0\\xbb\\xd0\\xbe / \\xd0\\xba\\xd0\\xbe\\xd0\\xbd\\xd0\\xb5\\xd1\\x86\",\"isMenuBlock\":false,\"fontSize\":14,\"textHeight\":14,\"isBold\":false,\"isItalic\":false},{\"x\":960,\"y\":330,\"text\":\"\\xd0\\xbd\\xd0\\xb0\\xd1\\x87\\xd0\\xb0\\xd0\\xbb\\xd0\\xbe\",\"width\":100,\"height\":30,\"type\":\"\\xd0\\x9d\\xd0\\xb0\\xd1\\x87\\xd0\\xb0\\xd0\\xbb\\xd0\\xbe / \\xd0\\xba\\xd0\\xbe\\xd0\\xbd\\xd0\\xb5\\xd1\\x86\",\"isMenuBlock\":false,\"fontSize\":14,\"textHeight\":14,\"isBold\":false,\"isItalic\":false},{\"x\":960,\"y\":390,\"text\":\"\\xd0\\xb2\\xd1\\x8b\\xd0\\xb2\\xd0\\xbe\\xd0\\xb4 \\'\\xd0\\x92\\xd0\\xb2\\xd0\\xb5\\xd0\\xb4\\xd0\\xb8\\xd1\\x82\\xd0\\xb5 a: \\'\",\"width\":150,\"height\":40,\"type\":\"\\xd0\\x92\\xd0\\xb2\\xd0\\xbe\\xd0\\xb4 / \\xd0\\xb2\\xd1\\x8b\\xd0\\xb2\\xd0\\xbe\\xd0\\xb4\",\"isMenuBlock\":false,\"fontSize\":14,\"textHeight\":14,\"isBold\":false,\"isItalic\":false},{\"x\":960,\"y\":450,\"text\":\"\\xd0\\xb2\\xd0\\xb2\\xd0\\xbe\\xd0\\xb4 a1, a2, a3, a4, a5\",\"width\":170,\"height\":40,\"type\":\"\\xd0\\x92\\xd0\\xb2\\xd0\\xbe\\xd0\\xb4 / \\xd0\\xb2\\xd1\\x8b\\xd0\\xb2\\xd0\\xbe\\xd0\\xb4\",\"isMenuBlock\":false,\"fontSize\":14,\"textHeight\":14,\"isBold\":false,\"isItalic\":false},{\"x\":960,\"y\":510,\"text\":\"\\xd0\\xb2\\xd1\\x8b\\xd0\\xb2\\xd0\\xbe\\xd0\\xb4 \\'\\xd0\\x92\\xd0\\xb2\\xd0\\xb5\\xd0\\xb4\\xd0\\xb8\\xd1\\x82\\xd0\\xb5 t0, tn, h: \\'\",\"width\":190,\"height\":40,\"type\":\"\\xd0\\x92\\xd0\\xb2\\xd0\\xbe\\xd0\\xb4 / \\xd0\\xb2\\xd1\\x8b\\xd0\\xb2\\xd0\\xbe\\xd0\\xb4\",\"isMenuBlock\":false,\"fontSize\":14,\"textHeight\":14,\"isBold\":false,\"isItalic\":false},{\"x\":960,\"y\":570,\"text\":\"\\xd0\\xb2\\xd0\\xb2\\xd0\\xbe\\xd0\\xb4 t0, tn, h\",\"width\":110,\"height\":40,\"type\":\"\\xd0\\x92\\xd0\\xb2\\xd0\\xbe\\xd0\\xb4 / \\xd0\\xb2\\xd1\\x8b\\xd0\\xb2\\xd0\\xbe\\xd0\\xb4\",\"isMenuBlock\":false,\"fontSize\":14,\"textHeight\":14,\"isBold\":false,\"isItalic\":false},{\"x\":960,\"y\":630,\"text\":\"\\xd0\\xb2\\xd1\\x8b\\xd0\\xb2\\xd0\\xbe\\xd0\\xb4 \\'\\xd0\\x92\\xd0\\xb2\\xd0\\xb5\\xd0\\xb4\\xd0\\xb8\\xd1\\x82\\xd0\\xb5 \\xd0\\xbd\\xd0\\xb0\\xd1\\x87. \\xd1\\x83\\xd1\\x81\\xd0\\xbb\\xd0\\xbe\\xd0\\xb2\\xd0\\xb8\\xd1\\x8f: \\'\",\"width\":220,\"height\":40,\"type\":\"\\xd0\\x92\\xd0\\xb2\\xd0\\xbe\\xd0\\xb4 / \\xd0\\xb2\\xd1\\x8b\\xd0\\xb2\\xd0\\xbe\\xd0\\xb4\",\"isMenuBlock\":false,\"fontSize\":14,\"textHeight\":14,\"isBold\":false,\"isItalic\":false},{\"x\":960,\"y\":690,\"text\":\"\\xd0\\xb2\\xd0\\xb2\\xd0\\xbe\\xd0\\xb4 y0, yy0\",\"width\":100,\"height\":40,\"type\":\"\\xd0\\x92\\xd0\\xb2\\xd0\\xbe\\xd0\\xb4 / \\xd0\\xb2\\xd1\\x8b\\xd0\\xb2\\xd0\\xbe\\xd0\\xb4\",\"isMenuBlock\":false,\"fontSize\":14,\"textHeight\":14,\"isBold\":false,\"isItalic\":false},{\"x\":960,\"y\":780,\"text\":\"n := ceil((tn - t0) / h) + 1\\\\nSetLength(x, n)\\\\nSetLength(y, n)\\\\nx[0] := yy0\\\\ny[0] := y0\\\\nt := t0\",\"width\":150,\"height\":100,\"type\":\"\\xd0\\x91\\xd0\\xbb\\xd0\\xbe\\xd0\\xba\",\"isMenuBlock\":false,\"fontSize\":14,\"textHeight\":14,\"isBold\":false,\"isItalic\":false},{\"x\":960,\"y\":870,\"text\":\"i := 1 to n - 1\",\"width\":100,\"height\":40,\"type\":\"\\xd0\\xa6\\xd0\\xb8\\xd0\\xba\\xd0\\xbb for\",\"isMenuBlock\":false,\"fontSize\":14,\"textHeight\":14,\"isBold\":false,\"isItalic\":false},{\"x\":960,\"y\":940,\"text\":\"x[i] := x[i - 1] + h * dx(y[i - 1], x[i - 1], t, a1, a2, a3, a4, a5)\\\\ny[i] := y[i - 1] + h * dy(x[i - 1])\\\\nt := t + h\",\"width\":350,\"height\":60,\"type\":\"\\xd0\\x91\\xd0\\xbb\\xd0\\xbe\\xd0\\xba\",\"isMenuBlock\":false,\"fontSize\":14,\"textHeight\":14,\"isBold\":false,\"isItalic\":false},{\"x\":960,\"y\":1140,\"text\":\"t := t0\",\"width\":100,\"height\":40,\"type\":\"\\xd0\\x91\\xd0\\xbb\\xd0\\xbe\\xd0\\xba\",\"isMenuBlock\":false,\"fontSize\":14,\"textHeight\":14,\"isBold\":false,\"isItalic\":false},{\"x\":960,\"y\":1200,\"text\":\"i := 0 to n - 1\",\"width\":100,\"height\":40,\"type\":\"\\xd0\\xa6\\xd0\\xb8\\xd0\\xba\\xd0\\xbb for\",\"isMenuBlock\":false,\"fontSize\":14,\"textHeight\":14,\"isBold\":false,\"isItalic\":false},{\"x\":960,\"y\":1260,\"text\":\"\\xd0\\xb2\\xd1\\x8b\\xd0\\xb2\\xd0\\xbe\\xd0\\xb4 \\'| \\', t:15:10, \\' | \\', y[i]:15:10, \\' |\\'\",\"width\":240,\"height\":40,\"type\":\"\\xd0\\x92\\xd0\\xb2\\xd0\\xbe\\xd0\\xb4 / \\xd0\\xb2\\xd1\\x8b\\xd0\\xb2\\xd0\\xbe\\xd0\\xb4\",\"isMenuBlock\":false,\"fontSize\":14,\"textHeight\":14,\"isBold\":false,\"isItalic\":false},{\"x\":960,\"y\":1320,\"text\":\"t := t + h\",\"width\":100,\"height\":40,\"type\":\"\\xd0\\x91\\xd0\\xbb\\xd0\\xbe\\xd0\\xba\",\"isMenuBlock\":false,\"fontSize\":14,\"textHeight\":14,\"isBold\":false,\"isItalic\":false},{\"x\":960,\"y\":1060,\"text\":\"\\xd0\\xb2\\xd1\\x8b\\xd0\\xb2\\xd0\\xbe\\xd0\\xb4 \\'y(\\', t0, \\') = \\', y0\\\\n\\xd0\\xb2\\xd1\\x8b\\xd0\\xb2\\xd0\\xbe\\xd0\\xb4 \\'y\\'\\'(\\', t0, \\') = \\', yy0\",\"width\":180,\"height\":40,\"type\":\"\\xd0\\x92\\xd0\\xb2\\xd0\\xbe\\xd0\\xb4 / \\xd0\\xb2\\xd1\\x8b\\xd0\\xb2\\xd0\\xbe\\xd0\\xb4\",\"isMenuBlock\":false,\"fontSize\":14,\"textHeight\":14,\"isBold\":false,\"isItalic\":false},{\"x\":960,\"y\":1420,\"text\":\"\\xd0\\xba\\xd0\\xbe\\xd0\\xbd\\xd0\\xb5\\xd1\\x86\",\"width\":100,\"height\":30,\"type\":\"\\xd0\\x9d\\xd0\\xb0\\xd1\\x87\\xd0\\xb0\\xd0\\xbb\\xd0\\xbe / \\xd0\\xba\\xd0\\xbe\\xd0\\xbd\\xd0\\xb5\\xd1\\x86\",\"isMenuBlock\":false,\"fontSize\":14,\"textHeight\":14,\"isBold\":false,\"isItalic\":false}],\"arrows\":[{\"startIndex\":0,\"endIndex\":1,\"startConnectorIndex\":2,\"endConnectorIndex\":0,\"nodes\":[{\"x\":960,\"y\":30},{\"x\":960,\"y\":40},{\"x\":960,\"y\":55}],\"counts\":[1,1,1]},{\"startIndex\":2,\"endIndex\":3,\"startConnectorIndex\":2,\"endConnectorIndex\":0,\"nodes\":[{\"x\":960,\"y\":190},{\"x\":960,\"y\":200},{\"x\":960,\"y\":215}],\"counts\":[1,1,1]},{\"startIndex\":4,\"endIndex\":5,\"startConnectorIndex\":2,\"endConnectorIndex\":0,\"nodes\":[{\"x\":960,\"y\":345},{\"x\":960,\"y\":350},{\"x\":960,\"y\":370}],\"counts\":[1,1,1]},{\"startIndex\":5,\"endIndex\":6,\"startConnectorIndex\":2,\"endConnectorIndex\":0,\"nodes\":[{\"x\":960,\"y\":410},{\"x\":960,\"y\":410},{\"x\":960,\"y\":430}],\"counts\":[1,1,1]},{\"startIndex\":6,\"endIndex\":7,\"startConnectorIndex\":2,\"endConnectorIndex\":0,\"nodes\":[{\"x\":960,\"y\":470},{\"x\":960,\"y\":470},{\"x\":960,\"y\":490}],\"counts\":[1,1,1]},{\"startIndex\":7,\"endIndex\":8,\"startConnectorIndex\":2,\"endConnectorIndex\":0,\"nodes\":[{\"x\":960,\"y\":530},{\"x\":960,\"y\":530},{\"x\":960,\"y\":550}],\"counts\":[1,1,1]},{\"startIndex\":8,\"endIndex\":9,\"startConnectorIndex\":2,\"endConnectorIndex\":0,\"nodes\":[{\"x\":960,\"y\":590},{\"x\":960,\"y\":590},{\"x\":960,\"y\":610}],\"counts\":[1,1,1]},{\"startIndex\":9,\"endIndex\":10,\"startConnectorIndex\":2,\"endConnectorIndex\":0,\"nodes\":[{\"x\":960,\"y\":650},{\"x\":960,\"y\":650},{\"x\":960,\"y\":670}],\"counts\":[1,1,1]},{\"startIndex\":10,\"endIndex\":11,\"startConnectorIndex\":2,\"endConnectorIndex\":0,\"nodes\":[{\"x\":960,\"y\":710},{\"x\":960,\"y\":710},{\"x\":960,\"y\":730}],\"counts\":[1,1,1]},{\"startIndex\":12,\"endIndex\":13,\"startConnectorIndex\":2,\"endConnectorIndex\":0,\"nodes\":[{\"x\":960,\"y\":890},{\"x\":960,\"y\":890},{\"x\":960,\"y\":910}],\"counts\":[1,1,1]},{\"startIndex\":13,\"endIndex\":12,\"startConnectorIndex\":2,\"endConnectorIndex\":3,\"nodes\":[{\"x\":960,\"y\":970},{\"x\":960,\"y\":990},{\"x\":770,\"y\":990},{\"x\":770,\"y\":870},{\"x\":890,\"y\":870},{\"x\":910,\"y\":870}],\"counts\":[1,1,1,1,1,1]},{\"startIndex\":11,\"endIndex\":12,\"startConnectorIndex\":2,\"endConnectorIndex\":0,\"nodes\":[{\"x\":960,\"y\":830},{\"x\":960,\"y\":830},{\"x\":960,\"y\":850}],\"counts\":[1,1,1]},{\"startIndex\":12,\"endIndex\":18,\"startConnectorIndex\":1,\"endConnectorIndex\":0,\"nodes\":[{\"x\":1010,\"y\":870},{\"x\":1150,\"y\":870},{\"x\":1150,\"y\":1020},{\"x\":960,\"y\":1020},{\"x\":960,\"y\":1040}],\"counts\":[1,1,1,1,1]},{\"startIndex\":18,\"endIndex\":14,\"startConnectorIndex\":2,\"endConnectorIndex\":0,\"nodes\":[{\"x\":960,\"y\":1080},{\"x\":960,\"y\":1100},{\"x\":960,\"y\":1120}],\"counts\":[1,1,1]},{\"startIndex\":16,\"endIndex\":17,\"startConnectorIndex\":2,\"endConnectorIndex\":0,\"nodes\":[{\"x\":960,\"y\":1280},{\"x\":960,\"y\":1280},{\"x\":960,\"y\":1300}],\"counts\":[1,1,1]},{\"startIndex\":15,\"endIndex\":16,\"startConnectorIndex\":2,\"endConnectorIndex\":0,\"nodes\":[{\"x\":960,\"y\":1220},{\"x\":960,\"y\":1220},{\"x\":960,\"y\":1240}],\"counts\":[1,1,1]},{\"startIndex\":17,\"endIndex\":15,\"startConnectorIndex\":2,\"endConnectorIndex\":3,\"nodes\":[{\"x\":960,\"y\":1340},{\"x\":960,\"y\":1360},{\"x\":810,\"y\":1360},{\"x\":810,\"y\":1200},{\"x\":890,\"y\":1200},{\"x\":910,\"y\":1200}],\"counts\":[1,1,1,1,1,1]},{\"startIndex\":14,\"endIndex\":15,\"startConnectorIndex\":2,\"endConnectorIndex\":0,\"nodes\":[{\"x\":960,\"y\":1160},{\"x\":960,\"y\":1160},{\"x\":960,\"y\":1180}],\"counts\":[1,1,1]},{\"startIndex\":15,\"endIndex\":19,\"startConnectorIndex\":1,\"endConnectorIndex\":0,\"nodes\":[{\"x\":1010,\"y\":1200},{\"x\":1110,\"y\":1200},{\"x\":1110,\"y\":1390},{\"x\":960,\"y\":1390},{\"x\":960,\"y\":1405}],\"counts\":[1,1,1,1,1]}],\"x0\":-816.9333333333332,\"y0\":-113.20000000000016}'"
      ]
     },
     "execution_count": 12,
     "metadata": {},
     "output_type": "execute_result"
    }
   ],
   "source": [
    "size = 0 # size of the contents in little endian\n",
    "size |= stream[0] << 0\n",
    "size |= stream[1] << 8\n",
    "size |= stream[2] << 16\n",
    "size |= stream[3] << 24\n",
    "stream = stream[4:]\n",
    "contents = stream[:size] # contents\n",
    "contents"
   ]
  },
  {
   "cell_type": "code",
   "execution_count": 13,
   "metadata": {},
   "outputs": [],
   "source": [
    "def parse_ole_contents(stream):\n",
    "    # original filename in ANSI starts at byte 7 and is null terminated\n",
    "    stream = stream[6:]\n",
    "    filename = \"\"\n",
    "    for ord_chr in stream:\n",
    "        if ord_chr == 0:\n",
    "            break\n",
    "        filename += chr(ord_chr)\n",
    "    stream = stream[len(filename) + 1:]\n",
    "    filepath = \"\"\n",
    "    # original filepath in ANSI is next and is null terminated\n",
    "    for ord_chr in stream:\n",
    "        if ord_chr == 0:\n",
    "            break\n",
    "        filepath += chr(ord_chr)\n",
    "    # next 4 bytes is unused\n",
    "    stream = stream[len(filepath) + 1 + 4:]\n",
    "    # size of the temporary file path in ANSI in little endian\n",
    "    temporary_filepath_size = 0\n",
    "    temporary_filepath_size |= stream[0] << 0\n",
    "    temporary_filepath_size |= stream[1] << 8\n",
    "    temporary_filepath_size |= stream[2] << 16\n",
    "    temporary_filepath_size |= stream[3] << 24\n",
    "    stream = stream[4:]\n",
    "    temporary_filepath = \"\"\n",
    "    for i in range(temporary_filepath_size - 1):\n",
    "        temporary_filepath += chr(stream[i])\n",
    "    stream = stream[temporary_filepath_size:]\n",
    "    size = 0 # size of the contents in little endian\n",
    "    size |= stream[0] << 0\n",
    "    size |= stream[1] << 8\n",
    "    size |= stream[2] << 16\n",
    "    size |= stream[3] << 24\n",
    "    stream = stream[4:]\n",
    "    contents = stream[:size] # contents\n",
    "    return filename, contents"
   ]
  },
  {
   "cell_type": "code",
   "execution_count": 14,
   "metadata": {},
   "outputs": [
    {
     "data": {
      "text/plain": [
       "[['\\x01CompObj'], ['\\x01Ole10Native'], ['\\x03EPRINT'], ['\\x03ObjInfo']]"
      ]
     },
     "execution_count": 14,
     "metadata": {},
     "output_type": "execute_result"
    }
   ],
   "source": [
    "ole = olefile.OleFileIO(document.open('word/embeddings/oleObject2.bin'))\n",
    "ole.listdir()"
   ]
  },
  {
   "cell_type": "code",
   "execution_count": 15,
   "metadata": {},
   "outputs": [
    {
     "data": {
      "text/plain": [
       "('test.py', b'')"
      ]
     },
     "execution_count": 15,
     "metadata": {},
     "output_type": "execute_result"
    }
   ],
   "source": [
    "parse_ole_contents(ole.openstream('\\x01Ole10Native').read())"
   ]
  },
  {
   "cell_type": "code",
   "execution_count": 16,
   "metadata": {},
   "outputs": [
    {
     "data": {
      "text/plain": [
       "['[Content_Types].xml',\n",
       " '_rels/.rels',\n",
       " 'word/_rels/document.xml.rels',\n",
       " 'word/document.xml',\n",
       " 'word/media/image1.emf',\n",
       " 'word/theme/theme1.xml',\n",
       " 'word/embeddings/oleObject3.bin',\n",
       " 'word/media/image3.emf',\n",
       " 'word/media/image2.emf',\n",
       " 'word/embeddings/oleObject1.bin',\n",
       " 'word/embeddings/oleObject2.bin',\n",
       " 'word/settings.xml',\n",
       " 'word/webSettings.xml',\n",
       " 'word/fontTable.xml',\n",
       " 'docProps/core.xml',\n",
       " 'word/styles.xml',\n",
       " 'docProps/app.xml']"
      ]
     },
     "execution_count": 16,
     "metadata": {},
     "output_type": "execute_result"
    }
   ],
   "source": [
    "file = 'examples/with_attachments.docx'\n",
    "document = zipfile.ZipFile(file)\n",
    "document.namelist()"
   ]
  },
  {
   "cell_type": "code",
   "execution_count": 17,
   "metadata": {},
   "outputs": [
    {
     "data": {
      "text/plain": [
       "[['\\x01CompObj'], ['\\x01Ole10Native'], ['\\x03EPRINT'], ['\\x03ObjInfo']]"
      ]
     },
     "execution_count": 17,
     "metadata": {},
     "output_type": "execute_result"
    }
   ],
   "source": [
    "ole = olefile.OleFileIO(document.open('word/embeddings/oleObject3.bin'))\n",
    "ole.listdir()"
   ]
  },
  {
   "cell_type": "code",
   "execution_count": 18,
   "metadata": {},
   "outputs": [
    {
     "data": {
      "text/plain": [
       "('lorem.txt',\n",
       " b'Adipisicing est non minim aute reprehenderit incididunt magna ad consectetur ad occaecat anim voluptate culpa fugiat excepteur enim qui nulla ut ea ullamco ut reprehenderit ad do veniam magna velit mollit incididunt amet pariatur nulla sit commodo dolor excepteur magna amet est anim deserunt amet et ad consectetur adipisicing magna nisi voluptate laboris sit laborum ut laborum aliqua sint dolor ullamco enim reprehenderit sunt et elit cillum est dolore consectetur ut labore exercitation ullamco anim ullamco ex ea tempor ad cillum ex eu magna dolor ullamco ad anim aliquip aute dolore ut sit excepteur enim reprehenderit exercitation dolore sit aliquip voluptate nulla cillum non reprehenderit officia labore pariatur pariatur anim in aliqua eu in anim deserunt dolor ex aliquip irure laboris consequat cupidatat id in dolor ut aliqua velit cupidatat dolor do ad adipisicing duis voluptate proident sed quis commodo nulla ut esse officia id dolore in irure voluptate excepteur nostrud aute aliqua velit dolor ex dolore sint voluptate in dolor fugiat aliqua velit in dolore culpa deserunt reprehenderit anim irure mollit sit velit laborum mollit do nostrud eiusmod eu esse velit pariatur voluptate velit commodo nostrud id sit elit ex irure eiusmod adipisicing dolore mollit veniam ut quis commodo aute nulla dolor nulla veniam nostrud ut ut id eu laborum dolor magna dolor dolor nostrud aliqua in voluptate commodo ut mollit quis velit in irure laboris proident do ea in mollit labore veniam officia velit sunt minim elit excepteur consectetur dolor minim incididunt duis veniam ad tempor eu eiusmod magna veniam duis pariatur ea culpa.')"
      ]
     },
     "execution_count": 18,
     "metadata": {},
     "output_type": "execute_result"
    }
   ],
   "source": [
    "parse_ole_contents(ole.openstream('\\x01Ole10Native').read())"
   ]
  },
  {
   "cell_type": "markdown",
   "metadata": {},
   "source": [
    "### Extract PDF"
   ]
  },
  {
   "cell_type": "code",
   "execution_count": null,
   "metadata": {},
   "outputs": [],
   "source": [
    "import olefile\n",
    "from zipfile import ZipFile\n",
    "\n",
    "def extract_pdf(filename):\n",
    "    with ZipFile(filename, \"r\") as document:\n",
    "        entries = []\n",
    "      # Find files in the word/embeddings folder of the ZIP file\n",
    "        for entry in document.namelist():\n",
    "            if not entry.startswith(\"word/embeddings/\"):\n",
    "                continue\n",
    "            else:\n",
    "                entries.append(entry)\n",
    "        if not entries:\n",
    "            return\n",
    "        # Try to open the embedded OLE file\n",
    "        for entry in entries:\n",
    "            with document.open(entry) as f:\n",
    "                if not olefile.isOleFile(f):\n",
    "                    continue\n",
    "\n",
    "                ole = olefile.OleFileIO(f)\n",
    "\n",
    "                # CLSID for Adobe Acrobat Document\n",
    "                if ole.root.clsid == \"B801CA65-A1FC-11D0-85AD-444553540000\":\n",
    "                    if not ole.exists(\"CONTENTS\"):\n",
    "                        continue\n",
    "                    # Extract the PDF from the OLE file\n",
    "                    data = ole.openstream('CONTENTS').read()\n",
    "                    # Does the embedded file have a %PDF- header?\n",
    "                    if data[0:5] == b'%PDF-':\n",
    "                        data_filename = \"examples/tmp/out.pdf\"\n",
    "                else:\n",
    "                    continue\n",
    "\n",
    "                # Save the PDF\n",
    "                with open(data_filename, \"wb\") as output_file:\n",
    "                    output_file.write(data)\n",
    "\n",
    "\n",
    "filename = 'examples/tmp/with_attachments.docx'\n",
    "extract_pdf(filename)"
   ]
  }
 ],
 "metadata": {
  "kernelspec": {
   "display_name": "Python 3",
   "language": "python",
   "name": "python3"
  },
  "language_info": {
   "codemirror_mode": {
    "name": "ipython",
    "version": 3
   },
   "file_extension": ".py",
   "mimetype": "text/x-python",
   "name": "python",
   "nbconvert_exporter": "python",
   "pygments_lexer": "ipython3",
   "version": "3.8.5"
  }
 },
 "nbformat": 4,
 "nbformat_minor": 4
}
