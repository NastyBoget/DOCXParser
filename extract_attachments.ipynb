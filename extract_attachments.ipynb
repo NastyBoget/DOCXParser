{
 "cells": [
  {
   "cell_type": "code",
   "execution_count": 1,
   "metadata": {},
   "outputs": [],
   "source": [
    "from bs4 import BeautifulSoup, Tag\n",
    "import zipfile\n",
    "import olefile"
   ]
  },
  {
   "cell_type": "code",
   "execution_count": 2,
   "metadata": {},
   "outputs": [],
   "source": [
    "file = 'examples/with_attachments.docx'"
   ]
  },
  {
   "cell_type": "code",
   "execution_count": 3,
   "metadata": {},
   "outputs": [],
   "source": [
    "document = zipfile.ZipFile(file)\n",
    "bs = BeautifulSoup(document.read('word/document.xml'), 'xml')"
   ]
  },
  {
   "cell_type": "code",
   "execution_count": 4,
   "metadata": {},
   "outputs": [
    {
     "name": "stdout",
     "output_type": "stream",
     "text": [
      "<?xml version=\"1.0\" encoding=\"utf-8\"?>\n",
      "<w:document mc:Ignorable=\"w14 w15 w16se wp14\" xmlns:cx=\"http://schemas.microsoft.com/office/drawing/2014/chartex\" xmlns:m=\"http://schemas.openxmlformats.org/officeDocument/2006/math\" xmlns:mc=\"http://schemas.openxmlformats.org/markup-compatibility/2006\" xmlns:o=\"urn:schemas-microsoft-com:office:office\" xmlns:r=\"http://schemas.openxmlformats.org/officeDocument/2006/relationships\" xmlns:v=\"urn:schemas-microsoft-com:vml\" xmlns:w=\"http://schemas.openxmlformats.org/wordprocessingml/2006/main\" xmlns:w10=\"urn:schemas-microsoft-com:office:word\" xmlns:w14=\"http://schemas.microsoft.com/office/word/2010/wordml\" xmlns:w15=\"http://schemas.microsoft.com/office/word/2012/wordml\" xmlns:w16se=\"http://schemas.microsoft.com/office/word/2015/wordml/symex\" xmlns:wne=\"http://schemas.microsoft.com/office/word/2006/wordml\" xmlns:wp=\"http://schemas.openxmlformats.org/drawingml/2006/wordprocessingDrawing\" xmlns:wp14=\"http://schemas.microsoft.com/office/word/2010/wordprocessingDrawing\" xmlns:wpc=\"http://schemas.microsoft.com/office/word/2010/wordprocessingCanvas\" xmlns:wpg=\"http://schemas.microsoft.com/office/word/2010/wordprocessingGroup\" xmlns:wpi=\"http://schemas.microsoft.com/office/word/2010/wordprocessingInk\" xmlns:wps=\"http://schemas.microsoft.com/office/word/2010/wordprocessingShape\">\n",
      " <w:body>\n",
      "  <w:p w:rsidR=\"0034395A\" w:rsidRDefault=\"00E73EF0\">\n",
      "   <w:pPr>\n",
      "    <w:rPr>\n",
      "     <w:lang w:val=\"en-US\"/>\n",
      "    </w:rPr>\n",
      "   </w:pPr>\n",
      "   <w:r>\n",
      "    <w:t xml:space=\"preserve\">\n",
      "     После этого текста я вставил\n",
      "    </w:t>\n",
      "   </w:r>\n",
      "   <w:r>\n",
      "    <w:rPr>\n",
      "     <w:lang w:val=\"en-US\"/>\n",
      "    </w:rPr>\n",
      "    <w:t>\n",
      "     PDF\n",
      "    </w:t>\n",
      "   </w:r>\n",
      "  </w:p>\n",
      "  <w:p w:rsidR=\"00E73EF0\" w:rsidRDefault=\"00E73EF0\">\n",
      "   <w:r w:rsidRPr=\"00E73EF0\">\n",
      "    <w:object w:dxaOrig=\"14401\" w:dyaOrig=\"8101\">\n",
      "     <v:shapetype coordsize=\"21600,21600\" filled=\"f\" id=\"_x0000_t75\" o:preferrelative=\"t\" o:spt=\"75\" path=\"m@4@5l@4@11@9@11@9@5xe\" stroked=\"f\">\n",
      "      <v:stroke joinstyle=\"miter\"/>\n",
      "      <v:formulas>\n",
      "       <v:f eqn=\"if lineDrawn pixelLineWidth 0\"/>\n",
      "       <v:f eqn=\"sum @0 1 0\"/>\n",
      "       <v:f eqn=\"sum 0 0 @1\"/>\n",
      "       <v:f eqn=\"prod @2 1 2\"/>\n",
      "       <v:f eqn=\"prod @3 21600 pixelWidth\"/>\n",
      "       <v:f eqn=\"prod @3 21600 pixelHeight\"/>\n",
      "       <v:f eqn=\"sum @0 0 1\"/>\n",
      "       <v:f eqn=\"prod @6 1 2\"/>\n",
      "       <v:f eqn=\"prod @7 21600 pixelWidth\"/>\n",
      "       <v:f eqn=\"sum @8 21600 0\"/>\n",
      "       <v:f eqn=\"prod @7 21600 pixelHeight\"/>\n",
      "       <v:f eqn=\"sum @10 21600 0\"/>\n",
      "      </v:formulas>\n",
      "      <v:path gradientshapeok=\"t\" o:connecttype=\"rect\" o:extrusionok=\"f\"/>\n",
      "      <o:lock aspectratio=\"t\" v:ext=\"edit\"/>\n",
      "     </v:shapetype>\n",
      "     <v:shape id=\"_x0000_i1025\" o:ole=\"\" style=\"width:479.7pt;height:269.9pt\" type=\"#_x0000_t75\">\n",
      "      <v:imagedata o:title=\"\" r:id=\"rId4\"/>\n",
      "     </v:shape>\n",
      "     <o:OLEObject DrawAspect=\"Content\" ObjectID=\"_1664268141\" ProgID=\"AcroExch.Document.DC\" ShapeID=\"_x0000_i1025\" Type=\"Embed\" r:id=\"rId5\"/>\n",
      "    </w:object>\n",
      "   </w:r>\n",
      "  </w:p>\n",
      "  <w:p w:rsidR=\"00E73EF0\" w:rsidRDefault=\"00E73EF0\">\n",
      "   <w:r>\n",
      "    <w:t xml:space=\"preserve\">\n",
      "     А затем я вставлю\n",
      "    </w:t>\n",
      "   </w:r>\n",
      "   <w:proofErr w:type=\"spellStart\"/>\n",
      "   <w:r>\n",
      "    <w:t>\n",
      "     архивчик\n",
      "    </w:t>\n",
      "   </w:r>\n",
      "   <w:proofErr w:type=\"spellEnd\"/>\n",
      "   <w:r>\n",
      "    <w:t>\n",
      "     … (да, с котиками)\n",
      "    </w:t>\n",
      "   </w:r>\n",
      "  </w:p>\n",
      "  <w:p w:rsidR=\"00E73EF0\" w:rsidRDefault=\"00E73EF0\">\n",
      "   <w:r w:rsidRPr=\"00E73EF0\">\n",
      "    <w:object w:dxaOrig=\"751\" w:dyaOrig=\"811\">\n",
      "     <v:shape id=\"_x0000_i1027\" o:ole=\"\" style=\"width:37.55pt;height:40.65pt\" type=\"#_x0000_t75\">\n",
      "      <v:imagedata o:title=\"\" r:id=\"rId6\"/>\n",
      "     </v:shape>\n",
      "     <o:OLEObject DrawAspect=\"Content\" ObjectID=\"_1664268142\" ProgID=\"Package\" ShapeID=\"_x0000_i1027\" Type=\"Embed\" r:id=\"rId7\"/>\n",
      "    </w:object>\n",
      "   </w:r>\n",
      "  </w:p>\n",
      "  <w:p w:rsidR=\"00E73EF0\" w:rsidRDefault=\"00E73EF0\">\n",
      "   <w:r>\n",
      "    <w:t>\n",
      "     А тут текстовый документ:\n",
      "    </w:t>\n",
      "   </w:r>\n",
      "  </w:p>\n",
      "  <w:p w:rsidR=\"00E73EF0\" w:rsidRDefault=\"00E73EF0\" w:rsidRPr=\"00E73EF0\">\n",
      "   <w:pPr>\n",
      "    <w:rPr>\n",
      "     <w:lang w:val=\"en-US\"/>\n",
      "    </w:rPr>\n",
      "   </w:pPr>\n",
      "   <w:r w:rsidRPr=\"00E73EF0\">\n",
      "    <w:rPr>\n",
      "     <w:lang w:val=\"en-US\"/>\n",
      "    </w:rPr>\n",
      "    <w:object w:dxaOrig=\"916\" w:dyaOrig=\"811\">\n",
      "     <v:shape id=\"_x0000_i1032\" o:ole=\"\" style=\"width:45.95pt;height:40.65pt\" type=\"#_x0000_t75\">\n",
      "      <v:imagedata o:title=\"\" r:id=\"rId8\"/>\n",
      "     </v:shape>\n",
      "     <o:OLEObject DrawAspect=\"Content\" ObjectID=\"_1664268143\" ProgID=\"Package\" ShapeID=\"_x0000_i1032\" Type=\"Embed\" r:id=\"rId9\"/>\n",
      "    </w:object>\n",
      "   </w:r>\n",
      "   <w:bookmarkStart w:id=\"0\" w:name=\"_GoBack\"/>\n",
      "   <w:bookmarkEnd w:id=\"0\"/>\n",
      "  </w:p>\n",
      "  <w:sectPr w:rsidR=\"00E73EF0\" w:rsidRPr=\"00E73EF0\">\n",
      "   <w:pgSz w:h=\"16838\" w:w=\"11906\"/>\n",
      "   <w:pgMar w:bottom=\"1134\" w:footer=\"708\" w:gutter=\"0\" w:header=\"708\" w:left=\"1701\" w:right=\"850\" w:top=\"1134\"/>\n",
      "   <w:cols w:space=\"708\"/>\n",
      "   <w:docGrid w:linePitch=\"360\"/>\n",
      "  </w:sectPr>\n",
      " </w:body>\n",
      "</w:document>\n"
     ]
    }
   ],
   "source": [
    "print(bs.prettify())"
   ]
  },
  {
   "cell_type": "code",
   "execution_count": 5,
   "metadata": {},
   "outputs": [
    {
     "data": {
      "text/plain": [
       "['[Content_Types].xml',\n",
       " '_rels/.rels',\n",
       " 'word/_rels/document.xml.rels',\n",
       " 'word/document.xml',\n",
       " 'word/media/image1.emf',\n",
       " 'word/theme/theme1.xml',\n",
       " 'word/embeddings/oleObject3.bin',\n",
       " 'word/media/image3.emf',\n",
       " 'word/media/image2.emf',\n",
       " 'word/embeddings/oleObject1.bin',\n",
       " 'word/embeddings/oleObject2.bin',\n",
       " 'word/settings.xml',\n",
       " 'word/webSettings.xml',\n",
       " 'word/fontTable.xml',\n",
       " 'docProps/core.xml',\n",
       " 'word/styles.xml',\n",
       " 'docProps/app.xml']"
      ]
     },
     "execution_count": 5,
     "metadata": {},
     "output_type": "execute_result"
    }
   ],
   "source": [
    "document.namelist()"
   ]
  },
  {
   "cell_type": "code",
   "execution_count": 6,
   "metadata": {},
   "outputs": [
    {
     "name": "stdout",
     "output_type": "stream",
     "text": [
      "<?xml version=\"1.0\" encoding=\"utf-8\"?>\n",
      "<Relationships xmlns:=\"http://schemas.openxmlformats.org/package/2006/relationships\">\n",
      " <Relationship Id=\"rId8\" Target=\"media/image3.emf\" Type=\"http://schemas.openxmlformats.org/officeDocument/2006/relationships/image\"/>\n",
      " <Relationship Id=\"rId3\" Target=\"webSettings.xml\" Type=\"http://schemas.openxmlformats.org/officeDocument/2006/relationships/webSettings\"/>\n",
      " <Relationship Id=\"rId7\" Target=\"embeddings/oleObject2.bin\" Type=\"http://schemas.openxmlformats.org/officeDocument/2006/relationships/oleObject\"/>\n",
      " <Relationship Id=\"rId2\" Target=\"settings.xml\" Type=\"http://schemas.openxmlformats.org/officeDocument/2006/relationships/settings\"/>\n",
      " <Relationship Id=\"rId1\" Target=\"styles.xml\" Type=\"http://schemas.openxmlformats.org/officeDocument/2006/relationships/styles\"/>\n",
      " <Relationship Id=\"rId6\" Target=\"media/image2.emf\" Type=\"http://schemas.openxmlformats.org/officeDocument/2006/relationships/image\"/>\n",
      " <Relationship Id=\"rId11\" Target=\"theme/theme1.xml\" Type=\"http://schemas.openxmlformats.org/officeDocument/2006/relationships/theme\"/>\n",
      " <Relationship Id=\"rId5\" Target=\"embeddings/oleObject1.bin\" Type=\"http://schemas.openxmlformats.org/officeDocument/2006/relationships/oleObject\"/>\n",
      " <Relationship Id=\"rId10\" Target=\"fontTable.xml\" Type=\"http://schemas.openxmlformats.org/officeDocument/2006/relationships/fontTable\"/>\n",
      " <Relationship Id=\"rId4\" Target=\"media/image1.emf\" Type=\"http://schemas.openxmlformats.org/officeDocument/2006/relationships/image\"/>\n",
      " <Relationship Id=\"rId9\" Target=\"embeddings/oleObject3.bin\" Type=\"http://schemas.openxmlformats.org/officeDocument/2006/relationships/oleObject\"/>\n",
      "</Relationships>\n"
     ]
    }
   ],
   "source": [
    "r_bs = BeautifulSoup(document.read('word/_rels/document.xml.rels'), 'xml')\n",
    "print(r_bs.prettify())"
   ]
  },
  {
   "cell_type": "markdown",
   "metadata": {},
   "source": [
    "https://olefile.readthedocs.io/en/latest/"
   ]
  },
  {
   "cell_type": "code",
   "execution_count": 7,
   "metadata": {},
   "outputs": [
    {
     "data": {
      "text/plain": [
       "[['\\x01CompObj'], ['\\x01Ole10Native'], ['\\x03EPRINT'], ['\\x03ObjInfo']]"
      ]
     },
     "execution_count": 7,
     "metadata": {},
     "output_type": "execute_result"
    }
   ],
   "source": [
    "f = document.open('word/embeddings/oleObject3.bin')\n",
    "ole = olefile.OleFileIO(f)\n",
    "ole.listdir()"
   ]
  },
  {
   "cell_type": "code",
   "execution_count": 8,
   "metadata": {},
   "outputs": [
    {
     "data": {
      "text/plain": [
       "b'\\x81\\x07\\x00\\x00\\x02\\x00lorem.txt\\x00C:\\\\Users\\\\dronp\\\\Desktop\\\\lorem.txt\\x00\\x00\\x00\\x03\\x00,\\x00\\x00\\x00C:\\\\Users\\\\dronp\\\\AppData\\\\Local\\\\Temp\\\\lorem.txt\\x00h\\x06\\x00\\x00Adipisicing est non minim aute reprehenderit incididunt magna ad consectetur ad occaecat anim voluptate culpa fugiat excepteur enim qui nulla ut ea ullamco ut reprehenderit ad do veniam magna velit mollit incididunt amet pariatur nulla sit commodo dolor excepteur magna amet est anim deserunt amet et ad consectetur adipisicing magna nisi voluptate laboris sit laborum ut laborum aliqua sint dolor ullamco enim reprehenderit sunt et elit cillum est dolore consectetur ut labore exercitation ullamco anim ullamco ex ea tempor ad cillum ex eu magna dolor ullamco ad anim aliquip aute dolore ut sit excepteur enim reprehenderit exercitation dolore sit aliquip voluptate nulla cillum non reprehenderit officia labore pariatur pariatur anim in aliqua eu in anim deserunt dolor ex aliquip irure laboris consequat cupidatat id in dolor ut aliqua velit cupidatat dolor do ad adipisicing duis voluptate proident sed quis commodo nulla ut esse officia id dolore in irure voluptate excepteur nostrud aute aliqua velit dolor ex dolore sint voluptate in dolor fugiat aliqua velit in dolore culpa deserunt reprehenderit anim irure mollit sit velit laborum mollit do nostrud eiusmod eu esse velit pariatur voluptate velit commodo nostrud id sit elit ex irure eiusmod adipisicing dolore mollit veniam ut quis commodo aute nulla dolor nulla veniam nostrud ut ut id eu laborum dolor magna dolor dolor nostrud aliqua in voluptate commodo ut mollit quis velit in irure laboris proident do ea in mollit labore veniam officia velit sunt minim elit excepteur consectetur dolor minim incididunt duis veniam ad tempor eu eiusmod magna veniam duis pariatur ea culpa.+\\x00\\x00\\x00C\\x00:\\x00\\\\\\x00U\\x00s\\x00e\\x00r\\x00s\\x00\\\\\\x00d\\x00r\\x00o\\x00n\\x00p\\x00\\\\\\x00A\\x00p\\x00p\\x00D\\x00a\\x00t\\x00a\\x00\\\\\\x00L\\x00o\\x00c\\x00a\\x00l\\x00\\\\\\x00T\\x00e\\x00m\\x00p\\x00\\\\\\x00l\\x00o\\x00r\\x00e\\x00m\\x00.\\x00t\\x00x\\x00t\\x00\\t\\x00\\x00\\x00l\\x00o\\x00r\\x00e\\x00m\\x00.\\x00t\\x00x\\x00t\\x00 \\x00\\x00\\x00C\\x00:\\x00\\\\\\x00U\\x00s\\x00e\\x00r\\x00s\\x00\\\\\\x00d\\x00r\\x00o\\x00n\\x00p\\x00\\\\\\x00D\\x00e\\x00s\\x00k\\x00t\\x00o\\x00p\\x00\\\\\\x00l\\x00o\\x00r\\x00e\\x00m\\x00.\\x00t\\x00x\\x00t\\x00'"
      ]
     },
     "execution_count": 8,
     "metadata": {},
     "output_type": "execute_result"
    }
   ],
   "source": [
    "ole.openstream('\\x01Ole10Native').read()"
   ]
  },
  {
   "cell_type": "code",
   "execution_count": 9,
   "metadata": {},
   "outputs": [
    {
     "data": {
      "text/plain": [
       "[['\\x01CompObj'], ['\\x01Ole10Native'], ['\\x03EPRINT'], ['\\x03ObjInfo']]"
      ]
     },
     "execution_count": 9,
     "metadata": {},
     "output_type": "execute_result"
    }
   ],
   "source": [
    "ole = olefile.OleFileIO(document.open('word/embeddings/oleObject2.bin'))\n",
    "ole.listdir()"
   ]
  },
  {
   "cell_type": "code",
   "execution_count": 10,
   "metadata": {},
   "outputs": [
    {
     "data": {
      "text/plain": [
       "[['\\x01CompObj'], ['\\x01Ole'], ['\\x03EPRINT'], ['\\x03ObjInfo'], ['CONTENTS']]"
      ]
     },
     "execution_count": 10,
     "metadata": {},
     "output_type": "execute_result"
    }
   ],
   "source": [
    "ole = olefile.OleFileIO(document.open('word/embeddings/oleObject1.bin'))\n",
    "ole.listdir()"
   ]
  },
  {
   "cell_type": "markdown",
   "metadata": {},
   "source": [
    "https://docs.microsoft.com/en-us/openspecs/windows_protocols/ms-oleds/2677fcf2-ad48-4386-ba8f-b1b7baf4c02f\n",
    "\n",
    "https://www.codeproject.com/Tips/784558/Extract-Embedded-Files-from-Microsoft-Office-Docum"
   ]
  },
  {
   "cell_type": "code",
   "execution_count": 11,
   "metadata": {},
   "outputs": [],
   "source": [
    "import olefile\n",
    "from zipfile import ZipFile\n",
    "\n",
    "def extract_pdf(filename):\n",
    "#     try:\n",
    "        # Try to open the document as ZIP file\n",
    "    with ZipFile(filename, \"r\") as document:\n",
    "        entries = []\n",
    "      # Find files in the word/embeddings folder of the ZIP file\n",
    "        for entry in document.namelist():\n",
    "            if not entry.startswith(\"word/embeddings/\"):\n",
    "                continue\n",
    "            else:\n",
    "                entries.append(entry)\n",
    "        if not entries:\n",
    "            return\n",
    "        # Try to open the embedded OLE file\n",
    "        for entry in entries:\n",
    "            with document.open(entry) as f:\n",
    "                if not olefile.isOleFile(f):\n",
    "                    continue\n",
    "\n",
    "                ole = olefile.OleFileIO(f)\n",
    "\n",
    "                # CLSID for Adobe Acrobat Document\n",
    "                if ole.root.clsid == \"B801CA65-A1FC-11D0-85AD-444553540000\":\n",
    "                    if not ole.exists(\"CONTENTS\"):\n",
    "                        continue\n",
    "                    # Extract the PDF from the OLE file\n",
    "                    data = ole.openstream('CONTENTS').read()\n",
    "                    # Does the embedded file have a %PDF- header?\n",
    "                    if data[0:5] == b'%PDF-':\n",
    "                        data_filename = \"examples/out.pdf\"\n",
    "                else:\n",
    "                    continue\n",
    "\n",
    "                # Save the PDF\n",
    "                with open(data_filename, \"wb\") as output_file:\n",
    "                    output_file.write(data)\n",
    "\n",
    "#     except:\n",
    "#         print(\"Unable to open '%s'\" % filename)\n",
    "\n",
    "filename = 'examples/with_attachments.docx'\n",
    "extract_pdf(filename)"
   ]
  },
  {
   "cell_type": "code",
   "execution_count": 12,
   "metadata": {},
   "outputs": [],
   "source": [
    "with ZipFile(filename, \"r\") as document:\n",
    "    entries = []\n",
    "  # Find files in the word/embeddings folder of the ZIP file\n",
    "    for entry in document.namelist():\n",
    "        if not entry.startswith(\"word/embeddings/\"):\n",
    "            continue\n",
    "        else:\n",
    "            entries.append(entry)\n",
    "    entry=entries[1] \n",
    "    f = document.open(entry)\n",
    "    ole = olefile.OleFileIO(f)\n",
    "  # CLSID for Adobe Acrobat Document\n",
    "    if ole.root.clsid == \"B801CA65-A1FC-11D0-85AD-444553540000\":\n",
    "\n",
    "      # Extract the PDF from the OLE file\n",
    "        pdf_data = ole.openstream('CONTENTS').read()\n",
    "\n",
    "        pdf_filename = \"examples/out.pdf\"\n",
    "\n",
    "        # Save the PDF\n",
    "        with open(pdf_filename, \"wb\") as output_file:\n",
    "            output_file.write(pdf_data)"
   ]
  },
  {
   "cell_type": "code",
   "execution_count": null,
   "metadata": {},
   "outputs": [],
   "source": []
  }
 ],
 "metadata": {
  "kernelspec": {
   "display_name": "Python 3",
   "language": "python",
   "name": "python3"
  },
  "language_info": {
   "codemirror_mode": {
    "name": "ipython",
    "version": 3
   },
   "file_extension": ".py",
   "mimetype": "text/x-python",
   "name": "python",
   "nbconvert_exporter": "python",
   "pygments_lexer": "ipython3",
   "version": "3.7.6"
  }
 },
 "nbformat": 4,
 "nbformat_minor": 4
}
