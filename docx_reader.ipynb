{
 "cells": [
  {
   "cell_type": "code",
   "execution_count": 1,
   "metadata": {},
   "outputs": [],
   "source": [
    "import zipfile\n",
    "from bs4 import BeautifulSoup"
   ]
  },
  {
   "cell_type": "code",
   "execution_count": 38,
   "metadata": {
    "pycharm": {
     "name": "#%%\n"
    }
   },
   "outputs": [
    {
     "data": {
      "text/plain": [
       "['_rels/.rels',\n",
       " 'docProps/core.xml',\n",
       " 'docProps/app.xml',\n",
       " 'docProps/custom.xml',\n",
       " 'word/footer1.xml',\n",
       " 'word/document.xml',\n",
       " 'word/styles.xml',\n",
       " 'word/header1.xml',\n",
       " 'word/footer3.xml',\n",
       " 'word/footnotes.xml',\n",
       " 'word/comments.xml',\n",
       " 'word/header2.xml',\n",
       " 'word/header3.xml',\n",
       " 'word/footer2.xml',\n",
       " 'word/endnotes.xml',\n",
       " 'word/fontTable.xml',\n",
       " 'word/settings.xml',\n",
       " 'word/theme/theme1.xml',\n",
       " 'word/_rels/document.xml.rels',\n",
       " '[Content_Types].xml']"
      ]
     },
     "execution_count": 38,
     "metadata": {},
     "output_type": "execute_result"
    }
   ],
   "source": [
    "document = zipfile.ZipFile('examples/' + 'footers_headers/footer_header_example_3.docx')\n",
    "document.namelist()"
   ]
  },
  {
   "cell_type": "code",
   "execution_count": 39,
   "metadata": {},
   "outputs": [
    {
     "name": "stdout",
     "output_type": "stream",
     "text": [
      "<?xml version=\"1.0\" encoding=\"utf-8\"?>\n",
      "<w:ftr mc:Ignorable=\"w14 wp14\" xmlns:mc=\"http://schemas.openxmlformats.org/markup-compatibility/2006\" xmlns:o=\"urn:schemas-microsoft-com:office:office\" xmlns:r=\"http://schemas.openxmlformats.org/officeDocument/2006/relationships\" xmlns:v=\"urn:schemas-microsoft-com:vml\" xmlns:w=\"http://schemas.openxmlformats.org/wordprocessingml/2006/main\" xmlns:w10=\"urn:schemas-microsoft-com:office:word\" xmlns:w14=\"http://schemas.microsoft.com/office/word/2010/wordml\" xmlns:wp=\"http://schemas.openxmlformats.org/drawingml/2006/wordprocessingDrawing\" xmlns:wp14=\"http://schemas.microsoft.com/office/word/2010/wordprocessingDrawing\" xmlns:wpg=\"http://schemas.microsoft.com/office/word/2010/wordprocessingGroup\" xmlns:wps=\"http://schemas.microsoft.com/office/word/2010/wordprocessingShape\">\n",
      " <w:tbl>\n",
      "  <w:tblPr>\n",
      "   <w:tblStyle w:val=\"TableNormal\"/>\n",
      "   <w:tblW w:type=\"dxa\" w:w=\"9014\"/>\n",
      "   <w:jc w:val=\"left\"/>\n",
      "   <w:tblInd w:type=\"dxa\" w:w=\"0\"/>\n",
      "   <w:tblCellMar>\n",
      "    <w:top w:type=\"dxa\" w:w=\"0\"/>\n",
      "    <w:left w:type=\"dxa\" w:w=\"108\"/>\n",
      "    <w:bottom w:type=\"dxa\" w:w=\"0\"/>\n",
      "    <w:right w:type=\"dxa\" w:w=\"108\"/>\n",
      "   </w:tblCellMar>\n",
      "   <w:tblLook w:firstColumn=\"1\" w:firstRow=\"1\" w:lastColumn=\"0\" w:lastRow=\"0\" w:noHBand=\"1\" w:noVBand=\"1\" w:val=\"06a0\"/>\n",
      "  </w:tblPr>\n",
      "  <w:tblGrid>\n",
      "   <w:gridCol w:w=\"3004\"/>\n",
      "   <w:gridCol w:w=\"3005\"/>\n",
      "   <w:gridCol w:w=\"3005\"/>\n",
      "  </w:tblGrid>\n",
      "  <w:tr>\n",
      "   <w:trPr/>\n",
      "   <w:tc>\n",
      "    <w:tcPr>\n",
      "     <w:tcW w:type=\"dxa\" w:w=\"3004\"/>\n",
      "     <w:tcBorders/>\n",
      "     <w:shd w:fill=\"auto\" w:val=\"clear\"/>\n",
      "    </w:tcPr>\n",
      "    <w:p>\n",
      "     <w:pPr>\n",
      "      <w:pStyle w:val=\"Header\"/>\n",
      "      <w:bidi w:val=\"0\"/>\n",
      "      <w:ind w:hanging=\"0\" w:left=\"-115\"/>\n",
      "      <w:jc w:val=\"left\"/>\n",
      "      <w:rPr/>\n",
      "     </w:pPr>\n",
      "     <w:r>\n",
      "      <w:rPr/>\n",
      "      <w:t>\n",
      "       This is the first footer\n",
      "      </w:t>\n",
      "     </w:r>\n",
      "    </w:p>\n",
      "   </w:tc>\n",
      "   <w:tc>\n",
      "    <w:tcPr>\n",
      "     <w:tcW w:type=\"dxa\" w:w=\"3005\"/>\n",
      "     <w:tcBorders/>\n",
      "     <w:shd w:fill=\"auto\" w:val=\"clear\"/>\n",
      "    </w:tcPr>\n",
      "    <w:p>\n",
      "     <w:pPr>\n",
      "      <w:pStyle w:val=\"Header\"/>\n",
      "      <w:bidi w:val=\"0\"/>\n",
      "      <w:jc w:val=\"center\"/>\n",
      "      <w:rPr/>\n",
      "     </w:pPr>\n",
      "     <w:r>\n",
      "      <w:rPr/>\n",
      "     </w:r>\n",
      "    </w:p>\n",
      "   </w:tc>\n",
      "   <w:tc>\n",
      "    <w:tcPr>\n",
      "     <w:tcW w:type=\"dxa\" w:w=\"3005\"/>\n",
      "     <w:tcBorders/>\n",
      "     <w:shd w:fill=\"auto\" w:val=\"clear\"/>\n",
      "    </w:tcPr>\n",
      "    <w:p>\n",
      "     <w:pPr>\n",
      "      <w:pStyle w:val=\"Header\"/>\n",
      "      <w:bidi w:val=\"0\"/>\n",
      "      <w:ind w:hanging=\"0\" w:right=\"-115\"/>\n",
      "      <w:jc w:val=\"right\"/>\n",
      "      <w:rPr/>\n",
      "     </w:pPr>\n",
      "     <w:r>\n",
      "      <w:rPr/>\n",
      "     </w:r>\n",
      "    </w:p>\n",
      "   </w:tc>\n",
      "  </w:tr>\n",
      " </w:tbl>\n",
      " <w:p>\n",
      "  <w:pPr>\n",
      "   <w:pStyle w:val=\"Footer\"/>\n",
      "   <w:bidi w:val=\"0\"/>\n",
      "   <w:rPr/>\n",
      "  </w:pPr>\n",
      "  <w:r>\n",
      "   <w:rPr/>\n",
      "  </w:r>\n",
      " </w:p>\n",
      "</w:ftr>\n"
     ]
    }
   ],
   "source": [
    "print(BeautifulSoup(document.read('word/footer3.xml'), 'xml').prettify())"
   ]
  },
  {
   "cell_type": "code",
   "execution_count": 40,
   "metadata": {
    "pycharm": {
     "name": "#%%\n"
    }
   },
   "outputs": [],
   "source": [
    "example_dir = 'examples/footers_headers/'\n",
    "\n",
    "def make_xml(filename):\n",
    "    document = zipfile.ZipFile(example_dir + filename)\n",
    "    for i in range(1, 4):\n",
    "        try:\n",
    "            with open(f'{example_dir}{filename}_footer{i}.xml', 'w') as write_file:\n",
    "                write_file.write(BeautifulSoup(document.read(f'word/footer{i}.xml'), 'xml').prettify())\n",
    "        except KeyError:\n",
    "            print(f\"there isn't file footer{i}.xml for {filename}\")\n",
    "        try:\n",
    "            with open(f'{example_dir}{filename}_header{i}.xml', 'w') as write_file:\n",
    "                write_file.write(BeautifulSoup(document.read(f'word/header{i}.xml'), 'xml').prettify())\n",
    "        except KeyError:\n",
    "            print(f\"there isn't file header{i}.xml for {filename}\")\n",
    "    try:\n",
    "        with open(f'{example_dir}{filename}_footnotes.xml', 'w') as write_file:\n",
    "            write_file.write(BeautifulSoup(document.read('word/footnotes.xml'), 'xml').prettify())\n",
    "    except KeyError:\n",
    "        print(f\"there isn't file footnotes.xml for {filename}\")\n",
    "    try:\n",
    "        with open(f'{example_dir}{filename}_endnotes.xml', 'w') as write_file:\n",
    "            write_file.write(BeautifulSoup(document.read('word/endnotes.xml'), 'xml').prettify())\n",
    "    except KeyError:\n",
    "        print(f\"there isn't file endnotes.xml for {filename}\")\n",
    "    try:\n",
    "        with open(f'{example_dir}{filename}_out.xml', 'w') as write_file:\n",
    "            write_file.write(BeautifulSoup(document.read('word/document.xml'), 'xml').prettify())\n",
    "    except KeyError:\n",
    "        try:\n",
    "            with open(f'{example_dir}{filename}_out.xml', 'w') as write_file:\n",
    "                write_file.write(BeautifulSoup(document.read('word/document2.xml'), 'xml').prettify())\n",
    "        except KeyError:\n",
    "            print(f\"there isn't file document.xml for {filename}\")\n",
    "    with open(f'{example_dir}{filename}_styles.xml', 'w') as write_file:\n",
    "        write_file.write(BeautifulSoup(document.read('word/styles.xml'), 'xml').prettify())"
   ]
  },
  {
   "cell_type": "code",
   "execution_count": 41,
   "metadata": {
    "pycharm": {
     "name": "#%%\n"
    }
   },
   "outputs": [
    {
     "name": "stdout",
     "output_type": "stream",
     "text": [
      "there isn't file footer1.xml for footer_header_example_1.docx\n",
      "there isn't file header1.xml for footer_header_example_1.docx\n",
      "there isn't file footer2.xml for footer_header_example_2.docx\n",
      "there isn't file header2.xml for footer_header_example_2.docx\n",
      "there isn't file footer3.xml for footer_header_example_2.docx\n",
      "there isn't file header3.xml for footer_header_example_2.docx\n"
     ]
    }
   ],
   "source": [
    "import os\n",
    "files = [f\"footer_header_example_{i}.docx\" for i in range(1, 4)]\n",
    "for file in files:\n",
    "    make_xml(file)"
   ]
  },
  {
   "cell_type": "code",
   "execution_count": null,
   "metadata": {},
   "outputs": [],
   "source": []
  }
 ],
 "metadata": {
  "kernelspec": {
   "display_name": "Python 3",
   "language": "python",
   "name": "python3"
  },
  "language_info": {
   "codemirror_mode": {
    "name": "ipython",
    "version": 3
   },
   "file_extension": ".py",
   "mimetype": "text/x-python",
   "name": "python",
   "nbconvert_exporter": "python",
   "pygments_lexer": "ipython3",
   "version": "3.8.5"
  }
 },
 "nbformat": 4,
 "nbformat_minor": 2
}
