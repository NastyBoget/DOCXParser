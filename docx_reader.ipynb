{
 "cells": [
  {
   "cell_type": "code",
   "execution_count": 1,
   "metadata": {},
   "outputs": [],
   "source": [
    "import zipfile\n",
    "from bs4 import BeautifulSoup"
   ]
  },
  {
   "cell_type": "code",
   "execution_count": 2,
   "metadata": {
    "pycharm": {
     "name": "#%%\n"
    }
   },
   "outputs": [],
   "source": [
    "name_list = ['example4.docx']"
   ]
  },
  {
   "cell_type": "code",
   "execution_count": 3,
   "outputs": [
    {
     "data": {
      "text/plain": "['_rels/.rels',\n 'docProps/core.xml',\n 'docProps/app.xml',\n 'word/document.xml',\n 'word/styles.xml',\n 'word/fontTable.xml',\n 'word/numbering.xml',\n 'word/theme/theme1.xml',\n 'word/header1.xml',\n 'word/footer1.xml',\n 'word/settings.xml',\n 'word/_rels/document.xml.rels',\n '[Content_Types].xml']"
     },
     "execution_count": 3,
     "metadata": {},
     "output_type": "execute_result"
    }
   ],
   "source": [
    "document = zipfile.ZipFile('examples/' + 'example4.docx')\n",
    "document.namelist()"
   ],
   "metadata": {
    "collapsed": false,
    "pycharm": {
     "name": "#%%\n"
    }
   }
  },
  {
   "cell_type": "code",
   "execution_count": 4,
   "metadata": {
    "pycharm": {
     "name": "#%%\n"
    }
   },
   "outputs": [],
   "source": [
    "def make_xml(filename):\n",
    "    document = zipfile.ZipFile('examples/' + filename)\n",
    "    try:\n",
    "        with open('examples/' + filename + '_footer1.xml', 'w') as write_file:\n",
    "            write_file.write(BeautifulSoup(document.read('word/footer1.xml'), 'xml').prettify())\n",
    "    except KeyError:\n",
    "        print(\"there isn't file footer1.xml for \" + filename)\n",
    "    try:\n",
    "        with open('examples/' + filename + '_header1.xml', 'w') as write_file:\n",
    "            write_file.write(BeautifulSoup(document.read('word/header1.xml'), 'xml').prettify())\n",
    "    except KeyError:\n",
    "        print(\"there isn't file header1.xml for \" + filename)\n",
    "    with open('examples/' + filename + '_out.xml', 'w') as write_file:\n",
    "        write_file.write(BeautifulSoup(document.read('word/document.xml'), 'xml').prettify())\n",
    "    with open('examples/' + filename + '_styles.xml', 'w') as write_file:\n",
    "        write_file.write(BeautifulSoup(document.read('word/styles.xml'), 'xml').prettify())\n",
    "    try:\n",
    "        with open('examples/' + filename + '_numbering.xml', 'w') as write_file:\n",
    "            write_file.write(BeautifulSoup(document.read('word/numbering.xml'), 'xml').prettify())\n",
    "    except KeyError:\n",
    "        print(\"there isn't file numberings.xml for \" + filename)"
   ]
  },
  {
   "cell_type": "code",
   "execution_count": 5,
   "outputs": [
    {
     "name": "stdout",
     "output_type": "stream",
     "text": [
      "there isn't file footer1.xml for example9.docx\n",
      "there isn't file numberings.xml for example_1.docx\n"
     ]
    }
   ],
   "source": [
    "import os\n",
    "files = os.listdir('examples')\n",
    "for file in files:\n",
    "    if file.endswith('.docx'):\n",
    "        name_list = zipfile.ZipFile('examples/' + file).namelist()\n",
    "        if 'word/header1.xml' in name_list or 'word/footer1.xml' in name_list:\n",
    "            make_xml(file)\n"
   ],
   "metadata": {
    "collapsed": false,
    "pycharm": {
     "name": "#%%\n"
    }
   }
  }
 ],
 "metadata": {
  "kernelspec": {
   "display_name": "Python 3",
   "language": "python",
   "name": "python3"
  },
  "language_info": {
   "codemirror_mode": {
    "name": "ipython",
    "version": 3
   },
   "file_extension": ".py",
   "mimetype": "text/x-python",
   "name": "python",
   "nbconvert_exporter": "python",
   "pygments_lexer": "ipython3",
   "version": "3.7.6"
  }
 },
 "nbformat": 4,
 "nbformat_minor": 2
}