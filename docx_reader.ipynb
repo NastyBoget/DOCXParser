{
 "cells": [
  {
   "cell_type": "code",
   "execution_count": 1,
   "metadata": {
    "pycharm": {
     "is_executing": false
    }
   },
   "outputs": [],
   "source": [
    "import zipfile\n",
    "from bs4 import BeautifulSoup"
   ]
  },
  {
   "cell_type": "code",
   "execution_count": 5,
   "metadata": {
    "pycharm": {
     "name": "#%%\n",
     "is_executing": false
    }
   },
   "outputs": [],
   "source": [
    "name_list = ['cropped_example1.docx', 'example2.docx', 'example3.docx', \n",
    "             'example5.docx', 'example9.docx', 'Домен.docx', 'Паспорт.docx', \n",
    "             'hard_lists.docx', 'hell_lists.docx', 'docs/prioritet.docx', \n",
    "             'docs/307.docx', 'docs/doc.docx', 'docs/fz.docx',\n",
    "             'docx/docx/doc_000004.docx', 'docx/docx/doc_000006.docx']\n"
   ]
  },
  {
   "cell_type": "code",
   "execution_count": 2,
   "metadata": {
    "pycharm": {
     "is_executing": false,
     "name": "#%%\n"
    }
   },
   "outputs": [],
   "source": [
    "def make_xml(filename):\n",
    "    document = zipfile.ZipFile('examples/' + filename)\n",
    "    with open('examples/' + filename + '_out.xml', 'w') as write_file:\n",
    "        write_file.write(BeautifulSoup(document.read('word/document.xml'), 'xml').prettify())\n",
    "    with open('examples/' + filename + '_styles.xml', 'w') as write_file:\n",
    "        write_file.write(BeautifulSoup(document.read('word/styles.xml'), 'xml').prettify())\n",
    "    try:\n",
    "        with open('examples/' + filename + '_numbering.xml', 'w') as write_file:\n",
    "            write_file.write(BeautifulSoup(document.read('word/numbering.xml'), 'xml').prettify())\n",
    "    except KeyError:\n",
    "        print(\"there isn't file numberings.xml for \" + filename)"
   ]
  },
  {
   "cell_type": "code",
   "execution_count": 3,
   "outputs": [],
   "source": [
    "test_name_list = ['doc_002400.docx', 'doc_002050.docx', 'doc_000201.docx', 'doc_001410.docx', 'doc_001555.docx', 'doc_000578.docx',\n",
    "                  'doc_000485.docx', 'doc_000606.docx', 'doc_000885.docx', 'doc_000186.docx', 'doc_002504.docx', 'doc_002857.docx',\n",
    "                  'doc_001902.docx', 'doc_000581.docx', 'doc_001406.docx', 'doc_003084.docx', 'doc_001754.docx', 'doc_001216.docx']"
   ],
   "metadata": {
    "collapsed": false,
    "pycharm": {
     "name": "#%%\n",
     "is_executing": false
    }
   }
  },
  {
   "cell_type": "code",
   "execution_count": 4,
   "metadata": {
    "pycharm": {
     "is_executing": false,
     "name": "#%%\n"
    }
   },
   "outputs": [],
   "source": [
    "for file in test_name_list:\n",
    "    make_xml('docx/docx/' + file)"
   ]
  },
  {
   "cell_type": "markdown",
   "metadata": {
    "pycharm": {
     "name": "#%% md\n"
    }
   },
   "source": [
    "1) extract info about paragraph and raws from styles (StylesExtractor)\n",
    "\n",
    "2) extract info from pPr (pPrExtractor)\n",
    "\n",
    "3) extract info from rPr (rPrExtractor)\n",
    "\n",
    "each next information about paragragh overlaps previous one\n"
   ]
  }
 ],
 "metadata": {
  "kernelspec": {
   "display_name": "Python 3",
   "language": "python",
   "name": "python3"
  },
  "language_info": {
   "codemirror_mode": {
    "name": "ipython",
    "version": 3
   },
   "file_extension": ".py",
   "mimetype": "text/x-python",
   "name": "python",
   "nbconvert_exporter": "python",
   "pygments_lexer": "ipython3",
   "version": "3.7.6"
  },
  "pycharm": {
   "stem_cell": {
    "cell_type": "raw",
    "source": [],
    "metadata": {
     "collapsed": false
    }
   }
  }
 },
 "nbformat": 4,
 "nbformat_minor": 2
}