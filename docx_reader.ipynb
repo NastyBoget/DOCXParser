{
 "cells": [
  {
   "cell_type": "markdown",
   "metadata": {},
   "source": [
    "https://towardsdatascience.com/how-to-extract-data-from-ms-word-documents-using-python-ed3fbb48c122\n",
    "\n",
    "https://github.com/nmolivo/tesu_scraper/blob/master/Python_Blogs/01_extract_from_MSWord.ipynb\n",
    "\n",
    "https://python-docx.readthedocs.io/en/latest/index.html"
   ]
  },
  {
   "cell_type": "code",
   "execution_count": 1,
   "metadata": {},
   "outputs": [],
   "source": [
    "import zipfile\n",
    "import xml.dom.minidom\n",
    "from bs4 import BeautifulSoup"
   ]
  },
  {
   "cell_type": "code",
   "execution_count": 2,
   "metadata": {},
   "outputs": [],
   "source": [
    "document = zipfile.ZipFile('cropped_example.docx')"
   ]
  },
  {
   "cell_type": "code",
   "execution_count": 3,
   "metadata": {},
   "outputs": [
    {
     "data": {
      "text/plain": [
       "['_rels/.rels',\n",
       " 'docProps/core.xml',\n",
       " 'docProps/app.xml',\n",
       " 'word/document.xml',\n",
       " 'word/styles.xml',\n",
       " 'word/fontTable.xml',\n",
       " 'word/numbering.xml',\n",
       " 'word/theme/theme1.xml',\n",
       " 'word/header1.xml',\n",
       " 'word/footer1.xml',\n",
       " 'word/settings.xml',\n",
       " 'word/_rels/document.xml.rels',\n",
       " '[Content_Types].xml']"
      ]
     },
     "execution_count": 3,
     "metadata": {},
     "output_type": "execute_result"
    }
   ],
   "source": [
    "document.namelist()"
   ]
  },
  {
   "cell_type": "code",
   "execution_count": 4,
   "metadata": {},
   "outputs": [],
   "source": [
    "uglyXml = xml.dom.minidom.parseString(document.read('word/document.xml')).toprettyxml(indent='  ')"
   ]
  },
  {
   "cell_type": "code",
   "execution_count": 5,
   "metadata": {},
   "outputs": [],
   "source": [
    "bs = BeautifulSoup(uglyXml, 'xml')"
   ]
  },
  {
   "cell_type": "code",
   "execution_count": 6,
   "metadata": {},
   "outputs": [],
   "source": [
    "# it's the text of the document\n",
    "bs = BeautifulSoup(document.read('word/document.xml'), 'xml')"
   ]
  },
  {
   "cell_type": "code",
   "execution_count": 18,
   "metadata": {},
   "outputs": [
    {
     "name": "stdout",
     "output_type": "stream",
     "text": [
      "<?xml version=\"1.0\" encoding=\"utf-8\"?>\n",
      "<w:document mc:Ignorable=\"w14\" xmlns:m=\"http://schemas.openxmlformats.org/officeDocument/2006/math\" xmlns:mc=\"http://schemas.openxmlformats.org/markup-compatibility/2006\" xmlns:o=\"urn:schemas-microsoft-com:office:office\" xmlns:r=\"http://schemas.openxmlformats.org/officeDocument/2006/relationships\" xmlns:v=\"urn:schemas-microsoft-com:vml\" xmlns:w=\"http://schemas.openxmlformats.org/wordprocessingml/2006/main\" xmlns:w10=\"urn:schemas-microsoft-com:office:word\" xmlns:w14=\"http://schemas.microsoft.com/office/word/2010/wordml\" xmlns:wp=\"http://schemas.openxmlformats.org/drawingml/2006/wordprocessingDrawing\" xmlns:wpg=\"http://schemas.microsoft.com/office/word/2010/wordprocessingGroup\" xmlns:wps=\"http://schemas.microsoft.com/office/word/2010/wordprocessingShape\">\n",
      " <w:body>\n",
      "  <w:p>\n",
      "   <w:pPr>\n",
      "    <w:pStyle w:val=\"Default\"/>\n",
      "    <w:tabs>\n",
      "     <w:tab w:pos=\"6565\" w:val=\"left\"/>\n",
      "     <w:tab w:pos=\"7080\" w:val=\"left\"/>\n",
      "     <w:tab w:pos=\"7788\" w:val=\"left\"/>\n",
      "     <w:tab w:pos=\"8496\" w:val=\"left\"/>\n",
      "     <w:tab w:pos=\"9132\" w:val=\"left\"/>\n",
      "    </w:tabs>\n",
      "    <w:suppressAutoHyphens w:val=\"1\"/>\n",
      "    <w:spacing w:before=\"0\"/>\n",
      "    <w:ind w:firstLine=\"567\"/>\n",
      "    <w:jc w:val=\"center\"/>\n",
      "    <w:rPr>\n",
      "     <w:rFonts w:ascii=\"Times New Roman\" w:cs=\"Times New Roman\" w:eastAsia=\"Times New Roman\" w:hAnsi=\"Times New Roman\"/>\n",
      "     <w:b w:val=\"1\"/>\n",
      "     <w:bCs w:val=\"1\"/>\n",
      "     <w:sz w:val=\"26\"/>\n",
      "     <w:szCs w:val=\"26\"/>\n",
      "     <w:u w:color=\"000000\"/>\n",
      "    </w:rPr>\n",
      "   </w:pPr>\n",
      "   <w:r>\n",
      "    <w:rPr>\n",
      "     <w:rFonts w:ascii=\"Times New Roman\" w:hAnsi=\"Times New Roman\" w:hint=\"default\"/>\n",
      "     <w:b w:val=\"1\"/>\n",
      "     <w:bCs w:val=\"1\"/>\n",
      "     <w:sz w:val=\"26\"/>\n",
      "     <w:szCs w:val=\"26\"/>\n",
      "     <w:u w:color=\"000000\"/>\n",
      "     <w:rtl w:val=\"0\"/>\n",
      "     <w:lang w:val=\"ru-RU\"/>\n",
      "    </w:rPr>\n",
      "    <w:t xml:space=\"preserve\">\n",
      "     Договор №\n",
      "    </w:t>\n",
      "   </w:r>\n",
      "   <w:r>\n",
      "    <w:rPr>\n",
      "     <w:rFonts w:ascii=\"Times New Roman\" w:hAnsi=\"Times New Roman\"/>\n",
      "     <w:b w:val=\"1\"/>\n",
      "     <w:bCs w:val=\"1\"/\n"
     ]
    }
   ],
   "source": [
    "print(bs.prettify()[:2000])"
   ]
  },
  {
   "cell_type": "code",
   "execution_count": 9,
   "metadata": {},
   "outputs": [
    {
     "name": "stdout",
     "output_type": "stream",
     "text": [
      "<?xml version=\"1.0\" encoding=\"utf-8\"?>\n",
      "<cp:coreProperties xmlns:cp=\"http://schemas.openxmlformats.org/package/2006/metadata/core-properties\" xmlns:dc=\"http://purl.org/dc/elements/1.1/\" xmlns:dcterms=\"http://purl.org/dc/terms/\" xmlns:xsi=\"http://www.w3.org/2001/XMLSchema-instance\"/>\n",
      "\n",
      "<?xml version=\"1.0\" encoding=\"utf-8\"?>\n",
      "<Properties xmlns=\"http://schemas.openxmlformats.org/officeDocument/2006/extended-properties\" xmlns:vt=\"http://schemas.openxmlformats.org/officeDocument/2006/docPropsVTypes\"/>\n",
      "\n"
     ]
    }
   ],
   "source": [
    "# some doc properties - it's not useful for us\n",
    "print(BeautifulSoup(document.read('docProps/core.xml'), 'xml').prettify())\n",
    "print(BeautifulSoup(document.read('docProps/app.xml'), 'xml').prettify())"
   ]
  },
  {
   "cell_type": "code",
   "execution_count": 13,
   "metadata": {},
   "outputs": [
    {
     "name": "stdout",
     "output_type": "stream",
     "text": [
      "<?xml version=\"1.0\" encoding=\"utf-8\"?>\n",
      "<w:styles mc:Ignorable=\"w14\" xmlns:mc=\"http://schemas.openxmlformats.org/markup-compatibility/2006\" xmlns:w=\"http://schemas.openxmlformats.org/wordprocessingml/2006/main\" xmlns:w14=\"http://schemas.microsoft.com/office/word/2010/wordml\">\n",
      " <w:docDefaults>\n",
      "  <w:rPrDefault>\n",
      "   <w:rPr>\n",
      "    <w:rFonts w:ascii=\"Times New Roman\" w:cs=\"Times New Roman\" w:eastAsia=\"Arial Unicode MS\" w:hAnsi=\"Times New Roman\"/>\n",
      "    <w:b w:val=\"0\"/>\n",
      "    <w:bCs w:val=\"0\"/>\n",
      "    <w:i w:val=\"0\"/>\n",
      "    <w:iCs w:val=\"0\"/>\n",
      "    <w:caps w:val=\"0\"/>\n",
      "    <w:smallCaps w:val=\"0\"/>\n",
      "    <w:strike w:val=\"0\"/>\n",
      "    <w:dstrike w:val=\"0\"/>\n",
      "    <w:outline w:val=\"0\"/>\n",
      "    <w:emboss w:val=\"0\"/>\n",
      "    <w:imprint w:val=\"0\"/>\n",
      "    <w:vanish w:val=\"0\"/>\n",
      "    <w:color w:val=\"auto\"/>\n",
      "    <w:spacing w:val=\"0\"/>\n",
      "    <w:w w:val=\"100\"/>\n",
      "    <w:kern w:val=\"0\"/>\n",
      "    <w:position w:val=\"0\"/>\n",
      "    <w:sz w:val=\"20\"/>\n",
      "    <w:szCs w:val=\"20\"/>\n",
      "    <w:u w:color=\"auto\" w:val=\"none\"/>\n",
      "    <w:bdr w:val=\"nil\"/>\n",
      "    <w:vertAlign\n"
     ]
    }
   ],
   "source": [
    "# doc styles\n",
    "print(BeautifulSoup(document.read('word/styles.xml'), 'xml').prettify()[:1000])"
   ]
  },
  {
   "cell_type": "code",
   "execution_count": 19,
   "metadata": {},
   "outputs": [
    {
     "name": "stdout",
     "output_type": "stream",
     "text": [
      "<?xml version=\"1.0\" encoding=\"utf-8\"?>\n",
      "<w:fonts xmlns:w=\"http://schemas.openxmlformats.org/wordprocessingml/2006/main\">\n",
      " <w:font w:name=\"Times New Roman\">\n",
      "  <w:charset w:val=\"00\"/>\n",
      "  <w:family w:val=\"roman\"/>\n",
      "  <w:pitch w:val=\"variable\"/>\n",
      " </w:font>\n",
      " <w:font w:name=\"Symbol\">\n",
      "  <w:charset w:val=\"02\"/>\n",
      "  <w:family w:val=\"roman\"/>\n",
      "  <w:pitch w:val=\"variable\"/>\n",
      " </w:font>\n",
      " <w:font w:name=\"Arial\">\n",
      "  <w:charset w:val=\"00\"/>\n",
      "  <w:family w:val=\"swiss\"/>\n",
      "  <w:pitch w:val=\"variable\"/>\n",
      " </w:font>\n",
      " <w:font w:name=\"Arial Unicode MS\">\n",
      "  <w:charset w:val=\"00\"/>\n",
      "  <w:family w:val=\"roman\"/>\n",
      "  <w:pitch w:val=\"default\"/>\n",
      " </w:font>\n",
      " <w:font w:name=\"Helvetica Neue\">\n",
      "  <w:charset w:val=\"00\"/>\n",
      "  <w:family w:val=\"roman\"/>\n",
      "  <w:pitch w:val=\"default\"/>\n",
      " </w:font>\n",
      " <w:font w:name=\"Calibri\">\n",
      "  <w:charset w:val=\"00\"/>\n",
      "  <w:family w:val=\"roman\"/>\n",
      "  <w:pitch w:val=\"default\"/>\n",
      " </w:font>\n",
      "</w:fonts>\n"
     ]
    }
   ],
   "source": [
    "print(BeautifulSoup(document.read('word/fontTable.xml'), 'xml').prettify())"
   ]
  },
  {
   "cell_type": "code",
   "execution_count": 20,
   "metadata": {},
   "outputs": [
    {
     "name": "stdout",
     "output_type": "stream",
     "text": [
      "<?xml version=\"1.0\" encoding=\"utf-8\"?>\n",
      "<w:numbering xmlns:o=\"urn:schemas-microsoft-com:office:office\" xmlns:r=\"http://schemas.openxmlformats.org/officeDocument/2006/relationships\" xmlns:v=\"urn:schemas-microsoft-com:vml\" xmlns:w=\"http://schemas.openxmlformats.org/wordprocessingml/2006/main\" xmlns:w14=\"http://schemas.microsoft.com/office/word/2010/wordml\" xmlns:wp=\"http://schemas.openxmlformats.org/drawingml/2006/wordprocessingDrawing\">\n",
      " <w:abstractNum w:abstractNumId=\"0\">\n",
      "  <w:multiLevelType w:val=\"hybridMultilevel\"/>\n",
      "  <w:numStyleLink w:val=\"Imported Style 2\"/>\n",
      " </w:abstractNum>\n",
      " <w:abstractNum w:abstractNumId=\"1\">\n",
      "  <w:multiLevelType w:val=\"hybridMultilevel\"/>\n",
      "  <w:styleLink w:val=\"Imported Style 2\"/>\n",
      "  <w:lvl w:ilvl=\"0\">\n",
      "   <w:start w:val=\"1\"/>\n",
      "   <w:numFmt w:val=\"decimal\"/>\n",
      "   <w:suff w:val=\"tab\"/>\n",
      "   <w:lvlText w:val=\"%1.\"/>\n",
      "   <w:lvlJc w:val=\"left\"/>\n",
      "   <w:pPr>\n",
      "    <w:tabs>\n",
      "     <w:tab w:pos=\"1276\" w:val=\"left\"/>\n",
      "     <w:tab w:pos=\"1416\" w:val=\"left\"/>\n",
      "     <w:tab w:pos=\"1935\" w:val=\"num\"/>\n",
      "     <w:tab w:pos=\"2124\" w:val=\"left\"/>\n",
      "     <w:tab w:pos=\"2832\" w:val=\"left\"/>\n",
      "     <w:tab w:pos=\"3540\" w:val=\"left\"/>\n",
      "     <w:tab w:pos=\"4248\" w:val=\"left\"/>\n",
      "     <w:tab w:pos=\"4956\" w:val=\"left\"/>\n",
      "     <w:tab w:pos=\"5664\" w:val=\"left\"/>\n",
      "     <w:tab w:pos=\"6372\" w:val=\"left\"/>\n",
      "     <w:tab w:pos=\"7080\" w:val=\"left\"/>\n",
      "     <w:tab w:pos=\"7788\" w:val=\"left\"/>\n",
      "     <w:tab w:pos=\"8496\" w:val=\"left\"/>\n",
      "     <w:tab w:pos=\"9132\" w:val=\"left\"/>\n",
      "    </w:tabs>\n",
      "    <w:ind w:firstLine=\"192\" w:left=\"1226\"/>\n",
      "   </w:pPr>\n",
      "   <w:rPr>\n",
      "    <w:rFonts w:hAnsi=\"Arial Unicode MS\"/>\n",
      "    <w:b w:val=\"1\"/>\n",
      "    <w:bCs w:val=\"1\"/>\n",
      "    <w:caps w:val=\"0\"/>\n",
      "    <w:smallCaps w:val=\"0\"/>\n",
      "    <w:strike w:val=\"0\"/>\n",
      "    <w:dstrike w:val=\"0\"/>\n",
      "    <w:outline w:val=\"0\"/>\n",
      "    <w:emboss w:val=\"0\"/>\n",
      "    <w:imprint w:val=\"0\"/>\n",
      "    <w:spacing w:val=\"0\"/>\n",
      "    <w:w w:val=\"100\"/>\n",
      "    <w:kern w:val=\"0\"/>\n",
      "    <w:position w:val=\"0\"/>\n",
      "    <w:highlight w:val=\"none\"/>\n",
      "    <w:vertAlign w:val=\"baseline\"/>\n",
      "   </w:rPr>\n",
      "  </w:lvl>\n",
      " \n"
     ]
    }
   ],
   "source": [
    "print(BeautifulSoup(document.read('word/numbering.xml'), 'xml').prettify()[:2000])"
   ]
  },
  {
   "cell_type": "code",
   "execution_count": 22,
   "metadata": {},
   "outputs": [
    {
     "name": "stdout",
     "output_type": "stream",
     "text": [
      "<?xml version=\"1.0\" encoding=\"utf-8\"?>\n",
      "<w:hdr mc:Ignorable=\"w14\" xmlns:m=\"http://schemas.openxmlformats.org/officeDocument/2006/math\" xmlns:mc=\"http://schemas.openxmlformats.org/markup-compatibility/2006\" xmlns:o=\"urn:schemas-microsoft-com:office:office\" xmlns:r=\"http://schemas.openxmlformats.org/officeDocument/2006/relationships\" xmlns:v=\"urn:schemas-microsoft-com:vml\" xmlns:w=\"http://schemas.openxmlformats.org/wordprocessingml/2006/main\" xmlns:w10=\"urn:schemas-microsoft-com:office:word\" xmlns:w14=\"http://schemas.microsoft.com/office/word/2010/wordml\" xmlns:wp=\"http://schemas.openxmlformats.org/drawingml/2006/wordprocessingDrawing\" xmlns:wpg=\"http://schemas.microsoft.com/office/word/2010/wordprocessingGroup\" xmlns:wps=\"http://schemas.microsoft.com/office/word/2010/wordprocessingShape\">\n",
      " <w:p>\n",
      "  <w:pPr>\n",
      "   <w:pStyle w:val=\"Header &amp; Footer\"/>\n",
      "   <w:bidi w:val=\"0\"/>\n",
      "  </w:pPr>\n",
      "  <w:r/>\n",
      " </w:p>\n",
      "</w:hdr>\n",
      "\n",
      "<?xml version=\"1.0\" encoding=\"utf-8\"?>\n",
      "<w:ftr mc:Ignorable=\"w14\" xmlns:m=\"http://schemas.openxmlformats.org/officeDocument/2006/math\" xmlns:mc=\"http://schemas.openxmlformats.org/markup-compatibility/2006\" xmlns:o=\"urn:schemas-microsoft-com:office:office\" xmlns:r=\"http://schemas.openxmlformats.org/officeDocument/2006/relationships\" xmlns:v=\"urn:schemas-microsoft-com:vml\" xmlns:w=\"http://schemas.openxmlformats.org/wordprocessingml/2006/main\" xmlns:w10=\"urn:schemas-microsoft-com:office:word\" xmlns:w14=\"http://schemas.microsoft.com/office/word/2010/wordml\" xmlns:wp=\"http://schemas.openxmlformats.org/drawingml/2006/wordprocessingDrawing\" xmlns:wpg=\"http://schemas.microsoft.com/office/word/2010/wordprocessingGroup\" xmlns:wps=\"http://schemas.microsoft.com/office/word/2010/wordprocessingShape\">\n",
      " <w:p>\n",
      "  <w:pPr>\n",
      "   <w:pStyle w:val=\"Header &amp; Footer\"/>\n",
      "   <w:bidi w:val=\"0\"/>\n",
      "  </w:pPr>\n",
      "  <w:r/>\n",
      " </w:p>\n",
      "</w:ftr>\n"
     ]
    }
   ],
   "source": [
    "print(BeautifulSoup(document.read('word/header1.xml'), 'xml').prettify())\n",
    "print()\n",
    "print(BeautifulSoup(document.read('word/footer1.xml'), 'xml').prettify())"
   ]
  },
  {
   "cell_type": "code",
   "execution_count": 23,
   "metadata": {},
   "outputs": [
    {
     "name": "stdout",
     "output_type": "stream",
     "text": [
      "<?xml version=\"1.0\" encoding=\"utf-8\"?>\n",
      "<a:theme name=\"Blank\" xmlns:a=\"http://schemas.openxmlformats.org/drawingml/2006/main\" xmlns:r=\"http://schemas.openxmlformats.org/officeDocument/2006/relationships\">\n",
      " <a:themeElements>\n",
      "  <a:clrScheme name=\"Blank\">\n",
      "   <a:dk1>\n",
      "    <a:srgbClr val=\"000000\"/>\n",
      "   </a:dk1>\n",
      "   <a:lt1>\n",
      "    <a:srgbClr val=\"FFFFFF\"/>\n",
      "   </a:lt1>\n",
      "   <a:dk2>\n",
      "    <a:srgbClr val=\"A7A7A7\"/>\n",
      "   </a:dk2>\n",
      "   <a:lt2>\n",
      "    <a:srgbClr val=\"535353\"/>\n",
      "   </a:lt2>\n",
      "   <a:accent1>\n",
      "    <a:srgbClr val=\"00A2FF\"/>\n",
      "   </a:accent1>\n",
      "   <a:accent2>\n",
      "    <a:srgbClr val=\"16E7CF\"/>\n",
      "   </a:accent2>\n",
      "   <a:accent3>\n",
      "    <a:srgbClr val=\"61D836\"/>\n",
      "   </a:accent3>\n",
      "   <a:accent4>\n",
      "    <a:srgbClr val=\"FFD932\"/>\n",
      "   </a:accent4>\n",
      "   <a:accent5>\n",
      "    <a:srgbClr val=\"FF644E\"/>\n",
      "   </a:accent5>\n",
      "   <a:accent6>\n",
      "    <a:srgbClr val=\"FF42A1\"/>\n",
      "   </a:accent6>\n",
      "   <a:hlink>\n",
      "    <a:srgbClr val=\"0000FF\"/>\n",
      "   </a:hlink>\n",
      "   <a:folHlink>\n",
      "    <a:srgbClr val=\"FF00FF\"/>\n",
      "   </a:folHlink>\n",
      "  </a:clrScheme>\n",
      "  <a:fontScheme name=\"Blank\">\n",
      "   \n"
     ]
    }
   ],
   "source": [
    "print(BeautifulSoup(document.read('word/theme/theme1.xml'), 'xml').prettify()[:1000])"
   ]
  },
  {
   "cell_type": "code",
   "execution_count": 24,
   "metadata": {},
   "outputs": [
    {
     "name": "stdout",
     "output_type": "stream",
     "text": [
      "<?xml version=\"1.0\" encoding=\"utf-8\"?>\n",
      "<w:settings xmlns:mc=\"http://schemas.openxmlformats.org/markup-compatibility/2006\" xmlns:o=\"urn:schemas-microsoft-com:office:office\" xmlns:v=\"urn:schemas-microsoft-com:vml\" xmlns:w=\"http://schemas.openxmlformats.org/wordprocessingml/2006/main\">\n",
      " <w:view w:val=\"print\"/>\n",
      " <w:mirrorMargins w:val=\"0\"/>\n",
      " <w:bordersDoNotSurroundHeader w:val=\"0\"/>\n",
      " <w:bordersDoNotSurroundFooter w:val=\"0\"/>\n",
      " <w:displayBackgroundShape/>\n",
      " <w:revisionView w:comments=\"1\" w:formatting=\"0\" w:insDel=\"1\" w:markup=\"1\"/>\n",
      " <w:defaultTabStop w:val=\"720\"/>\n",
      " <w:autoHyphenation w:val=\"0\"/>\n",
      " <w:evenAndOddHeaders w:val=\"0\"/>\n",
      " <w:bookFoldPrinting w:val=\"0\"/>\n",
      " <w:noLineBreaksAfter w:lang=\"English\" w:val=\"‘“(〔[{〈《「『【⦅〘〖«〝︵︷︹︻︽︿﹁﹃﹇﹙﹛﹝｢\"/>\n",
      " <w:noLineBreaksBefore w:lang=\"English\" w:val=\"’”)〕]}〉\"/>\n",
      " <w:compat>\n",
      "  <w:compatSetting w:name=\"compatibilityMode\" w:uri=\"http://schemas.microsoft.com/office/word\" w:val=\"15\"/>\n",
      " </w:compat>\n",
      " <w:clrSchemeMapping w:accent1=\"accent1\" w:accent2=\"accent2\" w:accent3=\"accent3\" w:accent4=\"accent4\" w:accent5=\"accent5\" w:accent6=\"accent6\" w:bg1=\"light1\" w:bg2=\"light2\" w:followedHyperlink=\"followedHyperlink\" w:hyperlink=\"hyperlink\" w:t1=\"dark1\" w:t2=\"dark2\"/>\n",
      "</w:settings>\n"
     ]
    }
   ],
   "source": [
    "print(BeautifulSoup(document.read('word/settings.xml'), 'xml').prettify())"
   ]
  },
  {
   "cell_type": "code",
   "execution_count": 24,
   "metadata": {},
   "outputs": [],
   "source": [
    "# it's the text of the document\n",
    "bs = BeautifulSoup(document.read('word/document.xml'), 'xml')"
   ]
  },
  {
   "cell_type": "code",
   "execution_count": null,
   "metadata": {},
   "outputs": [],
   "source": []
  }
 ],
 "metadata": {
  "kernelspec": {
   "display_name": "Python 3",
   "language": "python",
   "name": "python3"
  },
  "language_info": {
   "codemirror_mode": {
    "name": "ipython",
    "version": 3
   },
   "file_extension": ".py",
   "mimetype": "text/x-python",
   "name": "python",
   "nbconvert_exporter": "python",
   "pygments_lexer": "ipython3",
   "version": "3.7.6"
  }
 },
 "nbformat": 4,
 "nbformat_minor": 2
}
