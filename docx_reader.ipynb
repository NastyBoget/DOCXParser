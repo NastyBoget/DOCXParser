{
 "cells": [
  {
   "cell_type": "code",
   "execution_count": 1,
   "metadata": {},
   "outputs": [],
   "source": [
    "import zipfile\n",
    "from bs4 import BeautifulSoup"
   ]
  },
  {
   "cell_type": "code",
   "execution_count": 5,
   "metadata": {
    "pycharm": {
     "name": "#%%\n"
    }
   },
   "outputs": [],
   "source": [
    "name_list = ['doc_002115.docx', 'doc_000651.docx']"
   ]
  },
  {
   "cell_type": "code",
   "execution_count": 3,
   "metadata": {
    "pycharm": {
     "name": "#%%\n"
    }
   },
   "outputs": [],
   "source": [
    "def make_xml(filename):\n",
    "    document = zipfile.ZipFile('examples/' + filename)\n",
    "    with open('examples/' + filename + '_out.xml', 'w') as write_file:\n",
    "        write_file.write(BeautifulSoup(document.read('word/document.xml'), 'xml').prettify())\n",
    "    with open('examples/' + filename + '_styles.xml', 'w') as write_file:\n",
    "        write_file.write(BeautifulSoup(document.read('word/styles.xml'), 'xml').prettify())\n",
    "    try:\n",
    "        with open('examples/' + filename + '_numbering.xml', 'w') as write_file:\n",
    "            write_file.write(BeautifulSoup(document.read('word/numbering.xml'), 'xml').prettify())\n",
    "    except KeyError:\n",
    "        print(\"there isn't file numberings.xml for \" + filename)"
   ]
  },
  {
   "cell_type": "code",
   "execution_count": 6,
   "metadata": {
    "pycharm": {
     "name": "#%%\n"
    }
   },
   "outputs": [],
   "source": [
    "for file in name_list:\n",
    "    make_xml('docx/docx/' + file)\n"
   ]
  }
 ],
 "metadata": {
  "kernelspec": {
   "display_name": "Python 3",
   "language": "python",
   "name": "python3"
  },
  "language_info": {
   "codemirror_mode": {
    "name": "ipython",
    "version": 3
   },
   "file_extension": ".py",
   "mimetype": "text/x-python",
   "name": "python",
   "nbconvert_exporter": "python",
   "pygments_lexer": "ipython3",
   "version": "3.7.6"
  }
 },
 "nbformat": 4,
 "nbformat_minor": 2
}