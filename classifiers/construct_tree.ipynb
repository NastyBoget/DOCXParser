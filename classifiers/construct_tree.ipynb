{
 "cells": [
  {
   "cell_type": "code",
   "execution_count": 1,
   "outputs": [],
   "source": [
    "from classifiers.pair_classifier.pair_classifier import PairClassifier\n",
    "from classifiers.tz_classifier.tz_classifier import TzLineTypeClassifier\n",
    "\n",
    "pair_classifier = PairClassifier.load_pickled(config={})\n",
    "tz_classifier = TzLineTypeClassifier.load_pickled(config={})"
   ],
   "metadata": {
    "collapsed": false,
    "pycharm": {
     "name": "#%%\n"
    }
   }
  },
  {
   "cell_type": "code",
   "execution_count": 2,
   "metadata": {
    "collapsed": true
   },
   "outputs": [],
   "source": [
    "from docx_parser.document_parser import DOCXParser\n",
    "\n",
    "\n",
    "doc_name = \"../data/1611572467_467.docx\"\n",
    "docx_parser = DOCXParser()\n",
    "docx_parser.parse(doc_name)\n",
    "lines = docx_parser.get_lines_with_meta()"
   ]
  },
  {
   "cell_type": "code",
   "execution_count": 3,
   "outputs": [],
   "source": [
    "from tree_constructor import DocumentTreeConstructor\n",
    "\n",
    "tree_constructor = DocumentTreeConstructor(comparator=pair_classifier, line_type_classifier=tz_classifier)\n",
    "tree = tree_constructor.construct_tree(lines, with_type=True)"
   ],
   "metadata": {
    "collapsed": false,
    "pycharm": {
     "name": "#%%\n"
    }
   }
  },
  {
   "cell_type": "code",
   "execution_count": 4,
   "outputs": [
    {
     "data": {
      "text/plain": "{'type': 'root',\n 'children': [{'type': 'title',\n   'data': {'text': 'ТЕХНИЧЕСКОЕ ЗАДАНИЕ ',\n    'level': None,\n    'uid': 'e9c87f98bffab8a6b576c9f232f6910c_a9c66dbe50d3a99771a25955712274f4',\n    'type': 'raw_text',\n    'annotations': [('indentation', 0, 20, '0'),\n     ('alignment', 0, 20, 'center'),\n     ('bold', 0, 20, 'True'),\n     ('size', 0, 20, '12.0'),\n     ('style', 0, 20, 'normal')],\n    'label': 'title'},\n   'children': [{'type': 'title',\n     'data': {'text': 'На разведение и уход за альпаками. Принято министерством по делам альпаководства.',\n      'level': None,\n      'uid': 'e9c87f98bffab8a6b576c9f232f6910c_8d94f38aa455269c86acb82ac20c439d',\n      'type': 'raw_text',\n      'annotations': [('indentation', 0, 81, '0'),\n       ('alignment', 0, 81, 'center'),\n       ('size', 0, 81, '13.0'),\n       ('style', 0, 81, 'consplustitle')],\n      'label': 'title'},\n     'children': [],\n     'parent': {...}}],\n   'parent': {...}},\n  {'type': 'toc',\n   'data': {'text': 'СОДЕРЖАНИЕ',\n    'level': None,\n    'uid': 'e9c87f98bffab8a6b576c9f232f6910c_3b77fddd6a9dfd2aa683a2054e66a2a5',\n    'type': 'raw_text',\n    'annotations': [('indentation', 0, 10, '0'),\n     ('alignment', 0, 10, 'left'),\n     ('bold', 0, 10, 'True'),\n     ('size', 0, 10, '18.0'),\n     ('style', 0, 10, 'содержание')],\n    'label': 'toc'},\n   'children': [{'type': 'toc',\n     'data': {'text': '1\\tКОРМЛЕНИЕ АЛЬПАКА\\t1',\n      'level': None,\n      'uid': 'e9c87f98bffab8a6b576c9f232f6910c_3ce476d3c6d1ee148dde55afb7479383',\n      'type': 'raw_text',\n      'annotations': [('indentation', 0, 21, '0'),\n       ('alignment', 0, 21, 'left'),\n       ('size', 0, 21, '13.0'),\n       ('style', 0, 21, 'toc 1')],\n      'label': 'toc'},\n     'children': [],\n     'parent': {...}},\n    {'type': 'toc',\n     'data': {'text': '2\\tУХОД ЗА АЛЬПАКАМИ\\t2',\n      'level': None,\n      'uid': 'e9c87f98bffab8a6b576c9f232f6910c_00edcae05dbcbb667b660f6a1ac3c317',\n      'type': 'raw_text',\n      'annotations': [('indentation', 0, 21, '0'),\n       ('alignment', 0, 21, 'left'),\n       ('size', 0, 21, '13.0'),\n       ('style', 0, 21, 'toc 1')],\n      'label': 'toc'},\n     'children': [],\n     'parent': {...}},\n    {'type': 'item',\n     'data': {'text': '1.\\tКормление альпаки',\n      'level': (2, 2),\n      'uid': 'e9c87f98bffab8a6b576c9f232f6910c_6087e84650db956bb5163ed50767dbaf',\n      'type': 'list_item',\n      'annotations': [('indentation', 0, 20, '0'),\n       ('alignment', 0, 20, 'both'),\n       ('size', 0, 20, '13.0'),\n       ('style', 0, 20, 'consplustitle')],\n      'label': 'item'},\n     'children': [{'type': 'item',\n       'data': {'text': '\\t- Качество корма должно быть хорошим',\n        'level': None,\n        'uid': 'e9c87f98bffab8a6b576c9f232f6910c_4ab6a4894247906101a2879bb722d7ce',\n        'type': 'raw_text',\n        'annotations': [('indentation', 0, 37, '0'),\n         ('alignment', 0, 37, 'both'),\n         ('size', 0, 37, '13.0'),\n         ('style', 0, 37, 'consplustitle')],\n        'label': 'item'},\n       'children': [],\n       'parent': {...}},\n      {'type': 'item',\n       'data': {'text': '\\t- Количество корма дожно быть достаточным',\n        'level': None,\n        'uid': 'e9c87f98bffab8a6b576c9f232f6910c_a155eee18e1b2e115d735c690df48058',\n        'type': 'raw_text',\n        'annotations': [('indentation', 0, 42, '0'),\n         ('alignment', 0, 42, 'both'),\n         ('size', 0, 42, '13.0'),\n         ('style', 0, 42, 'consplustitle')],\n        'label': 'item'},\n       'children': [],\n       'parent': {...}}],\n     'parent': {...}},\n    {'type': 'item',\n     'data': {'text': '2.\\tУход за альпаками',\n      'level': (2, 2),\n      'uid': 'e9c87f98bffab8a6b576c9f232f6910c_0355be827b4871fb113b7ef82d706971',\n      'type': 'list_item',\n      'annotations': [('indentation', 0, 20, '0'),\n       ('alignment', 0, 20, 'both'),\n       ('size', 0, 20, '13.0'),\n       ('style', 0, 20, 'consplustitle')],\n      'label': 'item'},\n     'children': [{'type': 'item',\n       'data': {'text': '- Альпаку надо стричь',\n        'level': None,\n        'uid': 'e9c87f98bffab8a6b576c9f232f6910c_03418b1002667182d352007e22257ebb',\n        'type': 'raw_text',\n        'annotations': [('indentation', 0, 21, '0'),\n         ('alignment', 0, 21, 'both'),\n         ('size', 0, 21, '13.0'),\n         ('style', 0, 21, 'consplustitle')],\n        'label': 'item'},\n       'children': [],\n       'parent': {...}},\n      {'type': 'item',\n       'data': {'text': '- Альпаку надо пасти на высоте около 3500 метров над уровнем моря. ',\n        'level': None,\n        'uid': 'e9c87f98bffab8a6b576c9f232f6910c_1299753c36cb1fa1ba1945c99928d062',\n        'type': 'raw_text',\n        'annotations': [('indentation', 0, 67, '0'),\n         ('alignment', 0, 67, 'both'),\n         ('size', 0, 67, '13.0'),\n         ('style', 0, 67, 'consplustitle')],\n        'label': 'item'},\n       'children': [],\n       'parent': {...}}],\n     'parent': {...}}],\n   'parent': {...}}]}"
     },
     "execution_count": 4,
     "metadata": {},
     "output_type": "execute_result"
    }
   ],
   "source": [
    "tree"
   ],
   "metadata": {
    "collapsed": false,
    "pycharm": {
     "name": "#%%\n"
    }
   }
  },
  {
   "cell_type": "markdown",
   "source": [
    "https://plotly.com/python/tree-plots/"
   ],
   "metadata": {
    "collapsed": false
   }
  }
 ],
 "metadata": {
  "kernelspec": {
   "display_name": "Python 3",
   "language": "python",
   "name": "python3"
  },
  "language_info": {
   "codemirror_mode": {
    "name": "ipython",
    "version": 2
   },
   "file_extension": ".py",
   "mimetype": "text/x-python",
   "name": "python",
   "nbconvert_exporter": "python",
   "pygments_lexer": "ipython2",
   "version": "2.7.6"
  }
 },
 "nbformat": 4,
 "nbformat_minor": 0
}