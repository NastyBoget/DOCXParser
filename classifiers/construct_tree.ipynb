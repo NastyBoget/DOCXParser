{
 "cells": [
  {
   "cell_type": "code",
   "execution_count": 2,
   "outputs": [],
   "source": [
    "from typing import Optional\n",
    "from classifiers.pair_classifier.pair_classifier import PairClassifier\n",
    "from classifiers.tz_classifier.tz_classifier import TzLineTypeClassifier\n",
    "\n",
    "pair_classifier = PairClassifier.load_pickled(config={})\n",
    "tz_classifier = TzLineTypeClassifier.load_pickled(config={})"
   ],
   "metadata": {
    "collapsed": false,
    "pycharm": {
     "name": "#%%\n"
    }
   }
  },
  {
   "cell_type": "code",
   "execution_count": 3,
   "metadata": {
    "collapsed": true
   },
   "outputs": [],
   "source": [
    "from docx_parser.document_parser import DOCXParser\n",
    "\n",
    "\n",
    "doc_name = \"../data/1611572467_467.docx\"\n",
    "docx_parser = DOCXParser()\n",
    "docx_parser.parse(doc_name)\n",
    "lines = docx_parser.get_lines_with_meta()"
   ]
  },
  {
   "cell_type": "code",
   "execution_count": 42,
   "outputs": [],
   "source": [
    "from tree_constructor import DocumentTreeConstructor\n",
    "\n",
    "tree_constructor = DocumentTreeConstructor(comparator=pair_classifier, line_type_classifier=tz_classifier)\n",
    "doc_tree = tree_constructor.construct_tree(lines, with_type=True)"
   ],
   "metadata": {
    "collapsed": false,
    "pycharm": {
     "name": "#%%\n"
    }
   }
  },
  {
   "cell_type": "code",
   "execution_count": 43,
   "outputs": [
    {
     "name": "stdout",
     "output_type": "stream",
     "text": [
      "ТЕХНИЧЕСКОЕ ЗАДАНИЕ \n",
      "СОДЕРЖАНИЕ\n"
     ]
    }
   ],
   "source": [
    "for child in doc_tree[\"children\"]:\n",
    "    print(child[\"data\"][\"text\"])"
   ],
   "metadata": {
    "collapsed": false,
    "pycharm": {
     "name": "#%%\n"
    }
   }
  },
  {
   "cell_type": "markdown",
   "source": [
    "https://plotly.com/python/tree-plots/\n",
    "https://treelib.readthedocs.io/en/latest/"
   ],
   "metadata": {
    "collapsed": false,
    "pycharm": {
     "name": "#%% md\n"
    }
   }
  },
  {
   "cell_type": "code",
   "execution_count": 45,
   "outputs": [
    {
     "name": "stdout",
     "output_type": "stream",
     "text": [
      "Root\n",
      "├── СОДЕРЖАНИЕ\n",
      "│   ├── 1\tКОРМЛЕНИЕ АЛЬПАКА\t1\n",
      "│   ├── 1.\tКормление альпаки\n",
      "│   │   ├── \t- Качество корма должно быть хорошим\n",
      "│   │   └── \t- Количество корма дожно быть достаточным\n",
      "│   ├── 2\tУХОД ЗА АЛЬПАКАМИ\t2\n",
      "│   └── 2.\tУход за альпаками\n",
      "│       ├── - Альпаку надо пасти на высоте около 3500 метров над уровнем моря. \n",
      "│       └── - Альпаку надо стричь\n",
      "└── ТЕХНИЧЕСКОЕ ЗАДАНИЕ \n",
      "    └── На разведение и уход за альпаками. Принято министерством по делам альпаководства.\n",
      "\n"
     ]
    }
   ],
   "source": [
    "from treelib import Tree\n",
    "from typing import Optional\n",
    "\n",
    "\n",
    "def create_tree(doc_tree: dict, parent: Optional[str] = None, tree: Optional[Tree] = None):\n",
    "    if parent is None:\n",
    "        tree = Tree()\n",
    "        tree.create_node(\"Root\", \"0\")\n",
    "        parent = \"0\"\n",
    "    for i, subtree in enumerate(doc_tree[\"children\"]):\n",
    "        node_name = parent + str(i)\n",
    "        tree.create_node(subtree[\"data\"][\"text\"], node_name, parent=parent)\n",
    "        create_tree(subtree, node_name, tree)\n",
    "    return tree\n",
    "\n",
    "tree = create_tree(doc_tree)\n",
    "tree.show()"
   ],
   "metadata": {
    "collapsed": false,
    "pycharm": {
     "name": "#%%\n"
    }
   }
  },
  {
   "cell_type": "code",
   "execution_count": null,
   "outputs": [],
   "source": [],
   "metadata": {
    "collapsed": false,
    "pycharm": {
     "name": "#%%\n"
    }
   }
  }
 ],
 "metadata": {
  "kernelspec": {
   "display_name": "Python 3",
   "language": "python",
   "name": "python3"
  },
  "language_info": {
   "codemirror_mode": {
    "name": "ipython",
    "version": 2
   },
   "file_extension": ".py",
   "mimetype": "text/x-python",
   "name": "python",
   "nbconvert_exporter": "python",
   "pygments_lexer": "ipython2",
   "version": "2.7.6"
  }
 },
 "nbformat": 4,
 "nbformat_minor": 0
}