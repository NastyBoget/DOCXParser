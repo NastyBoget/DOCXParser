{
 "cells": [
  {
   "cell_type": "code",
   "execution_count": 1,
   "metadata": {},
   "outputs": [],
   "source": [
    "import os\n",
    "from collections import defaultdict\n",
    "import numpy as np\n",
    "import matplotlib.pyplot as plt\n",
    "from typing import Optional\n",
    "\n",
    "\n",
    "def skip_labels(label: str) -> Optional[str]:\n",
    "    if label not in (\"other\", \"footer\"):\n",
    "        return label\n",
    "    return None\n"
   ]
  },
  {
   "cell_type": "code",
   "execution_count": 2,
   "outputs": [],
   "source": [
    "from classifiers.tz_classifier.tz_features_extractor import TzTextFeatures\n",
    "from classifiers.tz_classifier.tz_classifier_trainer import TzClassifierTrainer"
   ],
   "metadata": {
    "collapsed": false,
    "pycharm": {
     "name": "#%%\n"
    }
   }
  },
  {
   "cell_type": "code",
   "execution_count": 3,
   "outputs": [],
   "source": [
    "resources_path = \"/Users/anastasiabogatenkova/DOCXParser/classifiers/tz_classifier/resources\"\n",
    "path_out = os.path.join(resources_path, \"tz_classifier.pkl.gz\")\n",
    "data_path = \"/Users/anastasiabogatenkova/DOCXParser/data/labeled_tz.json\"\n",
    "\n",
    "feature_extractor = TzTextFeatures()\n",
    "classifier_parameters = dict(learning_rate=0.2,\n",
    "                             n_estimators=600,\n",
    "                             booster=\"gbtree\",\n",
    "                             max_depth=5,\n",
    "                             colsample_bynode=0.1,\n",
    "                             colsample_bytree=1)"
   ],
   "metadata": {
    "collapsed": false,
    "pycharm": {
     "name": "#%%\n"
    }
   }
  },
  {
   "cell_type": "code",
   "execution_count": 4,
   "outputs": [
    {
     "name": "stderr",
     "output_type": "stream",
     "text": [
      "100%|██████████| 10/10 [00:16<00:00,  1.62s/it]\n"
     ]
    },
    {
     "name": "stdout",
     "output_type": "stream",
     "text": [
      "save errors in /Users/anastasiabogatenkova/DOCXParser/classifiers/tz_classifier/resources/errors\n",
      "true             -> predicted       \t cnt\t percent\n",
      "item             -> part             00,037 (16.23%)\n",
      "title            -> raw_text         00,031 (13.60%)\n",
      "item             -> raw_text         00,030 (13.16%)\n",
      "toc              -> raw_text         00,023 (10.09%)\n",
      "part             -> toc              00,019 (8.33%)\n",
      "item             -> toc              00,015 (6.58%)\n",
      "toc              -> part             00,014 (6.14%)\n",
      "raw_text         -> title            00,013 (5.70%)\n",
      "raw_text         -> toc              00,009 (3.95%)\n",
      "raw_text         -> item             00,008 (3.51%)\n",
      "toc              -> item             00,007 (3.07%)\n",
      "part             -> raw_text         00,006 (2.63%)\n",
      "part             -> item             00,006 (2.63%)\n",
      "raw_text         -> part             00,004 (1.75%)\n",
      "toc              -> title            00,004 (1.75%)\n",
      "item             -> title            00,001 (0.44%)\n",
      "title            -> toc              00,001 (0.44%)\n",
      "After postprocessing:\n",
      "true             -> predicted       \t cnt\t percent\n",
      "item             -> part             00,036 (18.27%)\n",
      "item             -> raw_text         00,029 (14.72%)\n",
      "toc              -> raw_text         00,023 (11.68%)\n",
      "part             -> toc              00,019 (9.64%)\n",
      "item             -> toc              00,016 (8.12%)\n",
      "toc              -> part             00,013 (6.60%)\n",
      "raw_text         -> title            00,009 (4.57%)\n",
      "raw_text         -> item             00,009 (4.57%)\n",
      "raw_text         -> toc              00,008 (4.06%)\n",
      "toc              -> item             00,007 (3.55%)\n",
      "part             -> raw_text         00,006 (3.05%)\n",
      "part             -> item             00,006 (3.05%)\n",
      "title            -> toc              00,005 (2.54%)\n",
      "toc              -> title            00,004 (2.03%)\n",
      "raw_text         -> part             00,003 (1.52%)\n",
      "title            -> raw_text         00,003 (1.52%)\n",
      "item             -> title            00,001 (0.51%)\n",
      "Accuracy: OrderedDict([('mean', 0.9389690151285759), ('scores', [0.9206680584551148, 0.8839590443686007, 0.9783783783783784, 0.9326530612244898, 0.967654986522911, 0.9075342465753424, 0.9622641509433962, 0.9660574412532638, 0.9340659340659341, 0.9364548494983278])])\n",
      "F1-measure: OrderedDict([('mean', 0.9179960311253907), ('scores', [0.9144307219556959, 0.820959001325296, 0.9671466834946211, 0.9240680099709708, 0.9493313099971459, 0.9042339506486764, 0.9449577277967303, 0.9489471596314125, 0.9258051917765325, 0.8800805546568258])])\n",
      "Accuracy after postprocessing: OrderedDict([('mean', 0.9469899169707808), ('scores', [0.9227557411273486, 0.9010238907849829, 0.9783783783783784, 0.9469387755102041, 0.9784366576819407, 0.9006849315068494, 0.9757412398921833, 0.9843342036553525, 0.9384615384615385, 0.9431438127090301])])\n",
      "F1-measure after postprocessing: OrderedDict([('mean', 0.9354569694848154), ('scores', [0.9215117330730969, 0.8514973788332096, 0.9671466834946211, 0.9492465162643837, 0.9776000197691946, 0.8912943159603884, 0.9748764914186839, 0.9868713302515605, 0.9363881834009042, 0.898137042382111])])\n"
     ]
    }
   ],
   "source": [
    "trainer = TzClassifierTrainer(\n",
    "    data_path=data_path,\n",
    "    feature_extractor=feature_extractor,\n",
    "    path_out=path_out,\n",
    "    path_log=resources_path,\n",
    "    label_transformer=skip_labels,\n",
    "    classifier_parameters=classifier_parameters,\n",
    "    random_seed=42,\n",
    ")\n",
    "\n",
    "trainer.fit(cross_val_only=True)"
   ],
   "metadata": {
    "collapsed": false,
    "pycharm": {
     "name": "#%%\n"
    }
   }
  },
  {
   "cell_type": "code",
   "execution_count": 5,
   "outputs": [
    {
     "data": {
      "text/plain": "(['title', 'title', 'toc', 'raw_text', 'raw_text'],\n ['title', 'title', 'title', 'title', 'title'])"
     },
     "execution_count": 5,
     "metadata": {},
     "output_type": "execute_result"
    }
   ],
   "source": [
    "y_test = trainer.y_val\n",
    "y_pred = trainer.y_pred\n",
    "\n",
    "y_test[:5], y_pred[:5]"
   ],
   "metadata": {
    "collapsed": false,
    "pycharm": {
     "name": "#%%\n"
    }
   }
  },
  {
   "cell_type": "code",
   "execution_count": 6,
   "outputs": [
    {
     "name": "stdout",
     "output_type": "stream",
     "text": [
      "defaultdict(<class 'int'>, {'title': 23, 'toc': 67, 'raw_text': 69, 'item': 103, 'part': 30})\n"
     ]
    }
   ],
   "source": [
    "classes_amount = defaultdict(int)\n",
    "for item in y_test:\n",
    "    classes_amount[item] += 1\n",
    "\n",
    "print(classes_amount)"
   ],
   "metadata": {
    "collapsed": false,
    "pycharm": {
     "name": "#%%\n"
    }
   }
  },
  {
   "cell_type": "code",
   "execution_count": 7,
   "outputs": [
    {
     "data": {
      "text/plain": "array([[23,  0,  0,  0,  0],\n       [ 1, 65,  0,  0,  1],\n       [ 1,  5, 82, 13,  2],\n       [ 0,  0,  1, 28,  1],\n       [ 3,  1,  0,  0, 65]])"
     },
     "execution_count": 7,
     "metadata": {},
     "output_type": "execute_result"
    }
   ],
   "source": [
    "from sklearn.metrics import confusion_matrix\n",
    "\n",
    "confusion_matrix(y_test, y_pred, labels=['title', 'toc', 'item', 'part', 'raw_text'])"
   ],
   "metadata": {
    "collapsed": false,
    "pycharm": {
     "name": "#%%\n"
    }
   }
  },
  {
   "cell_type": "code",
   "execution_count": 8,
   "outputs": [],
   "source": [
    "def plot_confusion_matrix(cm, classes,\n",
    "                          normalize=False,\n",
    "                          title='Confusion matrix',\n",
    "                          cmap=plt.cm.Blues):\n",
    "    \"\"\"\n",
    "    This function prints and plots the confusion matrix.\n",
    "    Normalization can be applied by setting `normalize=True`.\n",
    "    \"\"\"\n",
    "    import itertools\n",
    "\n",
    "    print(cm)\n",
    "\n",
    "    plt.imshow(cm, interpolation='nearest', cmap=cmap)\n",
    "#     plt.title(title, fontsize=20)\n",
    "    plt.colorbar()\n",
    "    tick_marks = np.arange(len(classes))\n",
    "    plt.xticks(tick_marks, classes, rotation=45, fontsize=20)\n",
    "    plt.yticks(tick_marks, classes, fontsize=20)\n",
    "\n",
    "    fmt = '.2f' if normalize else 'd'\n",
    "    thresh = cm.max() / 2.\n",
    "    for i, j in itertools.product(range(cm.shape[0]), range(cm.shape[1])):\n",
    "        plt.text(j, i, format(cm[i, j], fmt),\n",
    "                 horizontalalignment=\"center\",\n",
    "                 fontsize=20,\n",
    "                 color=\"white\" if cm[i, j] > thresh else \"black\")\n",
    "\n",
    "    plt.ylabel('Правильная метка', fontsize=20)\n",
    "    plt.xlabel('Предсказанная метка', fontsize=20)\n",
    "    plt.savefig('confusion_matrix.png',  bbox_inches='tight')"
   ],
   "metadata": {
    "collapsed": false,
    "pycharm": {
     "name": "#%%\n"
    }
   }
  },
  {
   "cell_type": "code",
   "execution_count": 9,
   "outputs": [
    {
     "name": "stdout",
     "output_type": "stream",
     "text": [
      "[[23  0  0  0  0]\n",
      " [ 1 65  0  0  1]\n",
      " [ 1  5 82 13  2]\n",
      " [ 0  0  1 28  1]\n",
      " [ 3  1  0  0 65]]\n"
     ]
    },
    {
     "data": {
      "text/plain": "<Figure size 720x720 with 2 Axes>",
      "image/png": "[encoded data removed]"
     },
     "metadata": {
      "needs_background": "light"
     },
     "output_type": "display_data"
    }
   ],
   "source": [
    "cnf_matrix = confusion_matrix(y_test, y_pred, labels=['title', 'toc', 'item', 'part', 'raw_text'])\n",
    "np.set_printoptions(precision=2)\n",
    "\n",
    "# Plot non-normalized confusion matrix\n",
    "plt.figure(figsize=(10, 10))\n",
    "plot_confusion_matrix(cnf_matrix, classes=['title', 'toc', 'item', 'part', 'raw_text'],\n",
    "                      title='Confusion matrix, without normalization')"
   ],
   "metadata": {
    "collapsed": false,
    "pycharm": {
     "name": "#%%\n"
    }
   }
  }
 ],
 "metadata": {
  "kernelspec": {
   "display_name": "Python 3",
   "language": "python",
   "name": "python3"
  },
  "language_info": {
   "codemirror_mode": {
    "name": "ipython",
    "version": 3
   },
   "file_extension": ".py",
   "mimetype": "text/x-python",
   "name": "python",
   "nbconvert_exporter": "python",
   "pygments_lexer": "ipython3",
   "version": "3.8.5"
  }
 },
 "nbformat": 4,
 "nbformat_minor": 4
}