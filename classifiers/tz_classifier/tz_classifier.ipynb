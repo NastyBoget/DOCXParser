{
 "cells": [
  {
   "cell_type": "code",
   "execution_count": 1,
   "metadata": {},
   "outputs": [],
   "source": [
    "from tz_features_extractor import TzTextFeatures\n",
    "from document_parser import DOCXParser"
   ]
  },
  {
   "cell_type": "code",
   "execution_count": 2,
   "outputs": [
    {
     "name": "stdout",
     "output_type": "stream",
     "text": [
      "{'text': 'VIII. ТЕХНИЧЕСКОЕ ЗАДАНИЕ', 'level': (2, 1), 'uid': 'cc37aac1532ff4f4b871b61ecbb136f9', 'type': 'style_header', 'annotations': [('indentation', 0, 25, '0'), ('alignment', 0, 25, 'center'), ('bold', 0, 25, 'True'), ('size', 0, 25, '12.0'), ('style', 0, 25, 'heading 1')]}\n"
     ]
    }
   ],
   "source": [
    "names = [\"/Users/anastasiabogatenkova/DOCXParser/data/1611135278_935.docx\",\n",
    "         \"/Users/anastasiabogatenkova/DOCXParser/data/1611135281_498.docx\"]\n",
    "\n",
    "docs = []\n",
    "for name in names:\n",
    "    docx_parser = DOCXParser()\n",
    "    docx_parser.parse(name)\n",
    "    docs.append(docx_parser.get_lines_with_meta())\n",
    "\n",
    "print(docs[0][0])"
   ],
   "metadata": {
    "collapsed": false,
    "pycharm": {
     "name": "#%%\n"
    }
   }
  },
  {
   "cell_type": "code",
   "execution_count": 3,
   "outputs": [],
   "source": [
    "features_extractor = TzTextFeatures()\n",
    "features = features_extractor.transform(docs)\n"
   ],
   "metadata": {
    "collapsed": false,
    "pycharm": {
     "name": "#%%\n"
    }
   }
  },
  {
   "cell_type": "code",
   "execution_count": 2,
   "outputs": [],
   "source": [
    "import os\n",
    "from typing import Optional\n",
    "\n",
    "\n",
    "def skip_labels(label: str) -> Optional[str]:\n",
    "    if label not in (\"other\", \"footer\"):\n",
    "        return label\n",
    "    return None\n"
   ],
   "metadata": {
    "collapsed": false,
    "pycharm": {
     "name": "#%%\n"
    }
   }
  },
  {
   "cell_type": "code",
   "execution_count": 1,
   "outputs": [],
   "source": [
    "from classifiers.tz_classifier.tz_features_extractor import TzTextFeatures\n",
    "from classifiers.tz_classifier.tz_classifier_trainer import TzClassifierTrainer"
   ],
   "metadata": {
    "collapsed": false,
    "pycharm": {
     "name": "#%%\n"
    }
   }
  },
  {
   "cell_type": "code",
   "execution_count": 3,
   "outputs": [],
   "source": [
    "resources_path = \"/Users/anastasiabogatenkova/DOCXParser/classifiers/tz_classifier/resources\"\n",
    "path_out = os.path.join(resources_path, \"tz_classifier.pkl.gz\")\n",
    "data_path = \"/Users/anastasiabogatenkova/DOCXParser/data/labeled_tz.json\"\n",
    "\n",
    "feature_extractor = TzTextFeatures()\n",
    "classifier_parameters = dict(learning_rate=0.2,\n",
    "                             n_estimators=600,\n",
    "                             booster=\"gbtree\",\n",
    "                             max_depth=5,\n",
    "                             colsample_bynode=0.1,\n",
    "                             colsample_bytree=1)"
   ],
   "metadata": {
    "collapsed": false,
    "pycharm": {
     "name": "#%%\n"
    }
   }
  },
  {
   "cell_type": "code",
   "execution_count": 4,
   "outputs": [
    {
     "name": "stderr",
     "output_type": "stream",
     "text": [
      "100%|██████████| 10/10 [00:09<00:00,  1.06it/s]\n"
     ]
    },
    {
     "name": "stdout",
     "output_type": "stream",
     "text": [
      "save errors in /Users/anastasiabogatenkova/DOCXParser/classifiers/tz_classifier/resources/errors\n",
      "true             -> predicted       \t cnt\t percent\n",
      "item             -> toc              00,074 (21.70%)\n",
      "item             -> part             00,059 (17.30%)\n",
      "item             -> raw_text         00,039 (11.44%)\n",
      "toc              -> item             00,035 (10.26%)\n",
      "title            -> raw_text         00,028 (8.21%)\n",
      "raw_text         -> title            00,026 (7.62%)\n",
      "part             -> raw_text         00,020 (5.87%)\n",
      "part             -> item             00,018 (5.28%)\n",
      "toc              -> raw_text         00,014 (4.11%)\n",
      "raw_text         -> toc              00,011 (3.23%)\n",
      "toc              -> title            00,010 (2.93%)\n",
      "part             -> toc              00,005 (1.47%)\n",
      "raw_text         -> item             00,001 (0.29%)\n",
      "raw_text         -> part             00,001 (0.29%)\n"
     ]
    }
   ],
   "source": [
    "trainer = TzClassifierTrainer(\n",
    "    data_path=data_path,\n",
    "    feature_extractor=feature_extractor,\n",
    "    path_out=path_out,\n",
    "    path_log=resources_path,\n",
    "    label_transformer=skip_labels,\n",
    "    classifier_parameters=classifier_parameters,\n",
    "    random_seed=42,\n",
    ")\n",
    "\n",
    "trainer.fit(cross_val_only=True)"
   ],
   "metadata": {
    "collapsed": false,
    "pycharm": {
     "name": "#%%\n"
    }
   }
  },
  {
   "cell_type": "code",
   "execution_count": 5,
   "outputs": [
    {
     "name": "stderr",
     "output_type": "stream",
     "text": [
      "100%|██████████| 10/10 [00:11<00:00,  1.11s/it]\n"
     ]
    },
    {
     "name": "stdout",
     "output_type": "stream",
     "text": [
      "save errors in /Users/anastasiabogatenkova/DOCXParser/classifiers/tz_classifier/resources/errors\n",
      "true             -> predicted       \t cnt\t percent\n",
      "item             -> toc              00,074 (21.70%)\n",
      "item             -> part             00,059 (17.30%)\n",
      "item             -> raw_text         00,039 (11.44%)\n",
      "toc              -> item             00,035 (10.26%)\n",
      "title            -> raw_text         00,028 (8.21%)\n",
      "raw_text         -> title            00,026 (7.62%)\n",
      "part             -> raw_text         00,020 (5.87%)\n",
      "part             -> item             00,018 (5.28%)\n",
      "toc              -> raw_text         00,014 (4.11%)\n",
      "raw_text         -> toc              00,011 (3.23%)\n",
      "toc              -> title            00,010 (2.93%)\n",
      "part             -> toc              00,005 (1.47%)\n",
      "raw_text         -> item             00,001 (0.29%)\n",
      "raw_text         -> part             00,001 (0.29%)\n",
      "data train shape (1376, 150)\n",
      "Save scores in /Users/anastasiabogatenkova/DOCXParser/classifiers/tz_classifier/resources/scores.txt\n"
     ]
    }
   ],
   "source": [
    "trainer.fit(cross_val_only=False)\n"
   ],
   "metadata": {
    "collapsed": false,
    "pycharm": {
     "name": "#%%\n"
    }
   }
  }
 ],
 "metadata": {
  "kernelspec": {
   "display_name": "Python 3",
   "language": "python",
   "name": "python3"
  },
  "language_info": {
   "codemirror_mode": {
    "name": "ipython",
    "version": 3
   },
   "file_extension": ".py",
   "mimetype": "text/x-python",
   "name": "python",
   "nbconvert_exporter": "python",
   "pygments_lexer": "ipython3",
   "version": "3.8.5"
  }
 },
 "nbformat": 4,
 "nbformat_minor": 4
}