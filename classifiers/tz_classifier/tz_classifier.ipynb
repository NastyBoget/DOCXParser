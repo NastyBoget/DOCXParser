{
 "cells": [
  {
   "cell_type": "code",
   "execution_count": 1,
   "metadata": {},
   "outputs": [],
   "source": [
    "from tz_features_extractor import TzTextFeatures\n",
    "from document_parser import DOCXParser"
   ]
  },
  {
   "cell_type": "code",
   "execution_count": 2,
   "outputs": [
    {
     "name": "stdout",
     "output_type": "stream",
     "text": [
      "{'text': 'VIII. ТЕХНИЧЕСКОЕ ЗАДАНИЕ', 'level': (2, 1), 'uid': 'cc37aac1532ff4f4b871b61ecbb136f9', 'type': 'style_header', 'annotations': [('indentation', 0, 25, '0'), ('alignment', 0, 25, 'center'), ('bold', 0, 25, 'True'), ('size', 0, 25, '12.0'), ('style', 0, 25, 'heading 1')]}\n"
     ]
    }
   ],
   "source": [
    "names = [\"/Users/anastasiabogatenkova/DOCXParser/data/1611135278_935.docx\",\n",
    "         \"/Users/anastasiabogatenkova/DOCXParser/data/1611135281_498.docx\"]\n",
    "\n",
    "docs = []\n",
    "for name in names:\n",
    "    docx_parser = DOCXParser()\n",
    "    docx_parser.parse(name)\n",
    "    docs.append(docx_parser.get_lines_with_meta())\n",
    "\n",
    "print(docs[0][0])"
   ],
   "metadata": {
    "collapsed": false,
    "pycharm": {
     "name": "#%%\n"
    }
   }
  },
  {
   "cell_type": "code",
   "execution_count": 3,
   "outputs": [],
   "source": [
    "features_extractor = TzTextFeatures()\n",
    "features = features_extractor.transform(docs)"
   ],
   "metadata": {
    "collapsed": false,
    "pycharm": {
     "name": "#%%\n"
    }
   }
  },
  {
   "cell_type": "code",
   "execution_count": 4,
   "outputs": [
    {
     "data": {
      "text/plain": "array([[ 0.,  0.,  0., ...,  0.,  0.,  0.],\n       [ 0.,  0.,  0., ...,  0.,  0.,  1.],\n       [ 0.,  0.,  0., ...,  0.,  0.,  1.],\n       ...,\n       [ 0.,  0.,  0., ..., 86., 90.,  1.],\n       [ 0.,  0.,  0., ..., 87., 91.,  1.],\n       [ 0.,  0.,  0., ..., 88., 92.,  1.]])"
     },
     "execution_count": 4,
     "metadata": {},
     "output_type": "execute_result"
    }
   ],
   "source": [
    "features"
   ],
   "metadata": {
    "collapsed": false,
    "pycharm": {
     "name": "#%%\n"
    }
   }
  }
 ],
 "metadata": {
  "kernelspec": {
   "display_name": "Python 3",
   "language": "python",
   "name": "python3"
  },
  "language_info": {
   "codemirror_mode": {
    "name": "ipython",
    "version": 3
   },
   "file_extension": ".py",
   "mimetype": "text/x-python",
   "name": "python",
   "nbconvert_exporter": "python",
   "pygments_lexer": "ipython3",
   "version": "3.8.5"
  }
 },
 "nbformat": 4,
 "nbformat_minor": 4
}