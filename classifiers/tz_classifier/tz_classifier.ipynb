{
 "cells": [
  {
   "cell_type": "code",
   "execution_count": 1,
   "metadata": {},
   "outputs": [],
   "source": [
    "import os\n",
    "from collections import defaultdict\n",
    "import numpy as np\n",
    "import matplotlib.pyplot as plt\n",
    "from typing import Optional\n",
    "\n",
    "\n",
    "def skip_labels(label: str) -> Optional[str]:\n",
    "    if label not in (\"other\", \"footer\"):\n",
    "        return label\n",
    "    return None\n"
   ]
  },
  {
   "cell_type": "code",
   "execution_count": 2,
   "outputs": [],
   "source": [
    "from classifiers.tz_classifier.tz_features_extractor import TzTextFeatures\n",
    "from classifiers.tz_classifier.tz_classifier_trainer import TzClassifierTrainer"
   ],
   "metadata": {
    "collapsed": false,
    "pycharm": {
     "name": "#%%\n"
    }
   }
  },
  {
   "cell_type": "code",
   "execution_count": 3,
   "outputs": [],
   "source": [
    "resources_path = \"/Users/anastasiabogatenkova/DOCXParser/classifiers/tz_classifier/resources\"\n",
    "path_out = os.path.join(resources_path, \"tz_classifier.pkl.gz\")\n",
    "data_path = \"/Users/anastasiabogatenkova/DOCXParser/data/labeled_tz.json\"\n",
    "\n",
    "feature_extractor = TzTextFeatures()\n",
    "classifier_parameters = dict(learning_rate=0.2,\n",
    "                             n_estimators=600,\n",
    "                             booster=\"gbtree\",\n",
    "                             max_depth=5,\n",
    "                             colsample_bynode=0.1,\n",
    "                             colsample_bytree=1)"
   ],
   "metadata": {
    "collapsed": false,
    "pycharm": {
     "name": "#%%\n"
    }
   }
  },
  {
   "cell_type": "code",
   "execution_count": 4,
   "outputs": [
    {
     "name": "stderr",
     "output_type": "stream",
     "text": [
      "100%|██████████| 10/10 [00:12<00:00,  1.26s/it]\n"
     ]
    },
    {
     "name": "stdout",
     "output_type": "stream",
     "text": [
      "save errors in /Users/anastasiabogatenkova/DOCXParser/classifiers/tz_classifier/resources/errors\n",
      "true             -> predicted       \t cnt\t percent\n",
      "item             -> raw_text         00,042 (23.60%)\n",
      "item             -> part             00,039 (21.91%)\n",
      "title            -> raw_text         00,033 (18.54%)\n",
      "raw_text         -> title            00,015 (8.43%)\n",
      "raw_text         -> item             00,012 (6.74%)\n",
      "toc              -> raw_text         00,009 (5.06%)\n",
      "part             -> raw_text         00,008 (4.49%)\n",
      "part             -> item             00,006 (3.37%)\n",
      "raw_text         -> part             00,005 (2.81%)\n",
      "toc              -> title            00,005 (2.81%)\n",
      "toc              -> item             00,004 (2.25%)\n",
      "After postprocessing:\n",
      "true             -> predicted       \t cnt\t percent\n",
      "item             -> raw_text         00,041 (29.50%)\n",
      "item             -> part             00,037 (26.62%)\n",
      "raw_text         -> item             00,012 (8.63%)\n",
      "part             -> raw_text         00,008 (5.76%)\n",
      "raw_text         -> title            00,006 (4.32%)\n",
      "part             -> item             00,006 (4.32%)\n",
      "toc              -> title            00,006 (4.32%)\n",
      "toc              -> raw_text         00,006 (4.32%)\n",
      "raw_text         -> part             00,004 (2.88%)\n",
      "toc              -> item             00,004 (2.88%)\n",
      "title            -> raw_text         00,004 (2.88%)\n",
      "raw_text         -> toc              00,002 (1.44%)\n",
      "title            -> toc              00,002 (1.44%)\n",
      "part             -> title            00,001 (0.72%)\n",
      "Accuracy: OrderedDict([('mean', 0.9514047738804341), ('scores', [0.9269311064718163, 0.8907849829351536, 0.9891891891891892, 0.9469387755102041, 0.9811320754716981, 0.8972602739726028, 0.9703504043126685, 0.9712793733681462, 0.9736263736263736, 0.9665551839464883])])\n",
      "F1-measure: OrderedDict([('mean', 0.9261007353425142), ('scores', [0.9142431511064789, 0.7760963635829145, 0.9828393845660705, 0.9384052355868995, 0.9581640905557907, 0.8875493905002102, 0.9477502876869967, 0.9483672967056258, 0.9699716581276429, 0.9376204950065132])])\n",
      "Accuracy after postprocessing: OrderedDict([('mean', 0.962025873503328), ('scores', [0.9311064718162839, 0.9044368600682594, 0.9891891891891892, 0.9571428571428572, 0.9919137466307277, 0.8938356164383562, 0.9865229110512129, 0.9947780678851175, 0.978021978021978, 0.9933110367892977])])\n",
      "F1-measure after postprocessing: OrderedDict([('mean', 0.9479929556703113), ('scores', [0.9280466460150146, 0.7886056644880174, 0.9828393845660705, 0.9619043548600603, 0.9905460363528121, 0.8783303520767818, 0.984741164194002, 0.9952500000000001, 0.9777380262224262, 0.991927927927928])])\n"
     ]
    }
   ],
   "source": [
    "trainer = TzClassifierTrainer(\n",
    "    data_path=data_path,\n",
    "    feature_extractor=feature_extractor,\n",
    "    path_out=path_out,\n",
    "    path_log=resources_path,\n",
    "    label_transformer=skip_labels,\n",
    "    classifier_parameters=classifier_parameters,\n",
    "    random_seed=42,\n",
    ")\n",
    "\n",
    "trainer.fit(cross_val_only=True)"
   ],
   "metadata": {
    "collapsed": false,
    "pycharm": {
     "name": "#%%\n"
    }
   }
  },
  {
   "cell_type": "code",
   "execution_count": 5,
   "outputs": [
    {
     "data": {
      "text/plain": "(['title', 'title', 'title', 'title', 'title'],\n ['raw_text', 'toc', 'toc', 'raw_text', 'raw_text'])"
     },
     "execution_count": 5,
     "metadata": {},
     "output_type": "execute_result"
    }
   ],
   "source": [
    "y_test = trainer.y_val\n",
    "y_pred = trainer.y_pred\n",
    "\n",
    "y_test[:5], y_pred[:5]"
   ],
   "metadata": {
    "collapsed": false,
    "pycharm": {
     "name": "#%%\n"
    }
   }
  },
  {
   "cell_type": "code",
   "execution_count": 6,
   "outputs": [
    {
     "name": "stdout",
     "output_type": "stream",
     "text": [
      "defaultdict(<class 'int'>, {'title': 27, 'item': 103, 'raw_text': 64, 'part': 30, 'toc': 68})\n"
     ]
    }
   ],
   "source": [
    "classes_amount = defaultdict(int)\n",
    "for item in y_test:\n",
    "    classes_amount[item] += 1\n",
    "\n",
    "print(classes_amount)"
   ],
   "metadata": {
    "collapsed": false,
    "pycharm": {
     "name": "#%%\n"
    }
   }
  },
  {
   "cell_type": "code",
   "execution_count": 7,
   "outputs": [
    {
     "data": {
      "text/plain": "array([[21,  2,  0,  0,  4],\n       [ 0, 68,  0,  0,  0],\n       [ 0,  0, 80, 19,  4],\n       [ 0,  0,  1, 28,  1],\n       [ 0,  0,  0,  0, 64]])"
     },
     "execution_count": 7,
     "metadata": {},
     "output_type": "execute_result"
    }
   ],
   "source": [
    "from sklearn.metrics import confusion_matrix\n",
    "\n",
    "confusion_matrix(y_test, y_pred, labels=['title', 'toc', 'item', 'part', 'raw_text'])"
   ],
   "metadata": {
    "collapsed": false,
    "pycharm": {
     "name": "#%%\n"
    }
   }
  },
  {
   "cell_type": "code",
   "execution_count": 8,
   "outputs": [],
   "source": [
    "def plot_confusion_matrix(cm, classes,\n",
    "                          normalize=False,\n",
    "                          title='Confusion matrix',\n",
    "                          cmap=plt.cm.Blues):\n",
    "    \"\"\"\n",
    "    This function prints and plots the confusion matrix.\n",
    "    Normalization can be applied by setting `normalize=True`.\n",
    "    \"\"\"\n",
    "    import itertools\n",
    "\n",
    "    print(cm)\n",
    "\n",
    "    plt.imshow(cm, interpolation='nearest', cmap=cmap)\n",
    "#     plt.title(title, fontsize=20)\n",
    "    plt.colorbar()\n",
    "    tick_marks = np.arange(len(classes))\n",
    "    plt.xticks(tick_marks, classes, rotation=45, fontsize=20)\n",
    "    plt.yticks(tick_marks, classes, fontsize=20)\n",
    "\n",
    "    fmt = '.2f' if normalize else 'd'\n",
    "    thresh = cm.max() / 2.\n",
    "    for i, j in itertools.product(range(cm.shape[0]), range(cm.shape[1])):\n",
    "        plt.text(j, i, format(cm[i, j], fmt),\n",
    "                 horizontalalignment=\"center\",\n",
    "                 fontsize=20,\n",
    "                 color=\"white\" if cm[i, j] > thresh else \"black\")\n",
    "\n",
    "    plt.ylabel('Правильная метка', fontsize=20)\n",
    "    plt.xlabel('Предсказанная метка', fontsize=20)\n",
    "    plt.savefig('confusion_matrix.png',  bbox_inches='tight')"
   ],
   "metadata": {
    "collapsed": false,
    "pycharm": {
     "name": "#%%\n"
    }
   }
  },
  {
   "cell_type": "code",
   "execution_count": 9,
   "outputs": [
    {
     "name": "stdout",
     "output_type": "stream",
     "text": [
      "[[21  2  0  0  4]\n",
      " [ 0 68  0  0  0]\n",
      " [ 0  0 80 19  4]\n",
      " [ 0  0  1 28  1]\n",
      " [ 0  0  0  0 64]]\n"
     ]
    },
    {
     "data": {
      "text/plain": "<Figure size 720x720 with 2 Axes>",
      "image/png": "[encoded data removed]"
     },
     "metadata": {
      "needs_background": "light"
     },
     "output_type": "display_data"
    }
   ],
   "source": [
    "cnf_matrix = confusion_matrix(y_test, y_pred, labels=['title', 'toc', 'item', 'part', 'raw_text'])\n",
    "np.set_printoptions(precision=2)\n",
    "\n",
    "# Plot non-normalized confusion matrix\n",
    "plt.figure(figsize=(10, 10))\n",
    "plot_confusion_matrix(cnf_matrix, classes=['title', 'toc', 'item', 'part', 'raw_text'],\n",
    "                      title='Confusion matrix, without normalization')"
   ],
   "metadata": {
    "collapsed": false,
    "pycharm": {
     "name": "#%%\n"
    }
   }
  }
 ],
 "metadata": {
  "kernelspec": {
   "display_name": "Python 3",
   "language": "python",
   "name": "python3"
  },
  "language_info": {
   "codemirror_mode": {
    "name": "ipython",
    "version": 3
   },
   "file_extension": ".py",
   "mimetype": "text/x-python",
   "name": "python",
   "nbconvert_exporter": "python",
   "pygments_lexer": "ipython3",
   "version": "3.8.5"
  }
 },
 "nbformat": 4,
 "nbformat_minor": 4
}