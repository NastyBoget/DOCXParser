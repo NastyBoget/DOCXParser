{
 "cells": [
  {
   "cell_type": "code",
   "execution_count": 1,
   "metadata": {},
   "outputs": [],
   "source": [
    "import os\n",
    "from collections import defaultdict\n",
    "import numpy as np\n",
    "import matplotlib.pyplot as plt\n",
    "from typing import Optional\n",
    "\n",
    "\n",
    "def skip_labels(label: str) -> Optional[str]:\n",
    "    if label not in (\"other\", \"footer\"):\n",
    "        return label\n",
    "    return None\n"
   ]
  },
  {
   "cell_type": "code",
   "execution_count": 2,
   "outputs": [],
   "source": [
    "from classifiers.tz_classifier.tz_features_extractor import TzTextFeatures\n",
    "from classifiers.tz_classifier.tz_classifier_trainer import TzClassifierTrainer"
   ],
   "metadata": {
    "collapsed": false,
    "pycharm": {
     "name": "#%%\n"
    }
   }
  },
  {
   "cell_type": "code",
   "execution_count": 3,
   "outputs": [],
   "source": [
    "resources_path = \"/Users/anastasiabogatenkova/DOCXParser/classifiers/tz_classifier/resources\"\n",
    "path_out = os.path.join(resources_path, \"tz_classifier.pkl.gz\")\n",
    "data_path = \"/Users/anastasiabogatenkova/DOCXParser/data/labeled_tz.json\"\n",
    "\n",
    "feature_extractor = TzTextFeatures()\n",
    "classifier_parameters = dict(learning_rate=0.2,\n",
    "                             n_estimators=600,\n",
    "                             booster=\"gbtree\",\n",
    "                             max_depth=5,\n",
    "                             colsample_bynode=0.1,\n",
    "                             colsample_bytree=1)"
   ],
   "metadata": {
    "collapsed": false,
    "pycharm": {
     "name": "#%%\n"
    }
   }
  },
  {
   "cell_type": "code",
   "execution_count": 4,
   "outputs": [
    {
     "name": "stderr",
     "output_type": "stream",
     "text": [
      "100%|██████████| 10/10 [00:20<00:00,  2.10s/it]\n"
     ]
    },
    {
     "name": "stdout",
     "output_type": "stream",
     "text": [
      "save errors in /Users/anastasiabogatenkova/DOCXParser/classifiers/tz_classifier/resources/errors\n",
      "true             -> predicted       \t cnt\t percent\n",
      "item             -> part             00,037 (15.35%)\n",
      "item             -> raw_text         00,037 (15.35%)\n",
      "title            -> raw_text         00,029 (12.03%)\n",
      "toc              -> raw_text         00,022 (9.13%)\n",
      "part             -> toc              00,019 (7.88%)\n",
      "raw_text         -> toc              00,017 (7.05%)\n",
      "item             -> toc              00,016 (6.64%)\n",
      "raw_text         -> title            00,013 (5.39%)\n",
      "toc              -> part             00,013 (5.39%)\n",
      "part             -> raw_text         00,008 (3.32%)\n",
      "part             -> item             00,007 (2.90%)\n",
      "toc              -> title            00,005 (2.07%)\n",
      "toc              -> item             00,005 (2.07%)\n",
      "title            -> toc              00,005 (2.07%)\n",
      "raw_text         -> part             00,004 (1.66%)\n",
      "raw_text         -> item             00,003 (1.24%)\n",
      "item             -> title            00,001 (0.41%)\n",
      "Accuracy: OrderedDict([('mean', 0.9357452052746813), ('scores', [0.9206680584551148, 0.8532423208191127, 0.972972972972973, 0.9306122448979591, 0.9730458221024259, 0.9246575342465754, 0.9326145552560647, 0.9634464751958225, 0.9296703296703297, 0.9565217391304348])])\n",
      "F1-measure: OrderedDict([('mean', 0.9124034995173115), ('scores', [0.9144307219556959, 0.7471355619153123, 0.9618034516830118, 0.9257334598247222, 0.9507600878189114, 0.9167938465455144, 0.9091223665211638, 0.9508053503834415, 0.9236116130628259, 0.9238385354625152])])\n",
      "Accuracy after postprocessing: OrderedDict([('mean', 0.9435174943864649), ('scores', [0.9331941544885177, 0.9180887372013652, 0.972972972972973, 0.9591836734693877, 0.9865229110512129, 0.9178082191780822, 0.9029649595687331, 0.9843342036553525, 0.8835164835164835, 0.9765886287625418])])\n",
      "F1-measure after postprocessing: OrderedDict([('mean', 0.932491609011699), ('scores', [0.9290399216258173, 0.835255401882451, 0.9618034516830118, 0.9607682115788873, 0.9852965015793551, 0.9038980985209019, 0.9000955377118192, 0.9858141071108362, 0.8996131455734815, 0.9633317128504295])])\n"
     ]
    }
   ],
   "source": [
    "trainer = TzClassifierTrainer(\n",
    "    data_path=data_path,\n",
    "    feature_extractor=feature_extractor,\n",
    "    path_out=path_out,\n",
    "    path_log=resources_path,\n",
    "    label_transformer=skip_labels,\n",
    "    classifier_parameters=classifier_parameters,\n",
    "    random_seed=42,\n",
    ")\n",
    "\n",
    "trainer.fit(cross_val_only=True)"
   ],
   "metadata": {
    "collapsed": false,
    "pycharm": {
     "name": "#%%\n"
    }
   }
  },
  {
   "cell_type": "code",
   "execution_count": 5,
   "outputs": [
    {
     "data": {
      "text/plain": "(['title', 'toc', 'toc', 'toc', 'toc'], ['title', 'toc', 'toc', 'toc', 'toc'])"
     },
     "execution_count": 5,
     "metadata": {},
     "output_type": "execute_result"
    }
   ],
   "source": [
    "y_test = trainer.y_val\n",
    "y_pred = trainer.y_pred\n",
    "\n",
    "y_test[:5], y_pred[:5]"
   ],
   "metadata": {
    "collapsed": false,
    "pycharm": {
     "name": "#%%\n"
    }
   }
  },
  {
   "cell_type": "code",
   "execution_count": 6,
   "outputs": [
    {
     "name": "stdout",
     "output_type": "stream",
     "text": [
      "defaultdict(<class 'int'>, {'title': 26, 'toc': 183, 'raw_text': 103, 'part': 55, 'item': 88})\n"
     ]
    }
   ],
   "source": [
    "classes_amount = defaultdict(int)\n",
    "for item in y_test:\n",
    "    classes_amount[item] += 1\n",
    "\n",
    "print(classes_amount)"
   ],
   "metadata": {
    "collapsed": false,
    "pycharm": {
     "name": "#%%\n"
    }
   }
  },
  {
   "cell_type": "code",
   "execution_count": 7,
   "outputs": [
    {
     "data": {
      "text/plain": "array([[ 25,   1,   0,   0,   0],\n       [  0, 143,   1,  16,  23],\n       [  0,   0,  80,   1,   7],\n       [  0,   0,   0,  55,   0],\n       [  0,   0,   3,   1,  99]])"
     },
     "execution_count": 7,
     "metadata": {},
     "output_type": "execute_result"
    }
   ],
   "source": [
    "from sklearn.metrics import confusion_matrix\n",
    "\n",
    "confusion_matrix(y_test, y_pred, labels=['title', 'toc', 'item', 'part', 'raw_text'])"
   ],
   "metadata": {
    "collapsed": false,
    "pycharm": {
     "name": "#%%\n"
    }
   }
  },
  {
   "cell_type": "code",
   "execution_count": 8,
   "outputs": [],
   "source": [
    "def plot_confusion_matrix(cm, classes,\n",
    "                          normalize=False,\n",
    "                          title='Confusion matrix',\n",
    "                          cmap=plt.cm.Blues):\n",
    "    \"\"\"\n",
    "    This function prints and plots the confusion matrix.\n",
    "    Normalization can be applied by setting `normalize=True`.\n",
    "    \"\"\"\n",
    "    import itertools\n",
    "\n",
    "    print(cm)\n",
    "\n",
    "    plt.imshow(cm, interpolation='nearest', cmap=cmap)\n",
    "#     plt.title(title, fontsize=20)\n",
    "    plt.colorbar()\n",
    "    tick_marks = np.arange(len(classes))\n",
    "    plt.xticks(tick_marks, classes, rotation=45, fontsize=20)\n",
    "    plt.yticks(tick_marks, classes, fontsize=20)\n",
    "\n",
    "    fmt = '.2f' if normalize else 'd'\n",
    "    thresh = cm.max() / 2.\n",
    "    for i, j in itertools.product(range(cm.shape[0]), range(cm.shape[1])):\n",
    "        plt.text(j, i, format(cm[i, j], fmt),\n",
    "                 horizontalalignment=\"center\",\n",
    "                 fontsize=20,\n",
    "                 color=\"white\" if cm[i, j] > thresh else \"black\")\n",
    "\n",
    "    plt.ylabel('Правильная метка', fontsize=20)\n",
    "    plt.xlabel('Предсказанная метка', fontsize=20)\n",
    "    plt.savefig('confusion_matrix.png',  bbox_inches='tight')"
   ],
   "metadata": {
    "collapsed": false,
    "pycharm": {
     "name": "#%%\n"
    }
   }
  },
  {
   "cell_type": "code",
   "execution_count": 9,
   "outputs": [
    {
     "name": "stdout",
     "output_type": "stream",
     "text": [
      "[[ 25   1   0   0   0]\n",
      " [  0 143   1  16  23]\n",
      " [  0   0  80   1   7]\n",
      " [  0   0   0  55   0]\n",
      " [  0   0   3   1  99]]\n"
     ]
    },
    {
     "data": {
      "text/plain": "<Figure size 720x720 with 2 Axes>",
      "image/png": "[encoded data removed]"
     },
     "metadata": {
      "needs_background": "light"
     },
     "output_type": "display_data"
    }
   ],
   "source": [
    "cnf_matrix = confusion_matrix(y_test, y_pred, labels=['title', 'toc', 'item', 'part', 'raw_text'])\n",
    "np.set_printoptions(precision=2)\n",
    "\n",
    "# Plot non-normalized confusion matrix\n",
    "plt.figure(figsize=(10, 10))\n",
    "plot_confusion_matrix(cnf_matrix, classes=['title', 'toc', 'item', 'part', 'raw_text'],\n",
    "                      title='Confusion matrix, without normalization')"
   ],
   "metadata": {
    "collapsed": false,
    "pycharm": {
     "name": "#%%\n"
    }
   }
  }
 ],
 "metadata": {
  "kernelspec": {
   "display_name": "Python 3",
   "language": "python",
   "name": "python3"
  },
  "language_info": {
   "codemirror_mode": {
    "name": "ipython",
    "version": 3
   },
   "file_extension": ".py",
   "mimetype": "text/x-python",
   "name": "python",
   "nbconvert_exporter": "python",
   "pygments_lexer": "ipython3",
   "version": "3.8.5"
  }
 },
 "nbformat": 4,
 "nbformat_minor": 4
}