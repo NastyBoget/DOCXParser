{
 "cells": [
  {
   "cell_type": "code",
   "execution_count": 5,
   "metadata": {
    "collapsed": true,
    "pycharm": {
     "name": "#%%\n"
    }
   },
   "outputs": [],
   "source": [
    "from pair_classifier import PairClassifier"
   ]
  },
  {
   "cell_type": "code",
   "execution_count": 7,
   "outputs": [],
   "source": [
    "pair_classifier = PairClassifier.load_pickled(config={})"
   ],
   "metadata": {
    "collapsed": false,
    "pycharm": {
     "name": "#%%\n"
    }
   }
  },
  {
   "cell_type": "code",
   "execution_count": 8,
   "outputs": [],
   "source": [
    "from docx_parser.document_parser import DOCXParser\n",
    "\n",
    "docx_parser = DOCXParser()\n",
    "docx_parser.parse(\"../../examples/example_for_libraries.docx\")\n",
    "lines = docx_parser.get_lines_with_meta()"
   ],
   "metadata": {
    "collapsed": false,
    "pycharm": {
     "name": "#%%\n"
    }
   }
  },
  {
   "cell_type": "code",
   "execution_count": 12,
   "outputs": [
    {
     "name": "stdout",
     "output_type": "stream",
     "text": [
      "[{'text': 'Example document', 'level': None, 'uid': '5f868e9ad276280e34cc37f03889d16e_8a94c950bb271928c3d3ceec3a5350da', 'type': 'raw_text', 'annotations': [('indentation', 0, 16, '0'), ('alignment', 0, 16, 'center'), ('bold', 0, 16, 'True'), ('size', 0, 16, '28.0'), ('style', 0, 16, 'title')]}, {'text': 'Chapter 1', 'level': (2, 1), 'uid': '5f868e9ad276280e34cc37f03889d16e_9369ca548667f67a6840eb413c74b349', 'type': 'style_header', 'annotations': [('indentation', 0, 9, '0'), ('alignment', 0, 9, 'left'), ('bold', 0, 9, 'True'), ('size', 0, 9, '18.0'), ('style', 0, 9, 'heading 1')]}]\n",
      "equals\n",
      "[{'text': 'Chapter 1', 'level': (2, 1), 'uid': '5f868e9ad276280e34cc37f03889d16e_9369ca548667f67a6840eb413c74b349', 'type': 'style_header', 'annotations': [('indentation', 0, 9, '0'), ('alignment', 0, 9, 'left'), ('bold', 0, 9, 'True'), ('size', 0, 9, '18.0'), ('style', 0, 9, 'heading 1')]}, {'text': 'Here we check simple text', 'level': None, 'uid': '5f868e9ad276280e34cc37f03889d16e_067d7972573ddad954ca2a7eadcb41f9', 'type': 'raw_text', 'annotations': [('indentation', 0, 25, '0'), ('alignment', 0, 25, 'left'), ('size', 0, 25, '12.0'), ('style', 0, 25, 'body text')]}]\n",
      "greater\n",
      "[{'text': 'Here we check simple text', 'level': None, 'uid': '5f868e9ad276280e34cc37f03889d16e_067d7972573ddad954ca2a7eadcb41f9', 'type': 'raw_text', 'annotations': [('indentation', 0, 25, '0'), ('alignment', 0, 25, 'left'), ('size', 0, 25, '12.0'), ('style', 0, 25, 'body text')]}, {'text': 'Chapter 1.1', 'level': (2, 1), 'uid': '5f868e9ad276280e34cc37f03889d16e_d67dddd3821a1392db447aa4fd59a975', 'type': 'style_header', 'annotations': [('indentation', 0, 11, '0'), ('alignment', 0, 11, 'left'), ('bold', 0, 11, 'True'), ('size', 0, 11, '16.0'), ('style', 0, 11, 'heading 2')]}]\n",
      "less\n",
      "[{'text': 'Chapter 1.1', 'level': (2, 1), 'uid': '5f868e9ad276280e34cc37f03889d16e_d67dddd3821a1392db447aa4fd59a975', 'type': 'style_header', 'annotations': [('indentation', 0, 11, '0'), ('alignment', 0, 11, 'left'), ('bold', 0, 11, 'True'), ('size', 0, 11, '16.0'), ('style', 0, 11, 'heading 2')]}, {'text': '1.\\tHere', 'level': (2, 2), 'uid': '5f868e9ad276280e34cc37f03889d16e_1c1ce6b3f598d0e3f65dc6d8197ff02f', 'type': 'list_item', 'annotations': [('indentation', 0, 7, '0'), ('alignment', 0, 7, 'left'), ('size', 0, 7, '12.0'), ('style', 0, 7, 'body text')]}]\n",
      "greater\n",
      "[{'text': '1.\\tHere', 'level': (2, 2), 'uid': '5f868e9ad276280e34cc37f03889d16e_1c1ce6b3f598d0e3f65dc6d8197ff02f', 'type': 'list_item', 'annotations': [('indentation', 0, 7, '0'), ('alignment', 0, 7, 'left'), ('size', 0, 7, '12.0'), ('style', 0, 7, 'body text')]}, {'text': '2.\\tWe', 'level': (2, 2), 'uid': '5f868e9ad276280e34cc37f03889d16e_c8d41d4f928f6bd1d1f8d0f5041bcf92', 'type': 'list_item', 'annotations': [('indentation', 0, 5, '0'), ('alignment', 0, 5, 'left'), ('size', 0, 5, '12.0'), ('style', 0, 5, 'body text')]}]\n",
      "equals\n",
      "[{'text': '2.\\tWe', 'level': (2, 2), 'uid': '5f868e9ad276280e34cc37f03889d16e_c8d41d4f928f6bd1d1f8d0f5041bcf92', 'type': 'list_item', 'annotations': [('indentation', 0, 5, '0'), ('alignment', 0, 5, 'left'), ('size', 0, 5, '12.0'), ('style', 0, 5, 'body text')]}, {'text': '3.\\tCheck', 'level': (2, 2), 'uid': '5f868e9ad276280e34cc37f03889d16e_ca1828326ed5a01c5454762144a4508e', 'type': 'list_item', 'annotations': [('indentation', 0, 8, '0'), ('alignment', 0, 8, 'left'), ('size', 0, 8, '12.0'), ('style', 0, 8, 'body text')]}]\n",
      "equals\n",
      "[{'text': '3.\\tCheck', 'level': (2, 2), 'uid': '5f868e9ad276280e34cc37f03889d16e_ca1828326ed5a01c5454762144a4508e', 'type': 'list_item', 'annotations': [('indentation', 0, 8, '0'), ('alignment', 0, 8, 'left'), ('size', 0, 8, '12.0'), ('style', 0, 8, 'body text')]}, {'text': '4.\\tNumeration', 'level': (2, 2), 'uid': '5f868e9ad276280e34cc37f03889d16e_6bbe2f862aa3452135472dbf0e854549', 'type': 'list_item', 'annotations': [('indentation', 0, 13, '0'), ('alignment', 0, 13, 'left'), ('size', 0, 13, '12.0'), ('style', 0, 13, 'body text')]}]\n",
      "equals\n",
      "[{'text': '4.\\tNumeration', 'level': (2, 2), 'uid': '5f868e9ad276280e34cc37f03889d16e_6bbe2f862aa3452135472dbf0e854549', 'type': 'list_item', 'annotations': [('indentation', 0, 13, '0'), ('alignment', 0, 13, 'left'), ('size', 0, 13, '12.0'), ('style', 0, 13, 'body text')]}, {'text': 'Chapter 1.1.1', 'level': (2, 1), 'uid': '5f868e9ad276280e34cc37f03889d16e_955922defd268d09f5b810710fde96fa', 'type': 'style_header', 'annotations': [('indentation', 0, 13, '0'), ('alignment', 0, 13, 'left'), ('bold', 0, 13, 'True'), ('size', 0, 13, '14.0'), ('style', 0, 13, 'heading 3')]}]\n",
      "less\n",
      "[{'text': 'Chapter 1.1.1', 'level': (2, 1), 'uid': '5f868e9ad276280e34cc37f03889d16e_955922defd268d09f5b810710fde96fa', 'type': 'style_header', 'annotations': [('indentation', 0, 13, '0'), ('alignment', 0, 13, 'left'), ('bold', 0, 13, 'True'), ('size', 0, 13, '14.0'), ('style', 0, 13, 'heading 3')]}, {'text': 'HERE WE CHECK CAPS LETTERS', 'level': None, 'uid': '5f868e9ad276280e34cc37f03889d16e_7b2b0405f4cebf4211521fffe22ab368', 'type': 'raw_text', 'annotations': [('indentation', 0, 26, '0'), ('alignment', 0, 26, 'left'), ('size', 0, 26, '12.0'), ('style', 0, 26, 'body text')]}]\n",
      "greater\n",
      "[{'text': 'HERE WE CHECK CAPS LETTERS', 'level': None, 'uid': '5f868e9ad276280e34cc37f03889d16e_7b2b0405f4cebf4211521fffe22ab368', 'type': 'raw_text', 'annotations': [('indentation', 0, 26, '0'), ('alignment', 0, 26, 'left'), ('size', 0, 26, '12.0'), ('style', 0, 26, 'body text')]}, {'text': 'Chapter 2', 'level': (2, 1), 'uid': '5f868e9ad276280e34cc37f03889d16e_8546db1399ae756f22def811d4aba123', 'type': 'style_header', 'annotations': [('indentation', 0, 9, '0'), ('alignment', 0, 9, 'left'), ('bold', 0, 9, 'True'), ('size', 0, 9, '18.0'), ('style', 0, 9, 'heading 1')]}]\n",
      "less\n",
      "[{'text': 'Chapter 2', 'level': (2, 1), 'uid': '5f868e9ad276280e34cc37f03889d16e_8546db1399ae756f22def811d4aba123', 'type': 'style_header', 'annotations': [('indentation', 0, 9, '0'), ('alignment', 0, 9, 'left'), ('bold', 0, 9, 'True'), ('size', 0, 9, '18.0'), ('style', 0, 9, 'heading 1')]}, {'text': 'Here we check custom styles', 'level': None, 'uid': '5f868e9ad276280e34cc37f03889d16e_3f40b8e6365641707a9185ad2ec56a31', 'type': 'raw_text', 'annotations': [('indentation', 0, 27, '0'), ('alignment', 0, 27, 'center'), ('italic', 0, 27, 'True'), ('size', 0, 27, '13.0'), ('style', 0, 27, 'custom style')]}]\n",
      "greater\n",
      "[{'text': 'Here we check custom styles', 'level': None, 'uid': '5f868e9ad276280e34cc37f03889d16e_3f40b8e6365641707a9185ad2ec56a31', 'type': 'raw_text', 'annotations': [('indentation', 0, 27, '0'), ('alignment', 0, 27, 'center'), ('italic', 0, 27, 'True'), ('size', 0, 27, '13.0'), ('style', 0, 27, 'custom style')]}, {'text': '−\\tHere we check custom ', 'level': (2, 1), 'uid': '5f868e9ad276280e34cc37f03889d16e_de7dc7968d28014c1ce9ca666b33e5af', 'type': 'list_item', 'annotations': [('indentation', 0, 23, '0'), ('alignment', 0, 23, 'center'), ('italic', 0, 23, 'True'), ('size', 0, 23, '13.0'), ('style', 0, 23, 'custom style with numbering')]}]\n",
      "greater\n",
      "[{'text': '−\\tHere we check custom ', 'level': (2, 1), 'uid': '5f868e9ad276280e34cc37f03889d16e_de7dc7968d28014c1ce9ca666b33e5af', 'type': 'list_item', 'annotations': [('indentation', 0, 23, '0'), ('alignment', 0, 23, 'center'), ('italic', 0, 23, 'True'), ('size', 0, 23, '13.0'), ('style', 0, 23, 'custom style with numbering')]}, {'text': '−\\tstyle with numbering', 'level': (2, 1), 'uid': '5f868e9ad276280e34cc37f03889d16e_b24480dc85df0b682f9349a0f1aefed8', 'type': 'list_item', 'annotations': [('indentation', 0, 22, '0'), ('alignment', 0, 22, 'center'), ('italic', 0, 22, 'True'), ('size', 0, 22, '13.0'), ('style', 0, 22, 'custom style with numbering')]}]\n",
      "equals\n",
      "[{'text': '−\\tstyle with numbering', 'level': (2, 1), 'uid': '5f868e9ad276280e34cc37f03889d16e_b24480dc85df0b682f9349a0f1aefed8', 'type': 'list_item', 'annotations': [('indentation', 0, 22, '0'), ('alignment', 0, 22, 'center'), ('italic', 0, 22, 'True'), ('size', 0, 22, '13.0'), ('style', 0, 22, 'custom style with numbering')]}, {'text': 'Chapter 2.1', 'level': (2, 1), 'uid': '5f868e9ad276280e34cc37f03889d16e_589786bb0556c362ff9f7dea3e1e1d00', 'type': 'style_header', 'annotations': [('indentation', 0, 11, '0'), ('alignment', 0, 11, 'left'), ('bold', 0, 11, 'True'), ('size', 0, 11, '16.0'), ('style', 0, 11, 'heading 2')]}]\n",
      "less\n",
      "[{'text': 'Chapter 2.1', 'level': (2, 1), 'uid': '5f868e9ad276280e34cc37f03889d16e_589786bb0556c362ff9f7dea3e1e1d00', 'type': 'style_header', 'annotations': [('indentation', 0, 11, '0'), ('alignment', 0, 11, 'left'), ('bold', 0, 11, 'True'), ('size', 0, 11, '16.0'), ('style', 0, 11, 'heading 2')]}, {'text': 'Here we check bold, italic, underlined, large font and small font.', 'level': None, 'uid': '5f868e9ad276280e34cc37f03889d16e_ded032c4ce049f6914df555bc5a3a814', 'type': 'raw_text', 'annotations': [('indentation', 0, 66, '0'), ('alignment', 0, 66, 'left'), ('bold', 14, 18, 'True'), ('italic', 20, 26, 'True'), ('underlined', 28, 38, 'True'), ('size', 0, 40, '12.0'), ('size', 40, 50, '18.0'), ('size', 50, 55, '12.0'), ('size', 55, 65, '8.0'), ('size', 65, 66, '12.0'), ('style', 0, 66, 'body text')]}]\n",
      "equals\n",
      "[{'text': 'Here we check bold, italic, underlined, large font and small font.', 'level': None, 'uid': '5f868e9ad276280e34cc37f03889d16e_ded032c4ce049f6914df555bc5a3a814', 'type': 'raw_text', 'annotations': [('indentation', 0, 66, '0'), ('alignment', 0, 66, 'left'), ('bold', 14, 18, 'True'), ('italic', 20, 26, 'True'), ('underlined', 28, 38, 'True'), ('size', 0, 40, '12.0'), ('size', 40, 50, '18.0'), ('size', 50, 55, '12.0'), ('size', 55, 65, '8.0'), ('size', 65, 66, '12.0'), ('style', 0, 66, 'body text')]}, {'text': 'Center justification', 'level': None, 'uid': '5f868e9ad276280e34cc37f03889d16e_09eae0abc6ab488cd109eb7ff26adf8b', 'type': 'raw_text', 'annotations': [('indentation', 0, 20, '0'), ('alignment', 0, 20, 'center'), ('size', 0, 20, '12.0'), ('style', 0, 20, 'body text')]}]\n",
      "equals\n",
      "[{'text': 'Center justification', 'level': None, 'uid': '5f868e9ad276280e34cc37f03889d16e_09eae0abc6ab488cd109eb7ff26adf8b', 'type': 'raw_text', 'annotations': [('indentation', 0, 20, '0'), ('alignment', 0, 20, 'center'), ('size', 0, 20, '12.0'), ('style', 0, 20, 'body text')]}, {'text': 'Both justification', 'level': None, 'uid': '5f868e9ad276280e34cc37f03889d16e_11903bdae0021294933d713ae9f00272', 'type': 'raw_text', 'annotations': [('indentation', 0, 18, '0'), ('alignment', 0, 18, 'both'), ('size', 0, 18, '12.0'), ('style', 0, 18, 'body text')]}]\n",
      "greater\n",
      "[{'text': 'Both justification', 'level': None, 'uid': '5f868e9ad276280e34cc37f03889d16e_11903bdae0021294933d713ae9f00272', 'type': 'raw_text', 'annotations': [('indentation', 0, 18, '0'), ('alignment', 0, 18, 'both'), ('size', 0, 18, '12.0'), ('style', 0, 18, 'body text')]}, {'text': 'Right justification', 'level': None, 'uid': '5f868e9ad276280e34cc37f03889d16e_e6c37cb996ce5b9e735f3ba8d6931d5f', 'type': 'raw_text', 'annotations': [('indentation', 0, 19, '0'), ('alignment', 0, 19, 'right'), ('size', 0, 19, '12.0'), ('style', 0, 19, 'body text')]}]\n",
      "equals\n",
      "[{'text': 'Right justification', 'level': None, 'uid': '5f868e9ad276280e34cc37f03889d16e_e6c37cb996ce5b9e735f3ba8d6931d5f', 'type': 'raw_text', 'annotations': [('indentation', 0, 19, '0'), ('alignment', 0, 19, 'right'), ('size', 0, 19, '12.0'), ('style', 0, 19, 'body text')]}, {'text': 'Chapter 2.1.1', 'level': (2, 1), 'uid': '5f868e9ad276280e34cc37f03889d16e_7e13a5e91614a115dcbfa4a253c1b341', 'type': 'style_header', 'annotations': [('indentation', 0, 13, '0'), ('alignment', 0, 13, 'left'), ('bold', 0, 13, 'True'), ('size', 0, 13, '14.0'), ('style', 0, 13, 'heading 3')]}]\n",
      "less\n",
      "[{'text': 'Chapter 2.1.1', 'level': (2, 1), 'uid': '5f868e9ad276280e34cc37f03889d16e_7e13a5e91614a115dcbfa4a253c1b341', 'type': 'style_header', 'annotations': [('indentation', 0, 13, '0'), ('alignment', 0, 13, 'left'), ('bold', 0, 13, 'True'), ('size', 0, 13, '14.0'), ('style', 0, 13, 'heading 3')]}, {'text': '⎝\\tHere', 'level': (2, 1), 'uid': '5f868e9ad276280e34cc37f03889d16e_098d92aa618f7c566f3b0f397d5de8e0', 'type': 'list_item', 'annotations': [('indentation', 0, 6, '0'), ('alignment', 0, 6, 'left'), ('size', 0, 6, '12.0'), ('style', 0, 6, 'body text')]}]\n",
      "greater\n",
      "[{'text': '⎝\\tHere', 'level': (2, 1), 'uid': '5f868e9ad276280e34cc37f03889d16e_098d92aa618f7c566f3b0f397d5de8e0', 'type': 'list_item', 'annotations': [('indentation', 0, 6, '0'), ('alignment', 0, 6, 'left'), ('size', 0, 6, '12.0'), ('style', 0, 6, 'body text')]}, {'text': '⎝\\tWe', 'level': (2, 1), 'uid': '5f868e9ad276280e34cc37f03889d16e_e6e3e6cd0b89a39df2ef4edaf58de2c7', 'type': 'list_item', 'annotations': [('indentation', 0, 4, '0'), ('alignment', 0, 4, 'left'), ('size', 0, 4, '12.0'), ('style', 0, 4, 'body text')]}]\n",
      "equals\n",
      "[{'text': '⎝\\tWe', 'level': (2, 1), 'uid': '5f868e9ad276280e34cc37f03889d16e_e6e3e6cd0b89a39df2ef4edaf58de2c7', 'type': 'list_item', 'annotations': [('indentation', 0, 4, '0'), ('alignment', 0, 4, 'left'), ('size', 0, 4, '12.0'), ('style', 0, 4, 'body text')]}, {'text': '⎝\\tTest', 'level': (2, 1), 'uid': '5f868e9ad276280e34cc37f03889d16e_a324d639188b566e252dbd92fe820f25', 'type': 'list_item', 'annotations': [('indentation', 0, 6, '0'), ('alignment', 0, 6, 'left'), ('size', 0, 6, '12.0'), ('style', 0, 6, 'body text')]}]\n",
      "equals\n",
      "[{'text': '⎝\\tTest', 'level': (2, 1), 'uid': '5f868e9ad276280e34cc37f03889d16e_a324d639188b566e252dbd92fe820f25', 'type': 'list_item', 'annotations': [('indentation', 0, 6, '0'), ('alignment', 0, 6, 'left'), ('size', 0, 6, '12.0'), ('style', 0, 6, 'body text')]}, {'text': '⎝\\tVery', 'level': (2, 1), 'uid': '5f868e9ad276280e34cc37f03889d16e_b74f52d543694a0fde3d02a3e0cc2e90', 'type': 'list_item', 'annotations': [('indentation', 0, 6, '0'), ('alignment', 0, 6, 'left'), ('size', 0, 6, '12.0'), ('style', 0, 6, 'body text')]}]\n",
      "equals\n",
      "[{'text': '⎝\\tVery', 'level': (2, 1), 'uid': '5f868e9ad276280e34cc37f03889d16e_b74f52d543694a0fde3d02a3e0cc2e90', 'type': 'list_item', 'annotations': [('indentation', 0, 6, '0'), ('alignment', 0, 6, 'left'), ('size', 0, 6, '12.0'), ('style', 0, 6, 'body text')]}, {'text': '⎝\\tStrange', 'level': (2, 1), 'uid': '5f868e9ad276280e34cc37f03889d16e_5340391f50af460319e82f4224f5ffdd', 'type': 'list_item', 'annotations': [('indentation', 0, 9, '0'), ('alignment', 0, 9, 'left'), ('size', 0, 9, '12.0'), ('style', 0, 9, 'body text')]}]\n",
      "equals\n",
      "[{'text': '⎝\\tStrange', 'level': (2, 1), 'uid': '5f868e9ad276280e34cc37f03889d16e_5340391f50af460319e82f4224f5ffdd', 'type': 'list_item', 'annotations': [('indentation', 0, 9, '0'), ('alignment', 0, 9, 'left'), ('size', 0, 9, '12.0'), ('style', 0, 9, 'body text')]}, {'text': '⎝\\tList', 'level': (2, 1), 'uid': '5f868e9ad276280e34cc37f03889d16e_61807cbaf7ab420816bf70b79b0787c6', 'type': 'list_item', 'annotations': [('indentation', 0, 6, '0'), ('alignment', 0, 6, 'left'), ('size', 0, 6, '12.0'), ('style', 0, 6, 'body text')]}]\n",
      "equals\n"
     ]
    }
   ],
   "source": [
    "for i in range(len(lines) - 1):\n",
    "    pair = [lines[i], lines[i+1]]\n",
    "    print(pair)\n",
    "    print(pair_classifier.predict(pair)[0]['label'])\n"
   ],
   "metadata": {
    "collapsed": false,
    "pycharm": {
     "name": "#%%\n"
    }
   }
  }
 ],
 "metadata": {
  "kernelspec": {
   "display_name": "Python 3",
   "language": "python",
   "name": "python3"
  },
  "language_info": {
   "codemirror_mode": {
    "name": "ipython",
    "version": 2
   },
   "file_extension": ".py",
   "mimetype": "text/x-python",
   "name": "python",
   "nbconvert_exporter": "python",
   "pygments_lexer": "ipython2",
   "version": "2.7.6"
  }
 },
 "nbformat": 4,
 "nbformat_minor": 0
}