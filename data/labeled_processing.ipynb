{
 "cells": [
  {
   "cell_type": "code",
   "execution_count": 1,
   "metadata": {},
   "outputs": [],
   "source": [
    "import json\n",
    "from collections import defaultdict"
   ]
  },
  {
   "cell_type": "code",
   "execution_count": 2,
   "metadata": {
    "pycharm": {
     "name": "#%%\n"
    }
   },
   "outputs": [],
   "source": [
    "with open(\"labeled_tz.json\") as file:\n",
    "    labeled = json.load(file)"
   ]
  },
  {
   "cell_type": "code",
   "execution_count": 3,
   "metadata": {
    "pycharm": {
     "name": "#%%\n"
    }
   },
   "outputs": [
    {
     "name": "stdout",
     "output_type": "stream",
     "text": [
      "defaultdict(<class 'int'>, {'title': 79, 'part': 151, 'item': 489, 'raw_text': 262, 'other': 29, 'toc': 395})\n"
     ]
    }
   ],
   "source": [
    "classes_amount = defaultdict(int)\n",
    "for item in labeled.values():\n",
    "    for line in item:\n",
    "        classes_amount[line[\"label\"]] += 1\n",
    "\n",
    "print(classes_amount)"
   ]
  },
  {
   "cell_type": "code",
   "execution_count": 4,
   "metadata": {
    "pycharm": {
     "name": "#%%\n"
    }
   },
   "outputs": [],
   "source": [
    "classes_list = [item for item in zip(classes_amount.values(), classes_amount.keys())]\n",
    "classes_list = sorted(classes_list)[::-1]\n",
    "\n",
    "classes_num = [item[0] for item in classes_list]\n",
    "classes_name = [item[1] for item in classes_list]"
   ]
  },
  {
   "cell_type": "code",
   "execution_count": 5,
   "metadata": {
    "pycharm": {
     "name": "#%%\n"
    }
   },
   "outputs": [],
   "source": [
    "import pandas as pd\n",
    "import matplotlib.pyplot as plt\n",
    "\n",
    "classes_series = pd.Series(classes_num)\n",
    "# Plot the figure.\n",
    "plt.figure(figsize=(10, 5))\n",
    "ax = classes_series.plot(kind='bar', ylim=(0, 520), color='green')\n",
    "ax.set_title('Распределение классов')\n",
    "ax.set_xlabel('Название класса')\n",
    "ax.set_ylabel('Количество параграфов')\n",
    "ax.set_xticklabels(classes_name, rotation=0)\n",
    "\n",
    "rects = ax.patches\n",
    "\n",
    "for rect, class_amount in zip(rects, classes_num):\n",
    "    height = rect.get_height()\n",
    "    ax.text(rect.get_x() + rect.get_width() / 2, height, class_amount,\n",
    "            ha='center', va='bottom')\n",
    "plt.savefig('paragraph_distribution.png')"
   ]
  },
  {
   "cell_type": "code",
   "execution_count": 2,
   "metadata": {},
   "outputs": [
    {
     "data": {
      "text/plain": "['paired_classifier_000003_dDC.json',\n 'paired_classifier_000007_fZs.json',\n 'paired_classifier_000005_kgS.json',\n 'paired_classifier_000000_Mv7.json',\n 'paired_classifier_000004_45R.json',\n 'paired_classifier_000010_TR7.json',\n 'paired_classifier_000001_8qK.json',\n 'paired_classifier_000008_V9S.json',\n 'paired_classifier_000002_6wp.json',\n 'paired_classifier_000006_GuB.json',\n 'paired_classifier_000009_Q7t.json']"
     },
     "execution_count": 2,
     "metadata": {},
     "output_type": "execute_result"
    }
   ],
   "source": [
    "import os\n",
    "\n",
    "labeled_files = os.listdir('paired_classifier')\n",
    "labeled_files"
   ]
  },
  {
   "cell_type": "code",
   "execution_count": 3,
   "outputs": [],
   "source": [
    "dicts_with_label = []\n",
    "\n",
    "for file_with_label in labeled_files:\n",
    "    if not file_with_label.endswith('.json'):\n",
    "        continue\n",
    "    with open(f\"paired_classifier/{file_with_label}\") as file:\n",
    "        dicts_with_label.append(json.load(file))\n"
   ],
   "metadata": {
    "collapsed": false,
    "pycharm": {
     "name": "#%%\n"
    }
   }
  },
  {
   "cell_type": "code",
   "execution_count": 4,
   "outputs": [
    {
     "name": "stdout",
     "output_type": "stream",
     "text": [
      "{'id': 0, 'task_path': 'images/000010_000000_img_bbox_c84c8773ecaf0d1b130a0c10f65251c1_116d57e54de5f25c2eacf747ff291574_c84c8773ecaf0d1b130a0c10f65251c1_1be2ec6410f153599bcd30c261130115.jpg', 'labeled': ['greater'], 'data': {'_annotations': [{'end': 214, 'value': '0', 'name': 'indentation', 'start': 0}, {'end': 214, 'value': 'center', 'name': 'alignment', 'start': 0}, {'end': 214, 'value': 'True', 'name': 'bold', 'start': 0}, {'end': 214, 'value': '13.0', 'name': 'size', 'start': 0}, {'end': 214, 'value': 'heading', 'name': 'style', 'start': 0}], 'original_document': '1615379447_563.docx', '_line': 'на выполнение работ по созданию системы защиты персональных данных \\nклиентского сегмента АИС МФЦ в многофункциональном центре \\nпредоставления государственных и муниципальных услуг \\nгородского округа город Дзержинск\\n', '_uid': 'c84c8773ecaf0d1b130a0c10f65251c1_116d57e54de5f25c2eacf747ff291574', '_metadata': {'page_id': 0, 'line_id': 2, 'paragraph_type': 'root', 'predicted_classes': None}, '_hierarchy_level': {'paragraph_type': 'root', 'level_2': 0, 'can_be_multiline': True, 'level_1': 0}}, 'default_label': 'equal'}\n"
     ]
    }
   ],
   "source": [
    "print(dicts_with_label[0]['0'])"
   ],
   "metadata": {
    "collapsed": false,
    "pycharm": {
     "name": "#%%\n"
    }
   }
  },
  {
   "cell_type": "code",
   "execution_count": 9,
   "outputs": [
    {
     "data": {
      "text/plain": "('c84c8773ecaf0d1b130a0c10f65251c1_116d57e54de5f25c2eacf747ff291574',\n 'c84c8773ecaf0d1b130a0c10f65251c1_1be2ec6410f153599bcd30c261130115')"
     },
     "execution_count": 9,
     "metadata": {},
     "output_type": "execute_result"
    }
   ],
   "source": [
    "import re\n",
    "\n",
    "get_uids = re.compile(r\"[\\w/]+_([a-z\\d]+_[a-z\\d]+)_([a-z\\d]+_[a-z\\d]+)\\.jpg\")\n",
    "match = get_uids.match(dicts_with_label[0]['0']['task_path'])\n",
    "uid_1, uid_2 = match.groups()\n",
    "uid_1, uid_2"
   ],
   "metadata": {
    "collapsed": false,
    "pycharm": {
     "name": "#%%\n"
    }
   }
  },
  {
   "cell_type": "code",
   "execution_count": 10,
   "outputs": [],
   "source": [
    "uids2label = {}\n",
    "\n",
    "for labeled_task in dicts_with_label:\n",
    "    for line in labeled_task.values():\n",
    "        match = get_uids.match(line['task_path'])\n",
    "        uid_1, uid_2 = match.groups()\n",
    "        uids2label[(uid_1, uid_2)] = line['labeled'][0]"
   ],
   "metadata": {
    "collapsed": false,
    "pycharm": {
     "name": "#%%\n"
    }
   }
  },
  {
   "cell_type": "code",
   "execution_count": 11,
   "outputs": [
    {
     "data": {
      "text/plain": "4557"
     },
     "execution_count": 11,
     "metadata": {},
     "output_type": "execute_result"
    }
   ],
   "source": [
    "len(uids2label)"
   ],
   "metadata": {
    "collapsed": false,
    "pycharm": {
     "name": "#%%\n"
    }
   }
  },
  {
   "cell_type": "code",
   "execution_count": 12,
   "outputs": [],
   "source": [
    "from document_parser import DOCXParser\n",
    "\n",
    "uid2data = {}\n",
    "\n",
    "for filename in os.listdir('.'):\n",
    "    if not filename.endswith(\".docx\"):\n",
    "        continue\n",
    "\n",
    "    doc_parser = DOCXParser()\n",
    "    doc_parser.parse(os.path.abspath(filename))\n",
    "    paragraphs = doc_parser.get_lines_with_meta()\n",
    "\n",
    "    for paragraph in paragraphs:\n",
    "        uid2data[paragraph['uid']] = paragraph"
   ],
   "metadata": {
    "collapsed": false,
    "pycharm": {
     "name": "#%%\n"
    }
   }
  },
  {
   "cell_type": "code",
   "execution_count": 13,
   "outputs": [
    {
     "data": {
      "text/plain": "1401"
     },
     "execution_count": 13,
     "metadata": {},
     "output_type": "execute_result"
    }
   ],
   "source": [
    "len(uid2data)"
   ],
   "metadata": {
    "collapsed": false,
    "pycharm": {
     "name": "#%%\n"
    }
   }
  },
  {
   "cell_type": "code",
   "execution_count": 21,
   "outputs": [
    {
     "name": "stdout",
     "output_type": "stream",
     "text": [
      "'37fc7f127ff8ccefbadc5e62bf1c26b4_adac464fb909dd1f37b80d3ea1ddb9da'\n",
      "'35d6836ff2ce897b395bd9a4ecac69d7_adac464fb909dd1f37b80d3ea1ddb9da'\n",
      "'e9e07da48e7e2128bf4ba87a77de8ac1_adac464fb909dd1f37b80d3ea1ddb9da'\n",
      "'678465daa9dac1fca30497fa3bfb8b14_adac464fb909dd1f37b80d3ea1ddb9da'\n",
      "'e28eb4b5192e948e7ee76d706eb9c94f_1'\n",
      "'e28eb4b5192e948e7ee76d706eb9c94f_1'\n",
      "'e28eb4b5192e948e7ee76d706eb9c94f_1'\n",
      "'e28eb4b5192e948e7ee76d706eb9c94f_1'\n",
      "'d8268d6688b0463559cf1a7607b442e5_fbbca14ff78ad2dac75d9dca60338d87'\n",
      "'c739b2a6aaef80d527b129f5a33f4404_fbbca14ff78ad2dac75d9dca60338d87'\n",
      "'c61ba34aa131e09765d8fe762b1aedf7_fbbca14ff78ad2dac75d9dca60338d87'\n",
      "'4cdbb62e7b252c4284be8030ad8f476f_fbbca14ff78ad2dac75d9dca60338d87'\n",
      "'c739b2a6aaef80d527b129f5a33f4404_1'\n",
      "'c739b2a6aaef80d527b129f5a33f4404_1'\n",
      "'c739b2a6aaef80d527b129f5a33f4404_1'\n",
      "'c739b2a6aaef80d527b129f5a33f4404_1'\n",
      "'a07704d780e9470de3cfbfdc5d345e5e_28e466087d8f9f2c796a7f3674bf97d5'\n",
      "'1481c92cb1019d1e07c5c4ca1addba9e_28e466087d8f9f2c796a7f3674bf97d5'\n",
      "'1fbdea783dff938b389acff193939a40_28e466087d8f9f2c796a7f3674bf97d5'\n",
      "'573212391aca4063b381afd29ed6bf23_28e466087d8f9f2c796a7f3674bf97d5'\n",
      "'a07704d780e9470de3cfbfdc5d345e5e_1'\n",
      "'a07704d780e9470de3cfbfdc5d345e5e_1'\n",
      "'a07704d780e9470de3cfbfdc5d345e5e_1'\n",
      "'9d2a65d9fc7a71acb47a12b9ef1b350c_07359dacc40a387a2c5a6b5005195c2e'\n",
      "'c8f92d3a062f81a75ac2af430f845e8c_07359dacc40a387a2c5a6b5005195c2e'\n",
      "'09def3492f842e9a25e0dfa2a1ab8809_07359dacc40a387a2c5a6b5005195c2e'\n",
      "'06ff95efb05f64dd40846b50834a0c53_07359dacc40a387a2c5a6b5005195c2e'\n",
      "'0f42f69df66a19bd05aeef324b158f02_1'\n"
     ]
    }
   ],
   "source": [
    "pair_labeled = {}\n",
    "\n",
    "for (uid_1, uid_2), label in uids2label.items():\n",
    "    if label == \"\":\n",
    "        continue\n",
    "    try:\n",
    "        uid_1_data = uid2data[uid_1]\n",
    "        uid_2_data = uid2data[uid_2]\n",
    "\n",
    "        pair_labeled[f'{uid_1}_{uid_2}'] = {\"label\": label,\n",
    "                                            \"data\": [uid_1_data, uid_2_data]}\n",
    "    except KeyError as err:\n",
    "        print(err)"
   ],
   "metadata": {
    "collapsed": false,
    "pycharm": {
     "name": "#%%\n"
    }
   }
  },
  {
   "cell_type": "code",
   "execution_count": 22,
   "outputs": [
    {
     "data": {
      "text/plain": "4476"
     },
     "execution_count": 22,
     "metadata": {},
     "output_type": "execute_result"
    }
   ],
   "source": [
    "len(pair_labeled)"
   ],
   "metadata": {
    "collapsed": false,
    "pycharm": {
     "name": "#%%\n"
    }
   }
  },
  {
   "cell_type": "code",
   "execution_count": 23,
   "outputs": [],
   "source": [
    "with open(\"labeled_pair.json\", \"w\") as write_file:\n",
    "    json.dump(pair_labeled, write_file)"
   ],
   "metadata": {
    "collapsed": false,
    "pycharm": {
     "name": "#%%\n"
    }
   }
  },
  {
   "cell_type": "code",
   "execution_count": 26,
   "outputs": [
    {
     "name": "stdout",
     "output_type": "stream",
     "text": [
      "defaultdict(<class 'int'>, {'greater': 1165, 'equals': 2437, 'less': 874})\n"
     ]
    },
    {
     "data": {
      "text/plain": "<Figure size 360x360 with 1 Axes>",
      "image/png": "[encoded data removed]"
     },
     "metadata": {
      "needs_background": "light"
     },
     "output_type": "display_data"
    }
   ],
   "source": [
    "classes_amount = defaultdict(int)\n",
    "for item in pair_labeled.values():\n",
    "    classes_amount[item[\"label\"]] += 1\n",
    "\n",
    "print(classes_amount)\n",
    "\n",
    "classes_list = [item for item in zip(classes_amount.values(), classes_amount.keys())]\n",
    "classes_list = sorted(classes_list)[::-1]\n",
    "classes_num = [item[0] for item in classes_list]\n",
    "classes_name = [item[1] for item in classes_list]\n",
    "\n",
    "import pandas as pd\n",
    "import matplotlib.pyplot as plt\n",
    "\n",
    "classes_series = pd.Series(classes_num)\n",
    "# Plot the figure.\n",
    "plt.figure(figsize=(5, 5))\n",
    "ax = classes_series.plot(kind='bar', ylim=(0, 2550), color='green')\n",
    "ax.set_title('Распределение классов')\n",
    "ax.set_xlabel('Название класса')\n",
    "ax.set_ylabel('Количество пар параграфов')\n",
    "ax.set_xticklabels(classes_name, rotation=0)\n",
    "\n",
    "rects = ax.patches\n",
    "\n",
    "for rect, class_amount in zip(rects, classes_num):\n",
    "    height = rect.get_height()\n",
    "    ax.text(rect.get_x() + rect.get_width() / 2, height, class_amount,\n",
    "            ha='center', va='bottom')\n",
    "plt.savefig('pair_distribution.png')\n"
   ],
   "metadata": {
    "collapsed": false,
    "pycharm": {
     "name": "#%%\n"
    }
   }
  },
  {
   "cell_type": "code",
   "execution_count": null,
   "outputs": [],
   "source": [],
   "metadata": {
    "collapsed": false,
    "pycharm": {
     "name": "#%%\n"
    }
   }
  }
 ],
 "metadata": {
  "kernelspec": {
   "display_name": "Python 3",
   "language": "python",
   "name": "python3"
  },
  "language_info": {
   "codemirror_mode": {
    "name": "ipython",
    "version": 3
   },
   "file_extension": ".py",
   "mimetype": "text/x-python",
   "name": "python",
   "nbconvert_exporter": "python",
   "pygments_lexer": "ipython3",
   "version": "3.8.5"
  }
 },
 "nbformat": 4,
 "nbformat_minor": 4
}