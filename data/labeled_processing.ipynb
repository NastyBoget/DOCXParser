{
 "cells": [
  {
   "cell_type": "code",
   "execution_count": 1,
   "metadata": {},
   "outputs": [],
   "source": [
    "import json\n",
    "from collections import defaultdict"
   ]
  },
  {
   "cell_type": "code",
   "execution_count": 2,
   "metadata": {
    "pycharm": {
     "name": "#%%\n"
    }
   },
   "outputs": [],
   "source": [
    "with open(\"labeled_tz.json\") as file:\n",
    "    labeled = json.load(file)"
   ]
  },
  {
   "cell_type": "code",
   "execution_count": 3,
   "metadata": {
    "pycharm": {
     "name": "#%%\n"
    }
   },
   "outputs": [
    {
     "name": "stdout",
     "output_type": "stream",
     "text": [
      "defaultdict(<class 'int'>, {'title': 79, 'part': 151, 'item': 489, 'raw_text': 262, 'other': 29, 'toc': 395})\n"
     ]
    }
   ],
   "source": [
    "classes_amount = defaultdict(int)\n",
    "for item in labeled.values():\n",
    "    for line in item:\n",
    "        classes_amount[line[\"label\"]] += 1\n",
    "\n",
    "print(classes_amount)"
   ]
  },
  {
   "cell_type": "code",
   "execution_count": 4,
   "metadata": {
    "pycharm": {
     "name": "#%%\n"
    }
   },
   "outputs": [],
   "source": [
    "classes_list = [item for item in zip(classes_amount.values(), classes_amount.keys())]\n",
    "classes_list = sorted(classes_list)[::-1]\n",
    "\n",
    "classes_num = [item[0] for item in classes_list]\n",
    "classes_name = [item[1] for item in classes_list]"
   ]
  },
  {
   "cell_type": "code",
   "execution_count": 6,
   "metadata": {
    "pycharm": {
     "name": "#%%\n"
    }
   },
   "outputs": [
    {
     "data": {
      "image/png": "[encoded data removed]",
      "text/plain": [
       "<Figure size 720x360 with 1 Axes>"
      ]
     },
     "metadata": {
      "needs_background": "light"
     },
     "output_type": "display_data"
    }
   ],
   "source": [
    "import pandas as pd\n",
    "import matplotlib.pyplot as plt\n",
    "\n",
    "classes_series = pd.Series(classes_num)\n",
    "# Plot the figure.\n",
    "plt.figure(figsize=(10, 5))\n",
    "ax = classes_series.plot(kind='bar', ylim=(0, 520), color='green')\n",
    "ax.set_title('Распределение классов')\n",
    "ax.set_xlabel('Название класса')\n",
    "ax.set_ylabel('Количество параграфов')\n",
    "ax.set_xticklabels(classes_name, rotation=0)\n",
    "\n",
    "rects = ax.patches\n",
    "\n",
    "for rect, class_amount in zip(rects, classes_num):\n",
    "    height = rect.get_height()\n",
    "    ax.text(rect.get_x() + rect.get_width() / 2, height, class_amount,\n",
    "            ha='center', va='bottom')\n",
    "plt.savefig('paragraph_distribution.png')"
   ]
  },
  {
   "cell_type": "code",
   "execution_count": null,
   "metadata": {},
   "outputs": [],
   "source": []
  }
 ],
 "metadata": {
  "kernelspec": {
   "display_name": "Python 3",
   "language": "python",
   "name": "python3"
  },
  "language_info": {
   "codemirror_mode": {
    "name": "ipython",
    "version": 3
   },
   "file_extension": ".py",
   "mimetype": "text/x-python",
   "name": "python",
   "nbconvert_exporter": "python",
   "pygments_lexer": "ipython3",
   "version": "3.8.5"
  }
 },
 "nbformat": 4,
 "nbformat_minor": 4
}
