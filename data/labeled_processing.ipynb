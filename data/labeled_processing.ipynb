{
 "cells": [
  {
   "cell_type": "code",
   "execution_count": 1,
   "metadata": {},
   "outputs": [],
   "source": [
    "import json"
   ]
  },
  {
   "cell_type": "code",
   "execution_count": 3,
   "metadata": {},
   "outputs": [],
   "source": [
    "with open(\"labeled_tz.json\") as file:\n",
    "    labeled_all = json.load(file)"
   ]
  },
  {
   "cell_type": "code",
   "execution_count": 5,
   "metadata": {},
   "outputs": [
    {
     "data": {
      "text/plain": [
       "{'id': 0,\n",
       " 'task_path': 'images/000031_000000_img_bbox_bbox_a64a23bc-7aa9-11eb-a429-0242c0a88002.jpg',\n",
       " 'labeled': ['raw_text'],\n",
       " 'data': {'original_document': '1614615445_669.zip',\n",
       "  '_metadata': {'paragraph_type': 'raw_text',\n",
       "   'predicted_classes': None,\n",
       "   'page_id': 2,\n",
       "   'line_id': 6},\n",
       "  '_hierarchy_level': {'paragraph_type': 'raw_text',\n",
       "   'level_1': None,\n",
       "   'can_be_multiline': False,\n",
       "   'level_2': None},\n",
       "  '_annotations': [{'name': 'size', 'value': '12', 'start': 0, 'end': 19}],\n",
       "  '_line': 'прочность грузов |\\n',\n",
       "  '_uid': 'bbox_a64a23bc-7aa9-11eb-a429-0242c0a88002',\n",
       "  'color': '#f0f',\n",
       "  'bbox': {'line_num': 6,\n",
       "   'original_image': 'img_1614615445_669.pdf_000002.png',\n",
       "   '_uid': 'bbox_a64a23bc-7aa9-11eb-a429-0242c0a88002',\n",
       "   'label': None,\n",
       "   'page_num': 2,\n",
       "   'text': 'прочность грузов |\\n',\n",
       "   'uid': 'bbox_a64a23bc-7aa9-11eb-a429-0242c0a88002',\n",
       "   'bbox': {'height': 33,\n",
       "    'x_top_left': 251,\n",
       "    'width': 1317,\n",
       "    'y_top_left': 380}}},\n",
       " 'default_label': 'raw_text'}"
      ]
     },
     "execution_count": 5,
     "metadata": {},
     "output_type": "execute_result"
    }
   ],
   "source": [
    "labeled_all['0']"
   ]
  },
  {
   "cell_type": "code",
   "execution_count": 7,
   "metadata": {},
   "outputs": [],
   "source": [
    "labeled = {}\n",
    "for key, value in labeled_all.items():\n",
    "    if value[\"data\"][\"original_document\"].endswith(\".docx\"):\n",
    "        labeled[key] = value"
   ]
  },
  {
   "cell_type": "code",
   "execution_count": 8,
   "metadata": {},
   "outputs": [
    {
     "data": {
      "text/plain": [
       "6647"
      ]
     },
     "execution_count": 8,
     "metadata": {},
     "output_type": "execute_result"
    }
   ],
   "source": [
    "len(labeled_all)"
   ]
  },
  {
   "cell_type": "code",
   "execution_count": 9,
   "metadata": {},
   "outputs": [
    {
     "data": {
      "text/plain": [
       "1393"
      ]
     },
     "execution_count": 9,
     "metadata": {},
     "output_type": "execute_result"
    }
   ],
   "source": [
    "len(labeled)"
   ]
  },
  {
   "cell_type": "code",
   "execution_count": 13,
   "metadata": {},
   "outputs": [
    {
     "data": {
      "text/plain": [
       "('185',\n",
       " {'id': 185,\n",
       "  'task_path': 'images/000032_000000_img_bbox_28e466087d8f9f2c796a7f3674bf97d5_afe029eb67c4335e35a37f3bdc7a7a3f.jpg',\n",
       "  'labeled': ['title'],\n",
       "  'data': {'original_document': '1614615210_93.docx',\n",
       "   '_metadata': {'paragraph_type': 'root',\n",
       "    'predicted_classes': None,\n",
       "    'page_id': 0,\n",
       "    'line_id': 2},\n",
       "   '_hierarchy_level': {'paragraph_type': 'root',\n",
       "    'level_1': 0,\n",
       "    'can_be_multiline': True,\n",
       "    'level_2': 0},\n",
       "   '_annotations': [{'name': 'indentation',\n",
       "     'value': '0',\n",
       "     'start': 0,\n",
       "     'end': 13},\n",
       "    {'name': 'alignment', 'value': 'center', 'start': 0, 'end': 13},\n",
       "    {'name': 'size', 'value': '12.0', 'start': 0, 'end': 13},\n",
       "    {'name': 'style', 'value': 'normal', 'start': 0, 'end': 13}],\n",
       "   '_line': ' Приложение 1\\n',\n",
       "   '_uid': '28e466087d8f9f2c796a7f3674bf97d5_afe029eb67c4335e35a37f3bdc7a7a3f',\n",
       "   'color': '#f00'},\n",
       "  'default_label': 'title'})"
      ]
     },
     "execution_count": 13,
     "metadata": {},
     "output_type": "execute_result"
    }
   ],
   "source": [
    "list(labeled.items())[0]"
   ]
  },
  {
   "cell_type": "code",
   "execution_count": 14,
   "metadata": {},
   "outputs": [],
   "source": [
    "with open('labeled_tz.json', 'w') as outfile:\n",
    "    json.dump(labeled, outfile)"
   ]
  },
  {
   "cell_type": "code",
   "execution_count": 2,
   "metadata": {},
   "outputs": [],
   "source": [
    "with open(\"labeled_tz.json\") as file:\n",
    "    labeled = json.load(file)"
   ]
  },
  {
   "cell_type": "code",
   "execution_count": 3,
   "metadata": {},
   "outputs": [
    {
     "data": {
      "text/plain": "{'id': 185,\n 'task_path': 'images/000032_000000_img_bbox_28e466087d8f9f2c796a7f3674bf97d5_afe029eb67c4335e35a37f3bdc7a7a3f.jpg',\n 'labeled': ['title'],\n 'data': {'original_document': '1614615210_93.docx',\n  '_metadata': {'paragraph_type': 'root',\n   'predicted_classes': None,\n   'page_id': 0,\n   'line_id': 2},\n  '_hierarchy_level': {'paragraph_type': 'root',\n   'level_1': 0,\n   'can_be_multiline': True,\n   'level_2': 0},\n  '_annotations': [{'name': 'indentation',\n    'value': '0',\n    'start': 0,\n    'end': 13},\n   {'name': 'alignment', 'value': 'center', 'start': 0, 'end': 13},\n   {'name': 'size', 'value': '12.0', 'start': 0, 'end': 13},\n   {'name': 'style', 'value': 'normal', 'start': 0, 'end': 13}],\n  '_line': ' Приложение 1\\n',\n  '_uid': '28e466087d8f9f2c796a7f3674bf97d5_afe029eb67c4335e35a37f3bdc7a7a3f',\n  'color': '#f00'},\n 'default_label': 'title'}"
     },
     "execution_count": 3,
     "metadata": {},
     "output_type": "execute_result"
    }
   ],
   "source": [
    "labeled['185']"
   ]
  },
  {
   "cell_type": "code",
   "execution_count": 3,
   "metadata": {},
   "outputs": [],
   "source": [
    "result = {}\n",
    "\n",
    "for key, value in labeled.items():\n",
    "    result[value['data']['_uid']] = value['labeled'][0]"
   ]
  },
  {
   "cell_type": "code",
   "execution_count": 5,
   "metadata": {},
   "outputs": [
    {
     "data": {
      "text/plain": "1393"
     },
     "execution_count": 5,
     "metadata": {},
     "output_type": "execute_result"
    }
   ],
   "source": [
    "len(result)"
   ]
  },
  {
   "cell_type": "code",
   "execution_count": 4,
   "metadata": {},
   "outputs": [],
   "source": [
    "import os\n",
    "\n",
    "files = os.listdir('.')"
   ]
  },
  {
   "cell_type": "code",
   "execution_count": 5,
   "metadata": {},
   "outputs": [],
   "source": [
    "from document_parser import DOCXParser"
   ]
  },
  {
   "cell_type": "code",
   "execution_count": 7,
   "metadata": {},
   "outputs": [
    {
     "name": "stdout",
     "output_type": "stream",
     "text": [
      " \n",
      "\t\n",
      " \n",
      " \n",
      "\t\t\n",
      "\n",
      "\n",
      " \n",
      "\n",
      "\n",
      " \n",
      "\n",
      "\n",
      "\n",
      "\n",
      "\n",
      "\n"
     ]
    }
   ],
   "source": [
    "data = {}\n",
    "cnt = 0\n",
    "for file in files:\n",
    "    if not file.endswith('.docx'):\n",
    "        continue\n",
    "    docx_parser = DOCXParser()\n",
    "    docx_parser.parse(os.path.abspath(file))\n",
    "    lines = docx_parser.get_lines_with_meta()\n",
    "    for line in lines:\n",
    "        line[\"group\"] = file\n",
    "        if line[\"uid\"] in result:\n",
    "            line[\"label\"] = result[line[\"uid\"]]\n",
    "        else:\n",
    "            print(line[\"text\"])\n",
    "            line[\"label\"] = \"raw_text\"\n",
    "    data[str(cnt)] = lines\n",
    "    cnt += 1\n"
   ]
  },
  {
   "cell_type": "code",
   "execution_count": 8,
   "metadata": {},
   "outputs": [
    {
     "data": {
      "text/plain": "22"
     },
     "execution_count": 8,
     "metadata": {},
     "output_type": "execute_result"
    }
   ],
   "source": [
    "len(data)"
   ]
  },
  {
   "cell_type": "code",
   "execution_count": 9,
   "outputs": [
    {
     "data": {
      "text/plain": "[{'text': 'ТЕХНИЧЕСКОЕ ЗАДАНИЕ',\n  'level': None,\n  'uid': 'fbbca14ff78ad2dac75d9dca60338d87_8e0dd811db33250f0110c4e008a15de0',\n  'type': 'raw_text',\n  'annotations': [('indentation', 0, 19, '0'),\n   ('alignment', 0, 19, 'center'),\n   ('bold', 0, 19, 'True'),\n   ('size', 0, 19, '12.0'),\n   ('style', 0, 19, 'normal')],\n  'group': '1611135438_978.docx',\n  'label': 'title'},\n {'text': 'на проведение работ по созданию системы защиты персональных данных МФЦ на трёх автоматизированных рабочих местах',\n  'level': None,\n  'uid': 'fbbca14ff78ad2dac75d9dca60338d87_411bb9b905c4cfcee557759dd9dc8f25',\n  'type': 'raw_text',\n  'annotations': [('indentation', 0, 112, '0'),\n   ('alignment', 0, 112, 'center'),\n   ('bold', 0, 112, 'True'),\n   ('size', 0, 112, '12.0'),\n   ('style', 0, 112, 'normal')],\n  'group': '1611135438_978.docx',\n  'label': 'title'},\n {'text': '1.\\tЦели проекта:',\n  'level': (2, 2),\n  'uid': 'fbbca14ff78ad2dac75d9dca60338d87_41b07179baec7a4eed4efc3564cdf680',\n  'type': 'list_item',\n  'annotations': [('indentation', 0, 16, '1080'),\n   ('alignment', 0, 16, 'both'),\n   ('bold', 0, 16, 'True'),\n   ('size', 0, 16, '12.0'),\n   ('style', 0, 16, 'list paragraph')],\n  'group': '1611135438_978.docx',\n  'label': 'part'},\n {'text': '−\\tобеспечение защиты от несанкционированного доступа (далее НСД) к информации и базам данных, находящимся на автоматизированных рабочих местах (далее АРМ) в МАУ ЩМР «МФЦ Щёлковского муниципального района»',\n  'level': (2, 1),\n  'uid': 'fbbca14ff78ad2dac75d9dca60338d87_91ff6d777edc37137a912b418792b86f',\n  'type': 'list_item',\n  'annotations': [('indentation', 0, 204, '1428'),\n   ('alignment', 0, 204, 'both'),\n   ('bold', 0, 2, 'True'),\n   ('size', 0, 204, '12.0'),\n   ('style', 0, 204, 'list paragraph')],\n  'group': '1611135438_978.docx',\n  'label': 'item'},\n {'text': '2.\\tНаименование и содержание работ: ',\n  'level': (2, 2),\n  'uid': 'fbbca14ff78ad2dac75d9dca60338d87_cf6ee33783e2b5d89a3f57019daf47d3',\n  'type': 'list_item',\n  'annotations': [('indentation', 0, 36, '1080'),\n   ('alignment', 0, 36, 'both'),\n   ('bold', 0, 36, 'True'),\n   ('size', 0, 36, '12.0'),\n   ('style', 0, 36, 'list paragraph')],\n  'group': '1611135438_978.docx',\n  'label': 'part'},\n {'text': 'Выполнение комплекса работ по построению системы защиты информации.',\n  'level': None,\n  'uid': 'fbbca14ff78ad2dac75d9dca60338d87_6a7b2bd255a5daa1cc7a57fc73fac10b',\n  'type': 'raw_text',\n  'annotations': [('indentation', 0, 67, '0'),\n   ('alignment', 0, 67, 'both'),\n   ('size', 0, 67, '12.0'),\n   ('style', 0, 67, 'list paragraph')],\n  'group': '1611135438_978.docx',\n  'label': 'raw_text'},\n {'text': 'Содержание работ:',\n  'level': None,\n  'uid': 'fbbca14ff78ad2dac75d9dca60338d87_e19b8f9f011c7b7e2a4473c28c4441dd',\n  'type': 'raw_text',\n  'annotations': [('indentation', 0, 17, '0'),\n   ('alignment', 0, 17, 'both'),\n   ('size', 0, 17, '12.0'),\n   ('style', 0, 17, 'list paragraph')],\n  'group': '1611135438_978.docx',\n  'label': 'raw_text'},\n {'text': '−\\tустановка и настройка сертифицированных средств защиты информации.',\n  'level': (2, 1),\n  'uid': 'fbbca14ff78ad2dac75d9dca60338d87_0d19f71df00afb54bca8d10a567eeef4',\n  'type': 'list_item',\n  'annotations': [('indentation', 0, 68, '1428'),\n   ('alignment', 0, 68, 'both'),\n   ('size', 0, 68, '12.0'),\n   ('style', 0, 68, 'list paragraph')],\n  'group': '1611135438_978.docx',\n  'label': 'item'},\n {'text': '−\\tприобретение сертифицированных средств защиты информации.',\n  'level': (2, 1),\n  'uid': 'fbbca14ff78ad2dac75d9dca60338d87_056daac2d75c2003b62eb58458350c06',\n  'type': 'list_item',\n  'annotations': [('indentation', 0, 59, '1428'),\n   ('alignment', 0, 59, 'both'),\n   ('size', 0, 59, '12.0'),\n   ('style', 0, 59, 'list paragraph')],\n  'group': '1611135438_978.docx',\n  'label': 'item'},\n {'text': '3.\\tОснование для выполнения работ:',\n  'level': (2, 2),\n  'uid': 'fbbca14ff78ad2dac75d9dca60338d87_5d94ef4c282031c41752b31a86dc1274',\n  'type': 'list_item',\n  'annotations': [('indentation', 0, 34, '1080'),\n   ('alignment', 0, 34, 'both'),\n   ('bold', 0, 34, 'True'),\n   ('size', 0, 34, '12.0'),\n   ('style', 0, 34, 'list paragraph')],\n  'group': '1611135438_978.docx',\n  'label': 'part'},\n {'text': 'Работы должны проводиться в  соответствии со следующими нормативными правовыми актами:',\n  'level': None,\n  'uid': 'fbbca14ff78ad2dac75d9dca60338d87_4c99ae9e389e67cebabb5ad6df433cab',\n  'type': 'raw_text',\n  'annotations': [('indentation', 0, 86, '0'),\n   ('alignment', 0, 86, 'both'),\n   ('size', 0, 86, '12.0'),\n   ('style', 0, 86, 'list paragraph')],\n  'group': '1611135438_978.docx',\n  'label': 'raw_text'},\n {'text': '4.\\tПеречень и количество поставляемых программных средств защиты информации, а также перечень и объем выполняемых работ:',\n  'level': (2, 2),\n  'uid': 'fbbca14ff78ad2dac75d9dca60338d87_d7dea49fc7a5215e35685f0752393c42',\n  'type': 'list_item',\n  'annotations': [('indentation', 0, 120, '1080'),\n   ('alignment', 0, 120, 'both'),\n   ('bold', 0, 120, 'True'),\n   ('size', 0, 120, '12.0'),\n   ('style', 0, 120, 'list paragraph')],\n  'group': '1611135438_978.docx',\n  'label': 'part'},\n {'text': '4.1.\\t Перечень и количество поставляемых программных и программно-аппаратных средств защиты информации приведен в таблице 1.',\n  'level': (2, 3),\n  'uid': 'fbbca14ff78ad2dac75d9dca60338d87_9e2a1b30771d85e4daaf3515dbd4b12d',\n  'type': 'list_item',\n  'annotations': [('indentation', 0, 124, '1080'),\n   ('alignment', 0, 124, 'both'),\n   ('size', 0, 124, '12.0'),\n   ('style', 0, 124, 'list paragraph')],\n  'group': '1611135438_978.docx',\n  'label': 'other'},\n {'text': 'Таблица 1 – Перечень и количество поставляемых программных средств защиты информации:',\n  'level': None,\n  'uid': 'fbbca14ff78ad2dac75d9dca60338d87_809b5afb710cbe0aa4735a5aa1955107',\n  'type': 'raw_text',\n  'annotations': [('indentation', 0, 85, '0'),\n   ('alignment', 0, 85, 'left'),\n   ('size', 0, 85, '12.0'),\n   ('style', 0, 85, 'normal')],\n  'group': '1611135438_978.docx',\n  'label': 'other'},\n {'text': '4.2.\\tПеречень и объем выполняемых работ по установке и настройке программных средств защиты информации приведен в таблице 2.',\n  'level': (2, 3),\n  'uid': 'fbbca14ff78ad2dac75d9dca60338d87_0bda54a38f81d517929d32b01d3f57a3',\n  'type': 'list_item',\n  'annotations': [('indentation', 0, 124, '1080'),\n   ('alignment', 0, 124, 'both'),\n   ('size', 0, 124, '12.0'),\n   ('style', 0, 124, 'list paragraph')],\n  'group': '1611135438_978.docx',\n  'label': 'item'},\n {'text': 'Таблица 2 – Перечень и объем выполняемых работ по установке и настройке программных средств защиты информации:',\n  'level': None,\n  'uid': 'fbbca14ff78ad2dac75d9dca60338d87_50dbca2647c410e3fa4f8932b1ecf1e0',\n  'type': 'raw_text',\n  'annotations': [('indentation', 0, 110, '0'),\n   ('alignment', 0, 110, 'both'),\n   ('size', 0, 110, '12.0'),\n   ('style', 0, 110, 'list paragraph')],\n  'group': '1611135438_978.docx',\n  'label': 'raw_text'},\n {'text': '5.\\tМесто выполняемых работ',\n  'level': (2, 2),\n  'uid': 'fbbca14ff78ad2dac75d9dca60338d87_ce061b91b98bf6024fcac6e8aa946633',\n  'type': 'list_item',\n  'annotations': [('indentation', 0, 26, '1080'),\n   ('alignment', 0, 26, 'both'),\n   ('bold', 0, 26, 'True'),\n   ('size', 0, 26, '12.0'),\n   ('style', 0, 26, 'list paragraph')],\n  'group': '1611135438_978.docx',\n  'label': 'part'},\n {'text': 'Работы должны быть выполнены по следующему адресу: ',\n  'level': None,\n  'uid': 'fbbca14ff78ad2dac75d9dca60338d87_d8268d6688b0463559cf1a7607b442e5',\n  'type': 'raw_text',\n  'annotations': [('indentation', 0, 51, '0'),\n   ('alignment', 0, 51, 'both'),\n   ('size', 0, 51, '12.0'),\n   ('style', 0, 51, 'normal')],\n  'group': '1611135438_978.docx',\n  'label': 'raw_text'},\n {'text': '−\\t141100, Московская обл.,  г. Щёлково,  ул. Свирская, д. 2а.',\n  'level': (2, 1),\n  'uid': 'fbbca14ff78ad2dac75d9dca60338d87_c739b2a6aaef80d527b129f5a33f4404',\n  'type': 'list_item',\n  'annotations': [('indentation', 0, 61, '1429'),\n   ('alignment', 0, 61, 'both'),\n   ('size', 0, 61, '12.0'),\n   ('style', 0, 61, 'list paragraph')],\n  'group': '1611135438_978.docx',\n  'label': 'item'},\n {'text': ' ',\n  'level': None,\n  'uid': 'fbbca14ff78ad2dac75d9dca60338d87_b83065cd065f9b370c77e6f92bf36335',\n  'type': 'raw_text',\n  'annotations': [('indentation', 0, 1, '0'),\n   ('alignment', 0, 1, 'left'),\n   ('size', 0, 1, '12.0'),\n   ('style', 0, 1, 'normal')],\n  'group': '1611135438_978.docx',\n  'label': 'raw_text'},\n {'text': '6.\\tМесто поставки средств защиты информации',\n  'level': (2, 2),\n  'uid': 'fbbca14ff78ad2dac75d9dca60338d87_c61ba34aa131e09765d8fe762b1aedf7',\n  'type': 'list_item',\n  'annotations': [('indentation', 0, 43, '1080'),\n   ('alignment', 0, 43, 'both'),\n   ('bold', 0, 43, 'True'),\n   ('size', 0, 43, '12.0'),\n   ('style', 0, 43, 'list paragraph')],\n  'group': '1611135438_978.docx',\n  'label': 'part'},\n {'text': 'Поставку средств защиты информации необходимо осуществить по адресу: ',\n  'level': None,\n  'uid': 'fbbca14ff78ad2dac75d9dca60338d87_4cdbb62e7b252c4284be8030ad8f476f',\n  'type': 'raw_text',\n  'annotations': [('indentation', 0, 69, '0'),\n   ('alignment', 0, 69, 'left'),\n   ('size', 0, 69, '12.0'),\n   ('style', 0, 69, 'normal')],\n  'group': '1611135438_978.docx',\n  'label': 'raw_text'},\n {'text': '−\\t141100, Московская обл.,  г. Щёлково,  ул. Свирская, д. 2а.',\n  'level': (2, 1),\n  'uid': 'fbbca14ff78ad2dac75d9dca60338d87_c739b2a6aaef80d527b129f5a33f4404',\n  'type': 'list_item',\n  'annotations': [('indentation', 0, 61, '1429'),\n   ('alignment', 0, 61, 'both'),\n   ('size', 0, 61, '12.0'),\n   ('style', 0, 61, 'list paragraph')],\n  'group': '1611135438_978.docx',\n  'label': 'item'},\n {'text': '7.\\tТребования к используемым технологиям.',\n  'level': (2, 2),\n  'uid': 'fbbca14ff78ad2dac75d9dca60338d87_8016b5ac992095ce6c02abbabd09ea3b',\n  'type': 'list_item',\n  'annotations': [('indentation', 0, 41, '1080'),\n   ('alignment', 0, 41, 'both'),\n   ('bold', 0, 41, 'True'),\n   ('size', 0, 41, '12.0'),\n   ('style', 0, 41, 'list paragraph')],\n  'group': '1611135438_978.docx',\n  'label': 'part'},\n {'text': 'Построение системы защиты информации должно осуществляться на базе применения современных информационных технологий и обеспечивать:',\n  'level': None,\n  'uid': 'fbbca14ff78ad2dac75d9dca60338d87_1384a07af5441694a61ac92dd927d547',\n  'type': 'raw_text',\n  'annotations': [('indentation', 0, 131, '0'),\n   ('alignment', 0, 131, 'both'),\n   ('size', 0, 131, '12.0'),\n   ('style', 0, 131, 'normal')],\n  'group': '1611135438_978.docx',\n  'label': 'raw_text'},\n {'text': '⎯\\tрасширяемость и гибкость управления конфигурацией системы;',\n  'level': (2, 1),\n  'uid': 'fbbca14ff78ad2dac75d9dca60338d87_6d8794f27e5cb91b305c0449dae10ca4',\n  'type': 'list_item',\n  'annotations': [('indentation', 0, 60, '1429'),\n   ('alignment', 0, 60, 'both'),\n   ('size', 0, 60, '12.0'),\n   ('style', 0, 60, 'list paragraph')],\n  'group': '1611135438_978.docx',\n  'label': 'item'},\n {'text': '⎯\\tнадежность и отказоустойчивость аппаратных и программных средств системы.',\n  'level': (2, 1),\n  'uid': 'fbbca14ff78ad2dac75d9dca60338d87_b059c933c343023ec7a1c682082d1022',\n  'type': 'list_item',\n  'annotations': [('indentation', 0, 75, '1429'),\n   ('alignment', 0, 75, 'both'),\n   ('size', 0, 75, '12.0'),\n   ('style', 0, 75, 'list paragraph')],\n  'group': '1611135438_978.docx',\n  'label': 'item'},\n {'text': 'Средства защиты должны быть совместимы с программными и аппаратными средствами автоматизированной обработки и защиты ПДн, используемыми заказчиком.',\n  'level': None,\n  'uid': 'fbbca14ff78ad2dac75d9dca60338d87_0a807fac82e7f9f0c2112cc955cbcb4f',\n  'type': 'raw_text',\n  'annotations': [('indentation', 0, 147, '0'),\n   ('alignment', 0, 147, 'both'),\n   ('size', 0, 147, '12.0'),\n   ('style', 0, 147, 'normal')],\n  'group': '1611135438_978.docx',\n  'label': 'raw_text'},\n {'text': 'Архитектура СЗПДн должна быть открытой, масштабируемой и строиться по модульному принципу, каждый модуль должен обеспечивать свою часть функциональности решения задач в целом.',\n  'level': None,\n  'uid': 'fbbca14ff78ad2dac75d9dca60338d87_4727dee53b9dbedf374d9fbda396bb07',\n  'type': 'raw_text',\n  'annotations': [('indentation', 0, 175, '0'),\n   ('alignment', 0, 175, 'both'),\n   ('size', 0, 175, '12.0'),\n   ('style', 0, 175, 'normal')],\n  'group': '1611135438_978.docx',\n  'label': 'raw_text'},\n {'text': '8.\\tТребования к обеспечению безопасности в ходе разработки и внедрения СЗПДн.',\n  'level': (2, 2),\n  'uid': 'fbbca14ff78ad2dac75d9dca60338d87_485f831703e484ee1ef3900baaccd77b',\n  'type': 'list_item',\n  'annotations': [('indentation', 0, 77, '1080'),\n   ('alignment', 0, 77, 'both'),\n   ('bold', 0, 77, 'True'),\n   ('size', 0, 77, '12.0'),\n   ('style', 0, 77, 'list paragraph')],\n  'group': '1611135438_978.docx',\n  'label': 'part'},\n {'text': 'Все сведения о составе и характеристиках СЗПДн являются конфиденциальной информацией.',\n  'level': None,\n  'uid': 'fbbca14ff78ad2dac75d9dca60338d87_9cf55d1decf7bd7b25a3a4da9afeb45b',\n  'type': 'raw_text',\n  'annotations': [('indentation', 0, 85, '0'),\n   ('alignment', 0, 85, 'both'),\n   ('size', 0, 85, '12.0'),\n   ('style', 0, 85, 'normal')],\n  'group': '1611135438_978.docx',\n  'label': 'raw_text'},\n {'text': 'Исполнитель СЗПДн обязуется:',\n  'level': None,\n  'uid': 'fbbca14ff78ad2dac75d9dca60338d87_0b7437fb164aa3bbeb0d0ceffea724c0',\n  'type': 'raw_text',\n  'annotations': [('indentation', 0, 28, '0'),\n   ('alignment', 0, 28, 'both'),\n   ('size', 0, 28, '12.0'),\n   ('style', 0, 28, 'normal')],\n  'group': '1611135438_978.docx',\n  'label': 'raw_text'},\n {'text': '−\\tне проводить противозаконные действия по сбору, использованию и передаче третьей стороне информации циркулирующей и хранящейся в ИС;',\n  'level': (2, 1),\n  'uid': 'fbbca14ff78ad2dac75d9dca60338d87_0ac662f5ab00d58d56ebea51aa8f3e82',\n  'type': 'list_item',\n  'annotations': [('indentation', 0, 134, '1429'),\n   ('alignment', 0, 134, 'both'),\n   ('size', 0, 134, '12.0'),\n   ('style', 0, 134, 'list paragraph')],\n  'group': '1611135438_978.docx',\n  'label': 'item'},\n {'text': '−\\tне осуществлять несанкционированный доступ к информационным ресурсам ИС;',\n  'level': (2, 1),\n  'uid': 'fbbca14ff78ad2dac75d9dca60338d87_a3da6f9a308ff60c68e77579d87d8140',\n  'type': 'list_item',\n  'annotations': [('indentation', 0, 74, '1429'),\n   ('alignment', 0, 74, 'both'),\n   ('size', 0, 74, '12.0'),\n   ('style', 0, 74, 'list paragraph')],\n  'group': '1611135438_978.docx',\n  'label': 'item'},\n {'text': '−\\tне проводить незаконное копирование информации, циркулирующей или хранящейся в ИС;',\n  'level': (2, 1),\n  'uid': 'fbbca14ff78ad2dac75d9dca60338d87_09e695b09f5572ce41234eeabd107e8b',\n  'type': 'list_item',\n  'annotations': [('indentation', 0, 84, '1429'),\n   ('alignment', 0, 84, 'both'),\n   ('size', 0, 84, '12.0'),\n   ('style', 0, 84, 'list paragraph')],\n  'group': '1611135438_978.docx',\n  'label': 'item'},\n {'text': '−\\tне предпринимать манипулирование информацией, циркулирующей или хранящейся в ИС (фальсифицировать, модифицировать, подделывать, блокировать, уничтожать или искажать информацию);',\n  'level': (2, 1),\n  'uid': 'fbbca14ff78ad2dac75d9dca60338d87_c8b895c7b19aae8127ac7ea2a50fc06d',\n  'type': 'list_item',\n  'annotations': [('indentation', 0, 179, '1429'),\n   ('alignment', 0, 179, 'both'),\n   ('size', 0, 179, '12.0'),\n   ('style', 0, 179, 'list paragraph')],\n  'group': '1611135438_978.docx',\n  'label': 'item'},\n {'text': '−\\tне нарушать технологию сбора, накопления, хранения, обработки, преобразования, отображения и передачи информации, в результате чего может быть осуществлено искажение, потеря или незаконное использование информации;',\n  'level': (2, 1),\n  'uid': 'fbbca14ff78ad2dac75d9dca60338d87_04b3c2197c646831216579b614661d6f',\n  'type': 'list_item',\n  'annotations': [('indentation', 0, 216, '1429'),\n   ('alignment', 0, 216, 'both'),\n   ('size', 0, 216, '12.0'),\n   ('style', 0, 216, 'list paragraph')],\n  'group': '1611135438_978.docx',\n  'label': 'item'},\n {'text': '−\\tне внедрять в ИС программы-вирусы (загрузочные, файловые и др.);',\n  'level': (2, 1),\n  'uid': 'fbbca14ff78ad2dac75d9dca60338d87_e6fe52b5625bd857ad653daf6ee1aeb8',\n  'type': 'list_item',\n  'annotations': [('indentation', 0, 66, '1429'),\n   ('alignment', 0, 66, 'both'),\n   ('size', 0, 66, '12.0'),\n   ('style', 0, 66, 'list paragraph')],\n  'group': '1611135438_978.docx',\n  'label': 'item'},\n {'text': '−\\tне устанавливать программные и аппаратные закладные устройства в технические средства ИС;',\n  'level': (2, 1),\n  'uid': 'fbbca14ff78ad2dac75d9dca60338d87_bbe49efa14ed6a4f5ed85380786285b2',\n  'type': 'list_item',\n  'annotations': [('indentation', 0, 91, '1429'),\n   ('alignment', 0, 91, 'both'),\n   ('size', 0, 91, '12.0'),\n   ('style', 0, 91, 'list paragraph')],\n  'group': '1611135438_978.docx',\n  'label': 'item'},\n {'text': '−\\tне устанавливать в технические средства ИС программное обеспечение, зараженное вирусами. ',\n  'level': (2, 1),\n  'uid': 'fbbca14ff78ad2dac75d9dca60338d87_df7d6d0299d036fc656a7aa3a1e708ed',\n  'type': 'list_item',\n  'annotations': [('indentation', 0, 91, '1429'),\n   ('alignment', 0, 91, 'both'),\n   ('size', 0, 91, '12.0'),\n   ('style', 0, 91, 'list paragraph')],\n  'group': '1611135438_978.docx',\n  'label': 'item'},\n {'text': 'Нарушение настоящих требований влечет за собою гражданско-правовую и иную ответственность, предусмотренную действующим законодательством.',\n  'level': None,\n  'uid': 'fbbca14ff78ad2dac75d9dca60338d87_8572a7238276c6fd43048c6dba1fb353',\n  'type': 'raw_text',\n  'annotations': [('indentation', 0, 137, '0'),\n   ('alignment', 0, 137, 'both'),\n   ('size', 0, 137, '12.0'),\n   ('style', 0, 137, 'normal')],\n  'group': '1611135438_978.docx',\n  'label': 'raw_text'},\n {'text': '13. Требования к стандартизации, унификации и к гарантийному сроку',\n  'level': None,\n  'uid': 'fbbca14ff78ad2dac75d9dca60338d87_f7dd3debe6c49a8a7307f48311b1dd4f',\n  'type': 'raw_text',\n  'annotations': [('indentation', 0, 66, '0'),\n   ('alignment', 0, 66, 'both'),\n   ('bold', 0, 66, 'True'),\n   ('size', 0, 66, '12.0'),\n   ('style', 0, 66, 'normal')],\n  'group': '1611135438_978.docx',\n  'label': 'part'},\n {'text': '13.1. Средства защиты информации должны соответствовать соглашениям и стандартам, в части работы с клавиатурой, отображения информации на экране, вызова справочной информации, организации пользовательского интерфейса и т.п.',\n  'level': None,\n  'uid': 'fbbca14ff78ad2dac75d9dca60338d87_a36b3290df605bbdf893976f5ad29a64',\n  'type': 'raw_text',\n  'annotations': [('indentation', 0, 223, '0'),\n   ('alignment', 0, 223, 'both'),\n   ('size', 0, 223, '12.0'),\n   ('style', 0, 223, 'normal')],\n  'group': '1611135438_978.docx',\n  'label': 'item'},\n {'text': '13.2. Требования к гарантийному сроку и (или) объему предоставления гарантий качества средств защиты информации.',\n  'level': None,\n  'uid': 'fbbca14ff78ad2dac75d9dca60338d87_281f1375042d529c95f2c43a3be8ea56',\n  'type': 'raw_text',\n  'annotations': [('indentation', 0, 112, '0'),\n   ('alignment', 0, 112, 'both'),\n   ('size', 0, 112, '12.0'),\n   ('style', 0, 112, 'normal')],\n  'group': '1611135438_978.docx',\n  'label': 'item'},\n {'text': ' Объем предоставления гарантий качества средств защиты информации – 100%.',\n  'level': None,\n  'uid': 'fbbca14ff78ad2dac75d9dca60338d87_b0485262af87650a442d1bae2d8211d3',\n  'type': 'raw_text',\n  'annotations': [('indentation', 0, 73, '0'),\n   ('alignment', 0, 73, 'both'),\n   ('size', 0, 73, '12.0'),\n   ('style', 0, 73, 'normal')],\n  'group': '1611135438_978.docx',\n  'label': 'raw_text'},\n {'text': 'Подрядчик гарантирует качество поставляемых средств защиты информации в полном соответствии с требованиями действующего законодательства Российской Федерации.',\n  'level': None,\n  'uid': 'fbbca14ff78ad2dac75d9dca60338d87_8ac53d976e1bb308dacb4cac2f2d9a8c',\n  'type': 'raw_text',\n  'annotations': [('indentation', 0, 158, '0'),\n   ('alignment', 0, 158, 'both'),\n   ('size', 0, 158, '12.0'),\n   ('style', 0, 158, 'normal')],\n  'group': '1611135438_978.docx',\n  'label': 'raw_text'},\n {'text': 'Гарантийный срок на компакт диски не менее 12 месяцев.',\n  'level': None,\n  'uid': 'fbbca14ff78ad2dac75d9dca60338d87_f27e034a796eb5ac47ac38a16229e1b8',\n  'type': 'raw_text',\n  'annotations': [('indentation', 0, 54, '0'),\n   ('alignment', 0, 54, 'both'),\n   ('size', 0, 54, '12.0'),\n   ('style', 0, 54, 'normal')],\n  'group': '1611135438_978.docx',\n  'label': 'raw_text'},\n {'text': 'Гарантийный срок на средства защиты информации не менее 12 месяцев.',\n  'level': None,\n  'uid': 'fbbca14ff78ad2dac75d9dca60338d87_1cd70bb90f3bf440e9609a6c1abdda20',\n  'type': 'raw_text',\n  'annotations': [('indentation', 0, 67, '0'),\n   ('alignment', 0, 67, 'both'),\n   ('size', 0, 67, '12.0'),\n   ('style', 0, 67, 'normal')],\n  'group': '1611135438_978.docx',\n  'label': 'raw_text'},\n {'text': 'Директор                                                                                                  И.Ю. Кривошеева.',\n  'level': None,\n  'uid': 'fbbca14ff78ad2dac75d9dca60338d87_da24b00ae577525b38cdee67ff1a5963',\n  'type': 'raw_text',\n  'annotations': [('indentation', 0, 122, '0'),\n   ('alignment', 0, 122, 'left'),\n   ('size', 0, 122, '12.0'),\n   ('style', 0, 122, 'normal')],\n  'group': '1611135438_978.docx',\n  'label': 'raw_text'}]"
     },
     "execution_count": 9,
     "metadata": {},
     "output_type": "execute_result"
    }
   ],
   "source": [
    "data['0']"
   ],
   "metadata": {
    "collapsed": false,
    "pycharm": {
     "name": "#%%\n"
    }
   }
  },
  {
   "cell_type": "code",
   "execution_count": 10,
   "outputs": [],
   "source": [
    "with open('labeled_tz.json', 'w') as outfile:\n",
    "    json.dump(data, outfile)"
   ],
   "metadata": {
    "collapsed": false,
    "pycharm": {
     "name": "#%%\n"
    }
   }
  }
 ],
 "metadata": {
  "kernelspec": {
   "display_name": "Python 3",
   "language": "python",
   "name": "python3"
  },
  "language_info": {
   "codemirror_mode": {
    "name": "ipython",
    "version": 3
   },
   "file_extension": ".py",
   "mimetype": "text/x-python",
   "name": "python",
   "nbconvert_exporter": "python",
   "pygments_lexer": "ipython3",
   "version": "3.8.5"
  }
 },
 "nbformat": 4,
 "nbformat_minor": 4
}