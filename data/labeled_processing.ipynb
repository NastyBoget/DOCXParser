{
 "cells": [
  {
   "cell_type": "code",
   "execution_count": 1,
   "metadata": {},
   "outputs": [],
   "source": [
    "import json"
   ]
  },
  {
   "cell_type": "code",
   "execution_count": 3,
   "metadata": {},
   "outputs": [],
   "source": [
    "with open(\"labeled_tz.json\") as file:\n",
    "    labeled_all = json.load(file)"
   ]
  },
  {
   "cell_type": "code",
   "execution_count": 5,
   "metadata": {},
   "outputs": [
    {
     "data": {
      "text/plain": [
       "{'id': 0,\n",
       " 'task_path': 'images/000031_000000_img_bbox_bbox_a64a23bc-7aa9-11eb-a429-0242c0a88002.jpg',\n",
       " 'labeled': ['raw_text'],\n",
       " 'data': {'original_document': '1614615445_669.zip',\n",
       "  '_metadata': {'paragraph_type': 'raw_text',\n",
       "   'predicted_classes': None,\n",
       "   'page_id': 2,\n",
       "   'line_id': 6},\n",
       "  '_hierarchy_level': {'paragraph_type': 'raw_text',\n",
       "   'level_1': None,\n",
       "   'can_be_multiline': False,\n",
       "   'level_2': None},\n",
       "  '_annotations': [{'name': 'size', 'value': '12', 'start': 0, 'end': 19}],\n",
       "  '_line': 'прочность грузов |\\n',\n",
       "  '_uid': 'bbox_a64a23bc-7aa9-11eb-a429-0242c0a88002',\n",
       "  'color': '#f0f',\n",
       "  'bbox': {'line_num': 6,\n",
       "   'original_image': 'img_1614615445_669.pdf_000002.png',\n",
       "   '_uid': 'bbox_a64a23bc-7aa9-11eb-a429-0242c0a88002',\n",
       "   'label': None,\n",
       "   'page_num': 2,\n",
       "   'text': 'прочность грузов |\\n',\n",
       "   'uid': 'bbox_a64a23bc-7aa9-11eb-a429-0242c0a88002',\n",
       "   'bbox': {'height': 33,\n",
       "    'x_top_left': 251,\n",
       "    'width': 1317,\n",
       "    'y_top_left': 380}}},\n",
       " 'default_label': 'raw_text'}"
      ]
     },
     "execution_count": 5,
     "metadata": {},
     "output_type": "execute_result"
    }
   ],
   "source": [
    "labeled_all['0']"
   ]
  },
  {
   "cell_type": "code",
   "execution_count": 7,
   "metadata": {},
   "outputs": [],
   "source": [
    "labeled = {}\n",
    "for key, value in labeled_all.items():\n",
    "    if value[\"data\"][\"original_document\"].endswith(\".docx\"):\n",
    "        labeled[key] = value"
   ]
  },
  {
   "cell_type": "code",
   "execution_count": 8,
   "metadata": {},
   "outputs": [
    {
     "data": {
      "text/plain": [
       "6647"
      ]
     },
     "execution_count": 8,
     "metadata": {},
     "output_type": "execute_result"
    }
   ],
   "source": [
    "len(labeled_all)"
   ]
  },
  {
   "cell_type": "code",
   "execution_count": 9,
   "metadata": {},
   "outputs": [
    {
     "data": {
      "text/plain": [
       "1393"
      ]
     },
     "execution_count": 9,
     "metadata": {},
     "output_type": "execute_result"
    }
   ],
   "source": [
    "len(labeled)"
   ]
  },
  {
   "cell_type": "code",
   "execution_count": 13,
   "metadata": {},
   "outputs": [
    {
     "data": {
      "text/plain": [
       "('185',\n",
       " {'id': 185,\n",
       "  'task_path': 'images/000032_000000_img_bbox_28e466087d8f9f2c796a7f3674bf97d5_afe029eb67c4335e35a37f3bdc7a7a3f.jpg',\n",
       "  'labeled': ['title'],\n",
       "  'data': {'original_document': '1614615210_93.docx',\n",
       "   '_metadata': {'paragraph_type': 'root',\n",
       "    'predicted_classes': None,\n",
       "    'page_id': 0,\n",
       "    'line_id': 2},\n",
       "   '_hierarchy_level': {'paragraph_type': 'root',\n",
       "    'level_1': 0,\n",
       "    'can_be_multiline': True,\n",
       "    'level_2': 0},\n",
       "   '_annotations': [{'name': 'indentation',\n",
       "     'value': '0',\n",
       "     'start': 0,\n",
       "     'end': 13},\n",
       "    {'name': 'alignment', 'value': 'center', 'start': 0, 'end': 13},\n",
       "    {'name': 'size', 'value': '12.0', 'start': 0, 'end': 13},\n",
       "    {'name': 'style', 'value': 'normal', 'start': 0, 'end': 13}],\n",
       "   '_line': ' Приложение 1\\n',\n",
       "   '_uid': '28e466087d8f9f2c796a7f3674bf97d5_afe029eb67c4335e35a37f3bdc7a7a3f',\n",
       "   'color': '#f00'},\n",
       "  'default_label': 'title'})"
      ]
     },
     "execution_count": 13,
     "metadata": {},
     "output_type": "execute_result"
    }
   ],
   "source": [
    "list(labeled.items())[0]"
   ]
  },
  {
   "cell_type": "code",
   "execution_count": 14,
   "metadata": {},
   "outputs": [],
   "source": [
    "with open('labeled_tz.json', 'w') as outfile:\n",
    "    json.dump(labeled, outfile)"
   ]
  },
  {
   "cell_type": "code",
   "execution_count": null,
   "metadata": {},
   "outputs": [],
   "source": []
  }
 ],
 "metadata": {
  "kernelspec": {
   "display_name": "Python 3",
   "language": "python",
   "name": "python3"
  },
  "language_info": {
   "codemirror_mode": {
    "name": "ipython",
    "version": 3
   },
   "file_extension": ".py",
   "mimetype": "text/x-python",
   "name": "python",
   "nbconvert_exporter": "python",
   "pygments_lexer": "ipython3",
   "version": "3.8.5"
  }
 },
 "nbformat": 4,
 "nbformat_minor": 4
}
