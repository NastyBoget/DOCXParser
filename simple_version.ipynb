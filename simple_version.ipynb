{
 "cells": [
  {
   "cell_type": "code",
   "execution_count": 2,
   "metadata": {},
   "outputs": [],
   "source": [
    "import zipfile\n",
    "from bs4 import BeautifulSoup\n",
    "import os\n",
    "import sys"
   ]
  },
  {
   "cell_type": "code",
   "execution_count": 30,
   "metadata": {},
   "outputs": [],
   "source": [
    "d = zipfile.ZipFile(\"examples/train_examples/2.docx\")"
   ]
  },
  {
   "cell_type": "code",
   "execution_count": 31,
   "metadata": {},
   "outputs": [],
   "source": [
    "xml = d.read('word/document.xml')"
   ]
  },
  {
   "cell_type": "code",
   "execution_count": 36,
   "metadata": {},
   "outputs": [],
   "source": [
    "bs = BeautifulSoup(xml, 'xml')"
   ]
  },
  {
   "cell_type": "code",
   "execution_count": 37,
   "metadata": {},
   "outputs": [],
   "source": [
    "val = \"ff2ad9\"\n",
    "color_bs = BeautifulSoup(f'<w:color w:val={val}/>').body.contents[0]\n",
    "\n",
    "# if bs.body.p.pPr.rPr.color:\n",
    "#     bs.body.p.pPr.rPr.color['w:val'] = val\n",
    "# else:\n",
    "#     new_tag = bs.new_tag('color')\n",
    "#     bs.body.p.pPr.rPr.insert(1, new_tag)\n",
    "#     bs.body.p.pPr.rPr.color['w:val'] = val\n",
    "#     print(bs.body.p.pPr)\n",
    "for r in bs.body.p:\n",
    "#     if r.name == 'r':\n",
    "    if r.rPr: \n",
    "        if r.rPr.color:\n",
    "            r.rPr.color['w:val'] = val\n",
    "        else:\n",
    "            new_tag = bs.new_tag('color')\n",
    "            r.rPr.insert(1, new_tag)\n",
    "            r.rPr.color['w:val'] = val"
   ]
  },
  {
   "cell_type": "code",
   "execution_count": 38,
   "metadata": {},
   "outputs": [
    {
     "data": {
      "text/plain": [
       "<w:p><w:pPr><w:pStyle w:val=\"Normal\"/><w:rPr><w:b/><color w:val=\"ff2ad9\"/><w:b/><w:bCs/><w:sz w:val=\"36\"/><w:szCs w:val=\"36\"/></w:rPr></w:pPr><w:r><w:rPr><w:b/><color w:val=\"ff2ad9\"/><w:bCs/><w:sz w:val=\"36\"/><w:szCs w:val=\"36\"/></w:rPr><w:t>Пример документа</w:t></w:r></w:p>"
      ]
     },
     "execution_count": 38,
     "metadata": {},
     "output_type": "execute_result"
    }
   ],
   "source": [
    "bs.body.p"
   ]
  },
  {
   "cell_type": "code",
   "execution_count": 39,
   "metadata": {},
   "outputs": [
    {
     "data": {
      "text/plain": [
       "['_rels/.rels',\n",
       " 'docProps/app.xml',\n",
       " 'docProps/core.xml',\n",
       " 'word/_rels/document.xml.rels',\n",
       " 'word/settings.xml',\n",
       " 'word/fontTable.xml',\n",
       " 'word/document.xml',\n",
       " 'word/styles.xml',\n",
       " '[Content_Types].xml']"
      ]
     },
     "execution_count": 39,
     "metadata": {},
     "output_type": "execute_result"
    }
   ],
   "source": [
    "namelist = d.namelist()\n",
    "namelist"
   ]
  },
  {
   "cell_type": "code",
   "execution_count": 40,
   "metadata": {},
   "outputs": [],
   "source": [
    "d.extractall('examples/train_examples/tmp')"
   ]
  },
  {
   "cell_type": "code",
   "execution_count": 41,
   "metadata": {},
   "outputs": [
    {
     "data": {
      "text/plain": [
       "'<?xml version=\"1.0\" encoding=\"utf-8\"?>\\n<w:document mc:Ignorable=\"w14 wp14\" xmlns:mc=\"http://schemas.openxmlformats.org/markup-compatibility/2006\" xmlns:o=\"urn:schemas-microsoft-com:office:office\" xmlns:r=\"http://schemas.openxmlformats.org/officeDocument/2006/relationships\" xmlns:v=\"urn:schemas-microsoft-com:vml\" xmlns:w=\"http://schemas.openxmlformats.org/wordprocessingml/2006/main\" xmlns:w10=\"urn:schemas-microsoft-com:office:word\" xmlns:w14=\"http://schemas.microsoft.com/office/word/2010/wordml\" xmlns:wp=\"http://schemas.openxmlformats.org/drawingml/2006/wordprocessingDrawing\" xmlns:wp14=\"http://schemas.microsoft.com/office/word/2010/wordprocessingDrawing\" xmlns:wpg=\"http://schemas.microsoft.com/office/word/2010/wordprocessingGroup\" xmlns:wps=\"http://schemas.microsoft.com/office/word/2010/wordprocessingShape\"><w:body><w:p><w:pPr><w:pStyle w:val=\"Normal\"/><w:rPr><w:b/><color w:val=\"ff2ad9\"/><w:b/><w:bCs/><w:sz w:val=\"36\"/><w:szCs w:val=\"36\"/></w:rPr></w:pPr><w:r><w:rPr><w:b/><color w:val=\"ff2ad9\"/><w:bCs/><w:sz w:val=\"36\"/><w:szCs w:val=\"36\"/></w:rPr><w:t>Пример документа</w:t></w:r></w:p><w:p><w:pPr><w:pStyle w:val=\"Normal\"/><w:rPr><w:b/><w:b/><w:bCs/><w:sz w:val=\"32\"/><w:szCs w:val=\"32\"/></w:rPr></w:pPr><w:r><w:rPr><w:b/><w:bCs/><w:sz w:val=\"32\"/><w:szCs w:val=\"32\"/></w:rPr><w:t>Глава 1</w:t></w:r></w:p><w:p><w:pPr><w:pStyle w:val=\"Normal\"/><w:rPr><w:b w:val=\"false\"/><w:b w:val=\"false\"/><w:bCs w:val=\"false\"/><w:sz w:val=\"24\"/><w:szCs w:val=\"24\"/></w:rPr></w:pPr><w:r><w:rPr><w:b w:val=\"false\"/><w:bCs w:val=\"false\"/><w:sz w:val=\"24\"/><w:szCs w:val=\"24\"/></w:rPr><w:t>Какие то определения</w:t></w:r></w:p><w:p><w:pPr><w:pStyle w:val=\"Normal\"/><w:rPr><w:b/><w:b/><w:bCs/><w:sz w:val=\"24\"/><w:szCs w:val=\"24\"/></w:rPr></w:pPr><w:r><w:rPr><w:b/><w:bCs/><w:sz w:val=\"24\"/><w:szCs w:val=\"24\"/></w:rPr><w:t>Статья 1</w:t></w:r></w:p><w:p><w:pPr><w:pStyle w:val=\"Normal\"/><w:rPr><w:b w:val=\"false\"/><w:b w:val=\"false\"/><w:bCs w:val=\"false\"/><w:sz w:val=\"24\"/><w:szCs w:val=\"24\"/></w:rPr></w:pPr><w:r><w:rPr><w:b w:val=\"false\"/><w:bCs w:val=\"false\"/><w:sz w:val=\"24\"/><w:szCs w:val=\"24\"/></w:rPr><w:t>Определим опрделения</w:t></w:r></w:p><w:p><w:pPr><w:pStyle w:val=\"Normal\"/><w:rPr><w:b/><w:b/><w:bCs/><w:sz w:val=\"24\"/><w:szCs w:val=\"24\"/></w:rPr></w:pPr><w:r><w:rPr><w:b/><w:bCs/><w:sz w:val=\"24\"/><w:szCs w:val=\"24\"/></w:rPr><w:t>Статья 2</w:t></w:r></w:p><w:p><w:pPr><w:pStyle w:val=\"Normal\"/><w:rPr><w:b w:val=\"false\"/><w:b w:val=\"false\"/><w:bCs w:val=\"false\"/><w:sz w:val=\"24\"/><w:szCs w:val=\"24\"/></w:rPr></w:pPr><w:r><w:rPr><w:b w:val=\"false\"/><w:bCs w:val=\"false\"/><w:sz w:val=\"24\"/><w:szCs w:val=\"24\"/></w:rPr><w:t>Дадим пояснения</w:t></w:r></w:p><w:p><w:pPr><w:pStyle w:val=\"Normal\"/><w:rPr><w:b w:val=\"false\"/><w:b w:val=\"false\"/><w:bCs w:val=\"false\"/><w:sz w:val=\"24\"/><w:szCs w:val=\"24\"/></w:rPr></w:pPr><w:r><w:rPr><w:b w:val=\"false\"/><w:bCs w:val=\"false\"/><w:sz w:val=\"24\"/><w:szCs w:val=\"24\"/></w:rPr><w:t>1.2.1. Поясним за непонятное</w:t></w:r></w:p><w:p><w:pPr><w:pStyle w:val=\"Normal\"/><w:rPr><w:b w:val=\"false\"/><w:b w:val=\"false\"/><w:bCs w:val=\"false\"/><w:sz w:val=\"24\"/><w:szCs w:val=\"24\"/></w:rPr></w:pPr><w:r><w:rPr><w:b w:val=\"false\"/><w:bCs w:val=\"false\"/><w:sz w:val=\"24\"/><w:szCs w:val=\"24\"/></w:rPr><w:t>1.2.2. Поясним за понятное</w:t></w:r></w:p><w:p><w:pPr><w:pStyle w:val=\"Normal\"/><w:rPr><w:b w:val=\"false\"/><w:b w:val=\"false\"/><w:bCs w:val=\"false\"/><w:sz w:val=\"24\"/><w:szCs w:val=\"24\"/></w:rPr></w:pPr><w:r><w:rPr><w:b w:val=\"false\"/><w:bCs w:val=\"false\"/><w:sz w:val=\"24\"/><w:szCs w:val=\"24\"/></w:rPr><w:tab/><w:t>а) это даже ежу понятно</w:t></w:r></w:p><w:p><w:pPr><w:pStyle w:val=\"Normal\"/><w:rPr><w:b w:val=\"false\"/><w:b w:val=\"false\"/><w:bCs w:val=\"false\"/><w:sz w:val=\"24\"/><w:szCs w:val=\"24\"/></w:rPr></w:pPr><w:r><w:rPr><w:b w:val=\"false\"/><w:bCs w:val=\"false\"/><w:sz w:val=\"24\"/><w:szCs w:val=\"24\"/></w:rPr><w:tab/><w:t>б) это ежу не понятно</w:t></w:r></w:p><w:p><w:pPr><w:pStyle w:val=\"Normal\"/><w:rPr/></w:pPr><w:r><w:rPr><w:b w:val=\"false\"/><w:bCs w:val=\"false\"/><w:sz w:val=\"24\"/><w:szCs w:val=\"24\"/></w:rPr><w:t>1.2.3.</w:t></w:r></w:p><w:p><w:pPr><w:pStyle w:val=\"Normal\"/><w:rPr><w:b w:val=\"false\"/><w:b w:val=\"false\"/><w:bCs w:val=\"false\"/><w:sz w:val=\"24\"/><w:szCs w:val=\"24\"/></w:rPr></w:pPr><w:r><w:rPr><w:b w:val=\"false\"/><w:bCs w:val=\"false\"/><w:sz w:val=\"24\"/><w:szCs w:val=\"24\"/></w:rPr></w:r></w:p><w:tbl><w:tblPr><w:tblW w:type=\"dxa\" w:w=\"9638\"/><w:jc w:val=\"left\"/><w:tblInd w:type=\"dxa\" w:w=\"0\"/><w:tblBorders><w:top w:color=\"000000\" w:space=\"0\" w:sz=\"2\" w:val=\"single\"/><w:left w:color=\"000000\" w:space=\"0\" w:sz=\"2\" w:val=\"single\"/><w:bottom w:color=\"000000\" w:space=\"0\" w:sz=\"2\" w:val=\"single\"/><w:insideH w:color=\"000000\" w:space=\"0\" w:sz=\"2\" w:val=\"single\"/></w:tblBorders><w:tblCellMar><w:top w:type=\"dxa\" w:w=\"55\"/><w:left w:type=\"dxa\" w:w=\"53\"/><w:bottom w:type=\"dxa\" w:w=\"55\"/><w:right w:type=\"dxa\" w:w=\"55\"/></w:tblCellMar></w:tblPr><w:tblGrid><w:gridCol w:w=\"1606\"/><w:gridCol w:w=\"1606\"/><w:gridCol w:w=\"1606\"/><w:gridCol w:w=\"1605\"/><w:gridCol w:w=\"1606\"/><w:gridCol w:w=\"1608\"/></w:tblGrid><w:tr><w:trPr/><w:tc><w:tcPr><w:tcW w:type=\"dxa\" w:w=\"1606\"/><w:tcBorders><w:top w:color=\"000000\" w:space=\"0\" w:sz=\"2\" w:val=\"single\"/><w:left w:color=\"000000\" w:space=\"0\" w:sz=\"2\" w:val=\"single\"/><w:bottom w:color=\"000000\" w:space=\"0\" w:sz=\"2\" w:val=\"single\"/><w:insideH w:color=\"000000\" w:space=\"0\" w:sz=\"2\" w:val=\"single\"/></w:tcBorders><w:shd w:fill=\"auto\" w:val=\"clear\"/></w:tcPr><w:p><w:pPr><w:pStyle w:val=\"TableContents\"/><w:rPr/></w:pPr><w:r><w:rPr/><w:t>N</w:t></w:r></w:p></w:tc><w:tc><w:tcPr><w:tcW w:type=\"dxa\" w:w=\"1606\"/><w:tcBorders><w:top w:color=\"000000\" w:space=\"0\" w:sz=\"2\" w:val=\"single\"/><w:left w:color=\"000000\" w:space=\"0\" w:sz=\"2\" w:val=\"single\"/><w:bottom w:color=\"000000\" w:space=\"0\" w:sz=\"2\" w:val=\"single\"/><w:insideH w:color=\"000000\" w:space=\"0\" w:sz=\"2\" w:val=\"single\"/></w:tcBorders><w:shd w:fill=\"auto\" w:val=\"clear\"/></w:tcPr><w:p><w:pPr><w:pStyle w:val=\"TableContents\"/><w:rPr/></w:pPr><w:r><w:rPr/><w:t>Фамилия</w:t></w:r></w:p></w:tc><w:tc><w:tcPr><w:tcW w:type=\"dxa\" w:w=\"1606\"/><w:tcBorders><w:top w:color=\"000000\" w:space=\"0\" w:sz=\"2\" w:val=\"single\"/><w:left w:color=\"000000\" w:space=\"0\" w:sz=\"2\" w:val=\"single\"/><w:bottom w:color=\"000000\" w:space=\"0\" w:sz=\"2\" w:val=\"single\"/><w:insideH w:color=\"000000\" w:space=\"0\" w:sz=\"2\" w:val=\"single\"/></w:tcBorders><w:shd w:fill=\"auto\" w:val=\"clear\"/></w:tcPr><w:p><w:pPr><w:pStyle w:val=\"TableContents\"/><w:rPr/></w:pPr><w:r><w:rPr/><w:t>Имя</w:t></w:r></w:p></w:tc><w:tc><w:tcPr><w:tcW w:type=\"dxa\" w:w=\"1605\"/><w:tcBorders><w:top w:color=\"000000\" w:space=\"0\" w:sz=\"2\" w:val=\"single\"/><w:left w:color=\"000000\" w:space=\"0\" w:sz=\"2\" w:val=\"single\"/><w:bottom w:color=\"000000\" w:space=\"0\" w:sz=\"2\" w:val=\"single\"/><w:insideH w:color=\"000000\" w:space=\"0\" w:sz=\"2\" w:val=\"single\"/></w:tcBorders><w:shd w:fill=\"auto\" w:val=\"clear\"/></w:tcPr><w:p><w:pPr><w:pStyle w:val=\"TableContents\"/><w:rPr/></w:pPr><w:r><w:rPr/><w:t>Организация</w:t></w:r></w:p></w:tc><w:tc><w:tcPr><w:tcW w:type=\"dxa\" w:w=\"1606\"/><w:tcBorders><w:top w:color=\"000000\" w:space=\"0\" w:sz=\"2\" w:val=\"single\"/><w:left w:color=\"000000\" w:space=\"0\" w:sz=\"2\" w:val=\"single\"/><w:bottom w:color=\"000000\" w:space=\"0\" w:sz=\"2\" w:val=\"single\"/><w:insideH w:color=\"000000\" w:space=\"0\" w:sz=\"2\" w:val=\"single\"/></w:tcBorders><w:shd w:fill=\"auto\" w:val=\"clear\"/></w:tcPr><w:p><w:pPr><w:pStyle w:val=\"TableContents\"/><w:rPr/></w:pPr><w:r><w:rPr/><w:t>Телефон</w:t></w:r></w:p></w:tc><w:tc><w:tcPr><w:tcW w:type=\"dxa\" w:w=\"1608\"/><w:tcBorders><w:top w:color=\"000000\" w:space=\"0\" w:sz=\"2\" w:val=\"single\"/><w:left w:color=\"000000\" w:space=\"0\" w:sz=\"2\" w:val=\"single\"/><w:bottom w:color=\"000000\" w:space=\"0\" w:sz=\"2\" w:val=\"single\"/><w:right w:color=\"000000\" w:space=\"0\" w:sz=\"2\" w:val=\"single\"/><w:insideH w:color=\"000000\" w:space=\"0\" w:sz=\"2\" w:val=\"single\"/><w:insideV w:color=\"000000\" w:space=\"0\" w:sz=\"2\" w:val=\"single\"/></w:tcBorders><w:shd w:fill=\"auto\" w:val=\"clear\"/></w:tcPr><w:p><w:pPr><w:pStyle w:val=\"TableContents\"/><w:rPr/></w:pPr><w:r><w:rPr/><w:t>Примечания</w:t></w:r></w:p></w:tc></w:tr><w:tr><w:trPr/><w:tc><w:tcPr><w:tcW w:type=\"dxa\" w:w=\"1606\"/><w:tcBorders><w:top w:color=\"000000\" w:space=\"0\" w:sz=\"2\" w:val=\"single\"/><w:left w:color=\"000000\" w:space=\"0\" w:sz=\"2\" w:val=\"single\"/><w:bottom w:color=\"000000\" w:space=\"0\" w:sz=\"2\" w:val=\"single\"/><w:insideH w:color=\"000000\" w:space=\"0\" w:sz=\"2\" w:val=\"single\"/></w:tcBorders><w:shd w:fill=\"auto\" w:val=\"clear\"/></w:tcPr><w:p><w:pPr><w:pStyle w:val=\"TableContents\"/><w:rPr/></w:pPr><w:r><w:rPr/><w:t>1</w:t></w:r></w:p></w:tc><w:tc><w:tcPr><w:tcW w:type=\"dxa\" w:w=\"1606\"/><w:tcBorders><w:top w:color=\"000000\" w:space=\"0\" w:sz=\"2\" w:val=\"single\"/><w:left w:color=\"000000\" w:space=\"0\" w:sz=\"2\" w:val=\"single\"/><w:bottom w:color=\"000000\" w:space=\"0\" w:sz=\"2\" w:val=\"single\"/><w:insideH w:color=\"000000\" w:space=\"0\" w:sz=\"2\" w:val=\"single\"/></w:tcBorders><w:shd w:fill=\"auto\" w:val=\"clear\"/></w:tcPr><w:p><w:pPr><w:pStyle w:val=\"TableContents\"/><w:rPr/></w:pPr><w:r><w:rPr/><w:t>Иванов</w:t></w:r></w:p></w:tc><w:tc><w:tcPr><w:tcW w:type=\"dxa\" w:w=\"1606\"/><w:tcBorders><w:top w:color=\"000000\" w:space=\"0\" w:sz=\"2\" w:val=\"single\"/><w:left w:color=\"000000\" w:space=\"0\" w:sz=\"2\" w:val=\"single\"/><w:bottom w:color=\"000000\" w:space=\"0\" w:sz=\"2\" w:val=\"single\"/><w:insideH w:color=\"000000\" w:space=\"0\" w:sz=\"2\" w:val=\"single\"/></w:tcBorders><w:shd w:fill=\"auto\" w:val=\"clear\"/></w:tcPr><w:p><w:pPr><w:pStyle w:val=\"TableContents\"/><w:rPr/></w:pPr><w:r><w:rPr/><w:t>Иван</w:t></w:r></w:p></w:tc><w:tc><w:tcPr><w:tcW w:type=\"dxa\" w:w=\"1605\"/><w:tcBorders><w:top w:color=\"000000\" w:space=\"0\" w:sz=\"2\" w:val=\"single\"/><w:left w:color=\"000000\" w:space=\"0\" w:sz=\"2\" w:val=\"single\"/><w:bottom w:color=\"000000\" w:space=\"0\" w:sz=\"2\" w:val=\"single\"/><w:insideH w:color=\"000000\" w:space=\"0\" w:sz=\"2\" w:val=\"single\"/></w:tcBorders><w:shd w:fill=\"auto\" w:val=\"clear\"/></w:tcPr><w:p><w:pPr><w:pStyle w:val=\"TableContents\"/><w:rPr/></w:pPr><w:r><w:rPr/><w:t>ИСП</w:t></w:r></w:p></w:tc><w:tc><w:tcPr><w:tcW w:type=\"dxa\" w:w=\"1606\"/><w:tcBorders><w:top w:color=\"000000\" w:space=\"0\" w:sz=\"2\" w:val=\"single\"/><w:left w:color=\"000000\" w:space=\"0\" w:sz=\"2\" w:val=\"single\"/><w:bottom w:color=\"000000\" w:space=\"0\" w:sz=\"2\" w:val=\"single\"/><w:insideH w:color=\"000000\" w:space=\"0\" w:sz=\"2\" w:val=\"single\"/></w:tcBorders><w:shd w:fill=\"auto\" w:val=\"clear\"/></w:tcPr><w:p><w:pPr><w:pStyle w:val=\"TableContents\"/><w:rPr/></w:pPr><w:r><w:rPr/><w:t>8-800</w:t></w:r></w:p></w:tc><w:tc><w:tcPr><w:tcW w:type=\"dxa\" w:w=\"1608\"/><w:tcBorders><w:top w:color=\"000000\" w:space=\"0\" w:sz=\"2\" w:val=\"single\"/><w:left w:color=\"000000\" w:space=\"0\" w:sz=\"2\" w:val=\"single\"/><w:bottom w:color=\"000000\" w:space=\"0\" w:sz=\"2\" w:val=\"single\"/><w:right w:color=\"000000\" w:space=\"0\" w:sz=\"2\" w:val=\"single\"/><w:insideH w:color=\"000000\" w:space=\"0\" w:sz=\"2\" w:val=\"single\"/><w:insideV w:color=\"000000\" w:space=\"0\" w:sz=\"2\" w:val=\"single\"/></w:tcBorders><w:shd w:fill=\"auto\" w:val=\"clear\"/></w:tcPr><w:p><w:pPr><w:pStyle w:val=\"TableContents\"/><w:rPr/></w:pPr><w:r><w:rPr/></w:r></w:p></w:tc></w:tr></w:tbl><w:p><w:pPr><w:pStyle w:val=\"Normal\"/><w:rPr><w:b w:val=\"false\"/><w:b w:val=\"false\"/><w:bCs w:val=\"false\"/><w:sz w:val=\"24\"/><w:szCs w:val=\"24\"/></w:rPr></w:pPr><w:r><w:rPr><w:b w:val=\"false\"/><w:bCs w:val=\"false\"/><w:sz w:val=\"24\"/><w:szCs w:val=\"24\"/></w:rPr></w:r></w:p><w:p><w:pPr><w:pStyle w:val=\"Normal\"/><w:rPr><w:b w:val=\"false\"/><w:b w:val=\"false\"/><w:bCs w:val=\"false\"/><w:sz w:val=\"24\"/><w:szCs w:val=\"24\"/></w:rPr></w:pPr><w:r><w:rPr><w:b w:val=\"false\"/><w:bCs w:val=\"false\"/><w:sz w:val=\"24\"/><w:szCs w:val=\"24\"/></w:rPr></w:r></w:p><w:tbl><w:tblPr><w:tblW w:type=\"dxa\" w:w=\"9638\"/><w:jc w:val=\"left\"/><w:tblInd w:type=\"dxa\" w:w=\"0\"/><w:tblBorders><w:top w:color=\"000000\" w:space=\"0\" w:sz=\"2\" w:val=\"single\"/><w:left w:color=\"000000\" w:space=\"0\" w:sz=\"2\" w:val=\"single\"/><w:bottom w:color=\"000000\" w:space=\"0\" w:sz=\"2\" w:val=\"single\"/><w:insideH w:color=\"000000\" w:space=\"0\" w:sz=\"2\" w:val=\"single\"/></w:tblBorders><w:tblCellMar><w:top w:type=\"dxa\" w:w=\"55\"/><w:left w:type=\"dxa\" w:w=\"53\"/><w:bottom w:type=\"dxa\" w:w=\"55\"/><w:right w:type=\"dxa\" w:w=\"55\"/></w:tblCellMar></w:tblPr><w:tblGrid><w:gridCol w:w=\"3212\"/><w:gridCol w:w=\"3213\"/><w:gridCol w:w=\"3213\"/></w:tblGrid><w:tr><w:trPr/><w:tc><w:tcPr><w:tcW w:type=\"dxa\" w:w=\"3212\"/><w:tcBorders><w:top w:color=\"000000\" w:space=\"0\" w:sz=\"2\" w:val=\"single\"/><w:left w:color=\"000000\" w:space=\"0\" w:sz=\"2\" w:val=\"single\"/><w:bottom w:color=\"000000\" w:space=\"0\" w:sz=\"2\" w:val=\"single\"/><w:insideH w:color=\"000000\" w:space=\"0\" w:sz=\"2\" w:val=\"single\"/></w:tcBorders><w:shd w:fill=\"auto\" w:val=\"clear\"/></w:tcPr><w:p><w:pPr><w:pStyle w:val=\"TableContents\"/><w:rPr/></w:pPr><w:r><w:rPr/><w:t>Фамилия</w:t></w:r></w:p></w:tc><w:tc><w:tcPr><w:tcW w:type=\"dxa\" w:w=\"3213\"/><w:tcBorders><w:top w:color=\"000000\" w:space=\"0\" w:sz=\"2\" w:val=\"single\"/><w:left w:color=\"000000\" w:space=\"0\" w:sz=\"2\" w:val=\"single\"/><w:bottom w:color=\"000000\" w:space=\"0\" w:sz=\"2\" w:val=\"single\"/><w:insideH w:color=\"000000\" w:space=\"0\" w:sz=\"2\" w:val=\"single\"/></w:tcBorders><w:shd w:fill=\"auto\" w:val=\"clear\"/></w:tcPr><w:p><w:pPr><w:pStyle w:val=\"TableContents\"/><w:rPr/></w:pPr><w:r><w:rPr/><w:t>Имя</w:t></w:r></w:p></w:tc><w:tc><w:tcPr><w:tcW w:type=\"dxa\" w:w=\"3213\"/><w:tcBorders><w:top w:color=\"000000\" w:space=\"0\" w:sz=\"2\" w:val=\"single\"/><w:left w:color=\"000000\" w:space=\"0\" w:sz=\"2\" w:val=\"single\"/><w:bottom w:color=\"000000\" w:space=\"0\" w:sz=\"2\" w:val=\"single\"/><w:right w:color=\"000000\" w:space=\"0\" w:sz=\"2\" w:val=\"single\"/><w:insideH w:color=\"000000\" w:space=\"0\" w:sz=\"2\" w:val=\"single\"/><w:insideV w:color=\"000000\" w:space=\"0\" w:sz=\"2\" w:val=\"single\"/></w:tcBorders><w:shd w:fill=\"auto\" w:val=\"clear\"/></w:tcPr><w:p><w:pPr><w:pStyle w:val=\"TableContents\"/><w:rPr/></w:pPr><w:r><w:rPr/><w:t>Отчество</w:t></w:r></w:p></w:tc></w:tr><w:tr><w:trPr/><w:tc><w:tcPr><w:tcW w:type=\"dxa\" w:w=\"3212\"/><w:tcBorders><w:top w:color=\"000000\" w:space=\"0\" w:sz=\"2\" w:val=\"single\"/><w:left w:color=\"000000\" w:space=\"0\" w:sz=\"2\" w:val=\"single\"/><w:bottom w:color=\"000000\" w:space=\"0\" w:sz=\"2\" w:val=\"single\"/><w:insideH w:color=\"000000\" w:space=\"0\" w:sz=\"2\" w:val=\"single\"/></w:tcBorders><w:shd w:fill=\"auto\" w:val=\"clear\"/></w:tcPr><w:p><w:pPr><w:pStyle w:val=\"TableContents\"/><w:rPr/></w:pPr><w:r><w:rPr/><w:t>Иванов</w:t></w:r></w:p></w:tc><w:tc><w:tcPr><w:tcW w:type=\"dxa\" w:w=\"3213\"/><w:tcBorders><w:top w:color=\"000000\" w:space=\"0\" w:sz=\"2\" w:val=\"single\"/><w:left w:color=\"000000\" w:space=\"0\" w:sz=\"2\" w:val=\"single\"/><w:bottom w:color=\"000000\" w:space=\"0\" w:sz=\"2\" w:val=\"single\"/><w:insideH w:color=\"000000\" w:space=\"0\" w:sz=\"2\" w:val=\"single\"/></w:tcBorders><w:shd w:fill=\"auto\" w:val=\"clear\"/></w:tcPr><w:p><w:pPr><w:pStyle w:val=\"TableContents\"/><w:rPr/></w:pPr><w:r><w:rPr/><w:t>Иван</w:t></w:r></w:p></w:tc><w:tc><w:tcPr><w:tcW w:type=\"dxa\" w:w=\"3213\"/><w:tcBorders><w:top w:color=\"000000\" w:space=\"0\" w:sz=\"2\" w:val=\"single\"/><w:left w:color=\"000000\" w:space=\"0\" w:sz=\"2\" w:val=\"single\"/><w:bottom w:color=\"000000\" w:space=\"0\" w:sz=\"2\" w:val=\"single\"/><w:right w:color=\"000000\" w:space=\"0\" w:sz=\"2\" w:val=\"single\"/><w:insideH w:color=\"000000\" w:space=\"0\" w:sz=\"2\" w:val=\"single\"/><w:insideV w:color=\"000000\" w:space=\"0\" w:sz=\"2\" w:val=\"single\"/></w:tcBorders><w:shd w:fill=\"auto\" w:val=\"clear\"/></w:tcPr><w:p><w:pPr><w:pStyle w:val=\"TableContents\"/><w:rPr/></w:pPr><w:r><w:rPr/><w:t>Иванович</w:t></w:r></w:p></w:tc></w:tr><w:tr><w:trPr/><w:tc><w:tcPr><w:tcW w:type=\"dxa\" w:w=\"3212\"/><w:tcBorders><w:top w:color=\"000000\" w:space=\"0\" w:sz=\"2\" w:val=\"single\"/><w:left w:color=\"000000\" w:space=\"0\" w:sz=\"2\" w:val=\"single\"/><w:bottom w:color=\"000000\" w:space=\"0\" w:sz=\"2\" w:val=\"single\"/><w:insideH w:color=\"000000\" w:space=\"0\" w:sz=\"2\" w:val=\"single\"/></w:tcBorders><w:shd w:fill=\"auto\" w:val=\"clear\"/></w:tcPr><w:p><w:pPr><w:pStyle w:val=\"TableContents\"/><w:rPr/></w:pPr><w:r><w:rPr/><w:t>Петров</w:t></w:r></w:p></w:tc><w:tc><w:tcPr><w:tcW w:type=\"dxa\" w:w=\"3213\"/><w:tcBorders><w:top w:color=\"000000\" w:space=\"0\" w:sz=\"2\" w:val=\"single\"/><w:left w:color=\"000000\" w:space=\"0\" w:sz=\"2\" w:val=\"single\"/><w:bottom w:color=\"000000\" w:space=\"0\" w:sz=\"2\" w:val=\"single\"/><w:insideH w:color=\"000000\" w:space=\"0\" w:sz=\"2\" w:val=\"single\"/></w:tcBorders><w:shd w:fill=\"auto\" w:val=\"clear\"/></w:tcPr><w:p><w:pPr><w:pStyle w:val=\"TableContents\"/><w:rPr/></w:pPr><w:r><w:rPr/><w:t>Пётр</w:t></w:r></w:p></w:tc><w:tc><w:tcPr><w:tcW w:type=\"dxa\" w:w=\"3213\"/><w:tcBorders><w:top w:color=\"000000\" w:space=\"0\" w:sz=\"2\" w:val=\"single\"/><w:left w:color=\"000000\" w:space=\"0\" w:sz=\"2\" w:val=\"single\"/><w:bottom w:color=\"000000\" w:space=\"0\" w:sz=\"2\" w:val=\"single\"/><w:right w:color=\"000000\" w:space=\"0\" w:sz=\"2\" w:val=\"single\"/><w:insideH w:color=\"000000\" w:space=\"0\" w:sz=\"2\" w:val=\"single\"/><w:insideV w:color=\"000000\" w:space=\"0\" w:sz=\"2\" w:val=\"single\"/></w:tcBorders><w:shd w:fill=\"auto\" w:val=\"clear\"/></w:tcPr><w:p><w:pPr><w:pStyle w:val=\"TableContents\"/><w:rPr/></w:pPr><w:r><w:rPr/><w:t>Петрович</w:t></w:r></w:p></w:tc></w:tr><w:tr><w:trPr/><w:tc><w:tcPr><w:tcW w:type=\"dxa\" w:w=\"3212\"/><w:tcBorders><w:top w:color=\"000000\" w:space=\"0\" w:sz=\"2\" w:val=\"single\"/><w:left w:color=\"000000\" w:space=\"0\" w:sz=\"2\" w:val=\"single\"/><w:bottom w:color=\"000000\" w:space=\"0\" w:sz=\"2\" w:val=\"single\"/><w:insideH w:color=\"000000\" w:space=\"0\" w:sz=\"2\" w:val=\"single\"/></w:tcBorders><w:shd w:fill=\"auto\" w:val=\"clear\"/></w:tcPr><w:p><w:pPr><w:pStyle w:val=\"TableContents\"/><w:rPr/></w:pPr><w:r><w:rPr/><w:t>Сидоров</w:t></w:r></w:p></w:tc><w:tc><w:tcPr><w:tcW w:type=\"dxa\" w:w=\"3213\"/><w:tcBorders><w:top w:color=\"000000\" w:space=\"0\" w:sz=\"2\" w:val=\"single\"/><w:left w:color=\"000000\" w:space=\"0\" w:sz=\"2\" w:val=\"single\"/><w:bottom w:color=\"000000\" w:space=\"0\" w:sz=\"2\" w:val=\"single\"/><w:insideH w:color=\"000000\" w:space=\"0\" w:sz=\"2\" w:val=\"single\"/></w:tcBorders><w:shd w:fill=\"auto\" w:val=\"clear\"/></w:tcPr><w:p><w:pPr><w:pStyle w:val=\"TableContents\"/><w:rPr/></w:pPr><w:r><w:rPr/><w:t>Сидор</w:t></w:r></w:p></w:tc><w:tc><w:tcPr><w:tcW w:type=\"dxa\" w:w=\"3213\"/><w:tcBorders><w:top w:color=\"000000\" w:space=\"0\" w:sz=\"2\" w:val=\"single\"/><w:left w:color=\"000000\" w:space=\"0\" w:sz=\"2\" w:val=\"single\"/><w:bottom w:color=\"000000\" w:space=\"0\" w:sz=\"2\" w:val=\"single\"/><w:right w:color=\"000000\" w:space=\"0\" w:sz=\"2\" w:val=\"single\"/><w:insideH w:color=\"000000\" w:space=\"0\" w:sz=\"2\" w:val=\"single\"/><w:insideV w:color=\"000000\" w:space=\"0\" w:sz=\"2\" w:val=\"single\"/></w:tcBorders><w:shd w:fill=\"auto\" w:val=\"clear\"/></w:tcPr><w:p><w:pPr><w:pStyle w:val=\"TableContents\"/><w:rPr/></w:pPr><w:r><w:rPr/><w:t>Сидорович</w:t></w:r></w:p></w:tc></w:tr></w:tbl><w:p><w:pPr><w:pStyle w:val=\"Normal\"/><w:rPr/></w:pPr><w:r><w:rPr/></w:r></w:p><w:sectPr><w:type w:val=\"nextPage\"/><w:pgSz w:h=\"16838\" w:w=\"11906\"/><w:pgMar w:bottom=\"1134\" w:footer=\"0\" w:gutter=\"0\" w:header=\"0\" w:left=\"1134\" w:right=\"1134\" w:top=\"1134\"/><w:pgNumType w:fmt=\"decimal\"/><w:formProt w:val=\"false\"/><w:textDirection w:val=\"lrTb\"/><w:docGrid w:charSpace=\"0\" w:linePitch=\"100\" w:type=\"default\"/></w:sectPr></w:body></w:document>'"
      ]
     },
     "execution_count": 41,
     "metadata": {},
     "output_type": "execute_result"
    }
   ],
   "source": [
    "str(bs)"
   ]
  },
  {
   "cell_type": "code",
   "execution_count": null,
   "metadata": {},
   "outputs": [],
   "source": [
    "with open('examples/train_examples/tmp/word/document.xml', 'w') as f:\n",
    "    f.write(str(bs))"
   ]
  },
  {
   "cell_type": "code",
   "execution_count": null,
   "metadata": {},
   "outputs": [],
   "source": [
    "d1 = zipfile.ZipFile(\"examples/train_examples/0.docx\", mode='w')\n",
    "for filename in namelist:\n",
    "    d1.write(f'examples/train_examples/tmp/{filename}', arcname=filename)\n",
    "d1.close()"
   ]
  },
  {
   "cell_type": "code",
   "execution_count": null,
   "metadata": {},
   "outputs": [],
   "source": [
    "d2 = zipfile.ZipFile(\"examples/train_examples/0.docx\", mode='r')"
   ]
  },
  {
   "cell_type": "code",
   "execution_count": null,
   "metadata": {},
   "outputs": [],
   "source": [
    "d2.namelist()"
   ]
  },
  {
   "cell_type": "code",
   "execution_count": null,
   "metadata": {},
   "outputs": [],
   "source": [
    "d = zipfile.ZipFile(\"examples/train_examples/0.docx\")\n",
    "xml = d.read('word/document.xml')\n",
    "bs = BeautifulSoup(xml, 'xml')\n",
    "bs"
   ]
  },
  {
   "cell_type": "code",
   "execution_count": null,
   "metadata": {},
   "outputs": [],
   "source": []
  }
 ],
 "metadata": {
  "kernelspec": {
   "display_name": "Python 3",
   "language": "python",
   "name": "python3"
  },
  "language_info": {
   "codemirror_mode": {
    "name": "ipython",
    "version": 3
   },
   "file_extension": ".py",
   "mimetype": "text/x-python",
   "name": "python",
   "nbconvert_exporter": "python",
   "pygments_lexer": "ipython3",
   "version": "3.8.5"
  }
 },
 "nbformat": 4,
 "nbformat_minor": 4
}
