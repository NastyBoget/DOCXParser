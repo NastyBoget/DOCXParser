{
 "cells": [
  {
   "cell_type": "markdown",
   "metadata": {},
   "source": [
    "### Манифест\n",
    "\n",
    "Выделяется структура из текстовых документов.\n",
    "Необходимо для каждого параграфа документа определить его тип и уровень вложенности относительно всего документа. \n",
    "\n",
    "На вход последовательно подается список параграфов документа. Для каждого параграфа необходимо определить его тип: заголовок, список, текст или другое, а также пометить увеличивается ли уровень вложенности документа, не меняется или уменьшается, если уменьшается или увеличивается, то насколько.\n",
    "\n",
    "#### 1. Заголовок\n",
    "\n",
    "Заголовок всего документа обычно располагается в начале документа, подзаголовки, как правило, начинают новую главу, подглаву, секцию и т. д. Может располагаться по центру, выделяться жирным шрифтом, курсивом и т. д.\n",
    "\n",
    "#### 2. Список\n",
    "\n",
    "Пронумерованная (числами, буквами или специальными маркерами) последовательность строк. Начинается с нумерации и как правило, располагается рядом с аналогично пронумерованными строками.\n",
    "\n",
    "#### 3. Текст\n",
    "\n",
    "Все остальные строки, содержащие текст.\n",
    "\n",
    "#### Об уровнях вложенности\n",
    "\n",
    "Изначальный уровень вложенности документа - 0. То есть первый заголовок документа имеет вложенность 0, так же как и любой текст до этого заголовка. Текст, следующий после этого заголовка (относящийся к данному заголовку), имеет уровень вложенности, больший на 1. Элементы списков имеют уровень вложенности, зависящий от того, куда они вкладываются. Если список является частью текстового блока, то он имеет такой же уровень, как и этот текстовый блок. Если список вложен в другой список, то его уровень вложенности увеличивается на 1.\n",
    "\n",
    "При понижении уровня необходимо смотреть, продолжением какого списка или к заголовку какого уровня относится очередной параграф документа.\n",
    "\n",
    "Каждому параграфу нужно сопоставить два числа - номер типа параграфа (либо 0, если другое) и уровень вложенности"
   ]
  },
  {
   "cell_type": "markdown",
   "metadata": {},
   "source": [
    "* Идея для более удобной разметки: отображать docx документ на странице, выделяя строку, которую нужно пометить, цветом. Можно отображать рядом текст размеченных строк и их метки. После разметки целого документа добавить возможность переразметки. [(Может пригодиться)](https://www.cyberforum.ru/html/thread1762308.html)\n",
    "\n",
    "* корректность работы docx-парсера???\n",
    "\n",
    "* составление дерева на основе уровней и типов"
   ]
  },
  {
   "cell_type": "code",
   "execution_count": 84,
   "metadata": {},
   "outputs": [],
   "source": [
    "from document_parser import DOCXParser\n",
    "import os\n",
    "import json\n",
    "import docx\n",
    "import re\n",
    "import numpy as np\n",
    "import xgboost as xgb\n",
    "from sklearn.metrics import f1_score"
   ]
  },
  {
   "cell_type": "code",
   "execution_count": 50,
   "metadata": {},
   "outputs": [],
   "source": [
    "# document = docx.Document('examples/train_examples/0.docx')\n",
    "# document.paragraphs[0].runs[0].font.color.rgb = docx.shared.RGBColor(0xff, 0x99, 0xcc)"
   ]
  },
  {
   "cell_type": "code",
   "execution_count": 94,
   "metadata": {},
   "outputs": [
    {
     "name": "stdout",
     "output_type": "stream",
     "text": [
      "ДОГОВОР № ____________\n",
      "type: 1\n",
      "level: 0\n",
      "г. Санкт-Петербург                      \t                                                                            «___»____________2019 г. \n",
      "type: 3\n",
      "level: 1\n",
      "         ______________________, именуемое в дальнейшем «Поставщик», в лице _________________________, действующего на основании _____________, с одной стороны и\n",
      "type: 3\n",
      "level: 1\n",
      "ООО «СЗРЦ Концерна ВКО «Алмаз-Антей», именуемое в дальнейшем «Покупатель», в лице Первого заместителя генерального директора – заместителя генерального директора по экономике и финансам Волокитиной Ирины Николаевны, действующей на основании доверенности № б/н от 03.04.2019 г., удостоверенная Богдановой Н.А.-ВРИО нотариуса нотариального округа Санкт-Петербурга Фадиной Г.П., зарегистрировано в реестре за № 78/267-н/78-2019-2-1095, с другой стороны, (в дальнейшем именуемые Сторонами), заключили настоящий договор (далее – Договор) о нижеследующем:\n",
      "type: 3\n",
      "level: 1\n",
      "1. Предмет Договора\n",
      "type: 1\n",
      "level: 1\n",
      "1.1. Поставщик обязуется осуществить поставку и монтаж остановочных павильонов (далее-Товар) в комплектности и в количестве, указанном в Техническом задании (Приложение №1 к Договору), являющимся неотъемлемой частью Договора, по адресу: 192012, г. Санкт-Петербург, пр. Обуховской Обороны, д. 120., а  Покупатель  обязуется принять и оплатить  Товар  в  соответствии  с условиями  настоящего Договора.\n",
      "type: 2\n",
      "level: 2\n",
      "1.2. Поставка осуществляется по мере возникновения потребности у Покупателя по его письменным заявкам, которые направляются Поставщику на электронную почту manager@ok-group.biz, в которой указывается: наименование и количество Товара.\n",
      "type: 2\n",
      "level: 2\n",
      "1.3. Фактическое количество передаваемого Товара, его ассортимент и стоимость отдельной партии указываются в товарной накладной и счет-фактуре (или универсальном передаточном документе), которые должны содержать ссылку на номер и дату Договора.\n",
      "type: 2\n",
      "level: 2\n",
      "1.4. Поставка Товара и его монтаж осуществляются силами и за счет Поставщика.\n",
      "type: 2\n",
      "level: 2\n",
      "2. Цена Договора и порядок расчетов\n",
      "type: 1\n",
      "level: 1\n",
      "2.1. Цена Договора  _____________ (_______________) руб. ______ коп., в том числе НДС-20%   в размере _______________ руб. (далее - Цена Товара).\n",
      "type: 2\n",
      "level: 2\n",
      "В цену Товара включены все расходы Поставщика по доставке, упаковке, маркировке, погрузке-разгрузке, сборке, установке, монтажу, а также прочие расходы и налоги, уплаченные или подлежащие уплате.\n",
      "type: 3\n",
      "level: 2\n",
      "2.2. Покупатель оставляет за собой право закупки Товара на сумму меньше, указанной в п. 2.1. Договора.\n",
      "type: 2\n",
      "level: 2\n",
      "2.3. Авансирование в размере 50% от стоимости Товара Покупатель оплачивает в течении 10 (Десяти) рабочих дней с момента выставления Поставщиком счета на оплату. Счет формируется Поставщиком на основании  направленной Покупателем заявки в соответствии с п.1.2. Договора.\n",
      "type: 2\n",
      "level: 2\n",
      "2.3.1. Поставщик предоставляет Покупателю оригинал счета на оплату Товара не позднее 3 (Трех) рабочих дней с момента отправки Заявки Покупателем в соответствии с п. 1.2. Договора.\n",
      "type: 2\n",
      "level: 3\n",
      "2.4.Окончательный платеж в размере 50% от стоимости Товара Покупатель производит Поставщику в течение 10 (Десяти) рабочих дней со дня подписания Сторонами Товарной накладной, с предоставлением оригинала счета и счет-фактуры (или универсального передаточного документа (далее-УПД)). \n",
      "type: 2\n",
      "level: 2\n",
      "end?y\n",
      "Участникам запроса цен на выполнение работ согласно техническому заданию по объекту ТП: «Строительство ВЛ-0,4 кВ. Реконструкция ВЛ-0,4 кВ. Калужская область, Козельский район, д. Клюксы; Барятинский район, д. Митинка» для нужд филиала «Калугаэнерго» ПАО «МРСК Центра и Приволжья»\n",
      "type: 3\n",
      "level: 0\n",
      "Уведомление о внесении изменений   № 023/1/9-942 от 16.09.2019г.\n",
      "type: 1\n",
      "level: 0\n",
      "Организатор запроса цен -  филиал «Калугаэнерго» ПАО «МРСК Центра и Приволжья» (юридический адрес: . Калуга, ул. Грабцевское шоссе, д. 35; почтовый адрес: . Калуга, ул. Красная Гора, д. 9/12), контактное лицо Пивченко И.В., тел.: (4842) 716-364), настоящим уведомляет о внесении изменений в закупочную процедуру запроса цен на выполнение работ согласно техническому заданию по объекту ТП: «Строительство ВЛ-0,4 кВ. Реконструкция ВЛ-0,4 кВ. Калужская область, Козельский район, д. Клюксы; Барятинский район, д. Митинка» для нужд филиала «Калугаэнерго» ПАО «МРСК Центра и Приволжья». \n",
      "type: 3\n",
      "level: 1\n",
      "Первый заместитель директора – \n",
      "type: 3\n",
      "level: 1\n",
      "Главный инженер филиала «Калугаэнерго»                                      В.В. Острик\n",
      "type: 3\n",
      "level: 1\n",
      "end?y\n",
      "ИЗВЕЩЕНИЕ (ДОКУМЕНТАЦИЯ) О ПРОВЕДЕНИИ ЗАКУПКИ\n",
      "У ЕДИНСТВЕННОГО ПОСТАВЩИКА\n",
      "type: 1\n",
      "level: 0\n",
      "Способ процедуры закупки: Закупка у единственного поставщика на основании пункта 6.6.2 (9) Положения о закупке. \n",
      "type: 2\n",
      "level: 1\n",
      "Предмет договора: , (индивидуальный номер закупки – в ЕИС № 56).\n",
      "type: 2\n",
      "level: 1\n",
      "Количество товара / объем работ, услуг: .\n",
      "type: 2\n",
      "level: 1\n",
      "Заказчик закупки: ООО «Национальные технологии»\n",
      "type: 2\n",
      "level: 1\n",
      "Место нахождения: 123022, Москва г, Рочдельская ул, дом № 15, строение 16, помещение I Ч.КОМ1\n",
      "type: 3\n",
      "level: 1\n",
      "Почтовый адрес: 121059, г. Москва, ул. Брянская, д. 5, этаж 10,\n",
      "электронная почта: , Тел. +7 (495) 122-24-66\n",
      "type: 3\n",
      "level: 1\n",
      "Организатор закупки: Функции организатора закупки выполняет Заказчик \n",
      "type: 2\n",
      "level: 1\n",
      "Место поставки товара, выполнения работ, оказания услуг: \n",
      "type: 2\n",
      "level: 1\n",
      "Условия поставки товара, выполнения работ, оказания услуг: .\n",
      "type: 2\n",
      "level: 1\n",
      "Сроки (периоды) поставки товара, выполнения работ, оказания услуг:  \n",
      "type: 2\n",
      "level: 1\n",
      "Сведения о начальной (максимальной) цене договора: , с учетом всех налогов и других обязательных платежей, подлежащих уплате в соответствии с нормами законодательства.\n",
      "type: 2\n",
      "level: 1\n",
      "\tФорма, сроки и порядок оплаты продукции: .\n",
      "type: 2\n",
      "level: 1\n",
      "Порядок формирования цены договора: в соответствии с условиями проекта договора.\n",
      "type: 2\n",
      "level: 1\n",
      "Номер позиции по ОКПД2: \n",
      "type: 2\n",
      "level: 1\n",
      "Номер позиции по ОКВЭД2: \n",
      "type: 2\n",
      "level: 1\n",
      "Требования к участнику закупки: устанавливаются в соответствии с подразделом 10.4 Единого положения о закупке Государственной корпорации «Ростех».\n",
      "type: 2\n",
      "level: 1\n",
      "Дополнительные комментарии:\n",
      "type: 2\n",
      "level: 1\n",
      "Настоящее извещение информирует о заключении договора (договоров) с единственным поставщиком и не предназначено для приглашения поставщиков подавать заявки на участие в закупке. \n",
      "type: 2\n",
      "level: 2\n",
      "Настоящее извещение имеет силу документации о закупке.\n",
      "type: 2\n",
      "level: 2\n",
      "Остальные условия проведения закупки содержатся в прилагаемом проекте договора (Приложение №1 к Извещению), являющемся неотъемлемой частью настоящего извещения (документации) о закупке.\n",
      "type: 2\n",
      "level: 2\n",
      "Установленные заказчиком требования к безопасности, качеству, техническим характеристикам, функциональным характеристикам (потребительским свойствам) товара, работы, услуги, к размерам, упаковке, отгрузке товара, к результатам работы и иные требования, связанные с поставляемым товаром / выполняемой работой / оказываемой услугой приведены в проекте договора (Приложение №1 к Извещению).\n",
      "type: 2\n",
      "level: 2\n",
      "Организатор закупки вправе отказаться от проведения закупки без каких-либо последствий в любой момент до заключения договора.\n",
      "type: 2\n",
      "level: 2\n",
      "Прочие сведения:\n",
      "type: 2\n",
      "level: 1\n",
      "Срок, место и порядок предоставления документации о закупке – не устанавливается.\n",
      "type: 2\n",
      "level: 2\n",
      "Дата и время начала, окончания подачи заявок, место и порядок их подачи – не устанавливается.\n",
      "type: 2\n",
      "level: 2\n",
      "Место и дата рассмотрения, подведения итогов закупки – не устанавливается.\n",
      "type: 2\n",
      "level: 2\n",
      "Требования к содержанию, форме, оформлению и составу заявки – не устанавливается.\n",
      "type: 2\n",
      "level: 2\n",
      "Требования к описанию участниками закупки поставляемого товара, выполняемой работы, оказываемой услуги, которые являются предметом закупки, их функциональных характеристик (потребительских свойств), количественных и качественных характеристик – не устанавливается.\n",
      "type: 2\n",
      "level: 2\n",
      "Форма, порядок и срок предоставления разъяснений положений документации о закупке – не устанавливается.\n",
      "type: 2\n",
      "level: 2\n",
      "Критерии и порядок оценки и сопоставления заявок – не устанавливается.\n",
      "type: 2\n",
      "level: 2\n",
      "Возможность проведения преддоговорных переговоров –  допускается.\n",
      "type: 2\n",
      "level: 2\n",
      "Приложения:\n",
      "type: 2\n",
      "level: 1\n",
      "Приложение №1 к Извещению – Проект договора. \n"
     ]
    },
    {
     "name": "stdout",
     "output_type": "stream",
     "text": [
      "type: 2\n",
      "level: 1\n",
      "end?y\n"
     ]
    }
   ],
   "source": [
    "# [{\"name\", \"paragrahps\": [{\"text\", \"type\", \"level\"}]}]\n",
    "# type - header - 1, list - 2, text - 3\n",
    "# numeration begins with 0\n",
    "results = []\n",
    "\n",
    "for i in range(1, 4):\n",
    "    path = f\"examples/test_examples/{i}.docx\"\n",
    "    document = docx.Document(path)\n",
    "    item = {\"name\": path}\n",
    "    item[\"paragraphs\"] = []\n",
    "    end = False\n",
    "    while not end:\n",
    "        for paragraph in document.paragraphs:\n",
    "            if not p or not paragraph.text.strip():\n",
    "                continue\n",
    "            p = {\"text\": paragraph.text}\n",
    "            print(paragraph.text)\n",
    "            type_ = input(\"type: \")\n",
    "            level = input(\"level: \")\n",
    "            p[\"type\"] = type_\n",
    "            p[\"level\"] = level\n",
    "            item[\"paragraphs\"].append(p)\n",
    "        answer = input(\"end?\")\n",
    "        if answer == \"y\":\n",
    "            end = True\n",
    "            results.append(item)"
   ]
  },
  {
   "cell_type": "code",
   "execution_count": 95,
   "metadata": {},
   "outputs": [],
   "source": [
    "with open('examples/test_examples/labeled.json', \"w\") as f:\n",
    "    json.dump(results, f)"
   ]
  },
  {
   "cell_type": "code",
   "execution_count": 96,
   "metadata": {},
   "outputs": [],
   "source": [
    "with open('examples/test_examples/labeled.json', \"r\") as f:\n",
    "    test_data = json.load(f)"
   ]
  },
  {
   "cell_type": "code",
   "execution_count": 97,
   "metadata": {},
   "outputs": [],
   "source": [
    "clear_test_data = []\n",
    "\n",
    "for item in test_data:\n",
    "    new_item = {\"name\": item[\"name\"], \"paragraphs\": []}\n",
    "    for p in item['paragraphs']:\n",
    "        p_info = {}\n",
    "        if p['text'].strip():\n",
    "            p_info['text'] = p['text'].strip()\n",
    "            p_info['type'] = int(p['type'])\n",
    "            p_info['level'] = int(p['level'])\n",
    "            new_item[\"paragraphs\"].append(p_info)\n",
    "    if new_item[\"paragraphs\"]:\n",
    "        clear_test_data.append(new_item)"
   ]
  },
  {
   "cell_type": "code",
   "execution_count": 98,
   "metadata": {},
   "outputs": [],
   "source": [
    "# clear_data[3]['paragraphs'] = clear_data[3]['paragraphs'][:4]\n",
    "# clear_data[0]"
   ]
  },
  {
   "cell_type": "code",
   "execution_count": 99,
   "metadata": {},
   "outputs": [],
   "source": [
    "test_data_without_labels = []\n",
    "test_labels = []\n",
    "\n",
    "for item in clear_test_data:\n",
    "    new_item = {\"name\": item[\"name\"], \"paragraphs\": []}\n",
    "    for p in item['paragraphs']:\n",
    "        new_item[\"paragraphs\"].append(p[\"text\"])\n",
    "        test_labels.append((p[\"type\"], p[\"level\"]))\n",
    "    test_data_without_labels.append(new_item)"
   ]
  },
  {
   "cell_type": "markdown",
   "metadata": {},
   "source": [
    "#### Признаки\n",
    "\n",
    "* жирность, курсив, подчеркивание, размер, выравнивание, отступ с помощью DOCXParser\n",
    "* число символов в первом слове\n",
    "* число цифр в первом слове\n",
    "* длина строки\n",
    "* начало с тире, цифры, буквы и т. п.\n",
    "* те же признаки для предыдущего и следующего параграфов\n",
    "* наличие стиля heading, type из DOCXParser"
   ]
  },
  {
   "cell_type": "code",
   "execution_count": 68,
   "metadata": {},
   "outputs": [],
   "source": [
    "alignment2number = {\n",
    "    \"left\": 0,\n",
    "    \"right\": 1,\n",
    "    \"center\": 2,\n",
    "    \"both\": 3\n",
    "}\n",
    "\n",
    "type2number = {\n",
    "    \"paragraph\": 1,\n",
    "    \"list_item\": 2,\n",
    "    \"raw_text\": 3\n",
    "}\n",
    "\n",
    "\n",
    "def find_paragraph(paragraph_list, text):\n",
    "    for p in paragraph_list:\n",
    "        # TODO correct comparison\n",
    "#         print(f\"real text={' '.join(p['text'].split())}\")\n",
    "#         print(f\"text={' '.join(text.split())}\")\n",
    "#         print(\"===========\")\n",
    "        if \" \".join(p[\"text\"].split()).find(\" \".join(text.split())) != -1:\n",
    "            result = p.copy()\n",
    "            paragraph_list.remove(p)\n",
    "            return result\n",
    "    return None\n",
    "#     raise KeyError(f\"paragraph {text} not found in the document {paragraph_list}\")\n",
    "    \n",
    "\n",
    "def extract_annotations(annotations):\n",
    "    result = {\"indent\": [0, 0, 0, 0], \"alignment\": 0, \"size\": 0, \"bold\": 0, \"italic\": 0, \"underlined\": 0}\n",
    "    if not annotations:\n",
    "        return result\n",
    "    for start, end, annotation in annotations:\n",
    "        if annotation.startswith(\"indent\"):\n",
    "            d = json.loads(re.sub(\"'\", '\"', annotation[7:]))\n",
    "            result[\"indent\"] = [d[\"left\"], d[\"start\"], d[\"hanging\"], d[\"firstLine\"]]\n",
    "        elif annotation.startswith(\"alignment\"):\n",
    "            result[\"alignment\"] = alignment2number[annotation[10:]]\n",
    "        elif annotation.startswith(\"size\"):\n",
    "            result[\"size\"] = int(annotation[5:])\n",
    "        else:\n",
    "            for item in [\"bold\", \"italic\", \"underlined\"]:\n",
    "                if annotation.startswith(item):\n",
    "                    result[item] = 1\n",
    "                    break\n",
    "    return result\n",
    "            \n",
    "\n",
    "def extract_doc_features(docs_info):\n",
    "    \"\"\"\n",
    "    docs_info = list of {\"name\", \"paragraphs\": [\"text of 1 line\", \"text of 2 line\"]}\n",
    "    returns list of features for each paragraph\n",
    "    \"\"\"\n",
    "    features = []\n",
    "    for doc_info in docs_info:\n",
    "        path = doc_info[\"name\"]\n",
    "        parser = DOCXParser(path)\n",
    "        lines_info = parser.get_lines_with_meta()\n",
    "        for p in doc_info[\"paragraphs\"]:\n",
    "            p_features = []\n",
    "            p_info = find_paragraph(lines_info, p)\n",
    "            if p_info:\n",
    "                p_features.append(type2number[p_info[\"type\"]])\n",
    "            else:\n",
    "                p_features.append(3)\n",
    "                p_info = {\"text\": \"\", \"annotations\": None}\n",
    "            p_annotations = extract_annotations(p_info[\"annotations\"])\n",
    "            p_features += p_annotations[\"indent\"]\n",
    "            p_features += [p_annotations[\"alignment\"], p_annotations[\"size\"], \n",
    "                          p_annotations[\"bold\"], p_annotations[\"italic\"], p_annotations[\"underlined\"]]\n",
    "            p_features.append(len(p_info[\"text\"].split()))\n",
    "            \n",
    "            if p_info[\"text\"].split():\n",
    "                first_word = p_info[\"text\"].split()[0]\n",
    "            else:\n",
    "                first_word = \"\"\n",
    "            p_features.append(len(first_word))\n",
    "            p_features.append(len(re.findall(r\"\\d+\", first_word)))\n",
    "            features.append(p_features)\n",
    "    return features"
   ]
  },
  {
   "cell_type": "code",
   "execution_count": 100,
   "metadata": {},
   "outputs": [],
   "source": [
    "test_features = extract_doc_features(test_data_without_labels)"
   ]
  },
  {
   "cell_type": "code",
   "execution_count": 101,
   "metadata": {},
   "outputs": [],
   "source": [
    "test_features = np.array(test_features)"
   ]
  },
  {
   "cell_type": "code",
   "execution_count": 102,
   "metadata": {},
   "outputs": [
    {
     "data": {
      "text/plain": [
       "((55, 13), 55)"
      ]
     },
     "execution_count": 102,
     "metadata": {},
     "output_type": "execute_result"
    }
   ],
   "source": [
    "test_features.shape, len(test_labels)"
   ]
  },
  {
   "cell_type": "code",
   "execution_count": 103,
   "metadata": {},
   "outputs": [],
   "source": [
    "test_y = [y*10 + x for x, y in test_labels]"
   ]
  },
  {
   "cell_type": "code",
   "execution_count": 79,
   "metadata": {},
   "outputs": [],
   "source": [
    "# clf = xgb.XGBClassifier()"
   ]
  },
  {
   "cell_type": "code",
   "execution_count": 82,
   "metadata": {},
   "outputs": [
    {
     "data": {
      "text/plain": [
       "XGBClassifier(base_score=0.5, booster='gbtree', colsample_bylevel=1,\n",
       "              colsample_bynode=1, colsample_bytree=1, gamma=0, gpu_id=-1,\n",
       "              importance_type='gain', interaction_constraints='',\n",
       "              learning_rate=0.300000012, max_delta_step=0, max_depth=6,\n",
       "              min_child_weight=1, missing=nan, monotone_constraints='()',\n",
       "              n_estimators=100, n_jobs=0, num_parallel_tree=1,\n",
       "              objective='multi:softprob', random_state=0, reg_alpha=0,\n",
       "              reg_lambda=1, scale_pos_weight=None, subsample=1,\n",
       "              tree_method='exact', validate_parameters=1, verbosity=None)"
      ]
     },
     "execution_count": 82,
     "metadata": {},
     "output_type": "execute_result"
    }
   ],
   "source": [
    "# clf.fit(features, y)"
   ]
  },
  {
   "cell_type": "code",
   "execution_count": 104,
   "metadata": {},
   "outputs": [
    {
     "data": {
      "text/plain": [
       "0.518019437877594"
      ]
     },
     "execution_count": 104,
     "metadata": {},
     "output_type": "execute_result"
    }
   ],
   "source": [
    "f1_score(test_y, clf.predict(test_features), average='macro')"
   ]
  },
  {
   "cell_type": "code",
   "execution_count": null,
   "metadata": {},
   "outputs": [],
   "source": []
  }
 ],
 "metadata": {
  "kernelspec": {
   "display_name": "Python 3",
   "language": "python",
   "name": "python3"
  },
  "language_info": {
   "codemirror_mode": {
    "name": "ipython",
    "version": 3
   },
   "file_extension": ".py",
   "mimetype": "text/x-python",
   "name": "python",
   "nbconvert_exporter": "python",
   "pygments_lexer": "ipython3",
   "version": "3.8.5"
  }
 },
 "nbformat": 4,
 "nbformat_minor": 4
}
